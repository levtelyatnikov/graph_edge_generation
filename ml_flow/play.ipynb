{
 "cells": [
  {
   "cell_type": "code",
   "execution_count": null,
   "metadata": {},
   "outputs": [],
   "source": [
    "import sys\n",
    "sys.path.append(\"/home/lev/object-centric/edge-generation/datasets\")\n",
    "from preprocess_dataset import upload_data\n",
    "\n",
    "import pandas as pd\n",
    "import numpy as np\n",
    "from sklearn.pipeline import make_pipeline\n",
    "from sklearn.preprocessing import StandardScaler\n",
    "from sklearn.model_selection import train_test_split\n",
    "from torchmetrics import Accuracy, AveragePrecision, AUROC\n",
    "from sklearn.svm import SVC\n",
    "from sklearn.linear_model import LogisticRegression\n",
    "from sklearn.metrics import f1_score, accuracy_score\n",
    "acc = Accuracy()\n",
    "datasets_path = '/home/lev/object-centric/edge-generation/configs/datasets.cvs'\n",
    "data = pd.read_csv(datasets_path, sep='\\t', index_col=0)\n",
    "new_cols = []\n",
    "for row in data.iloc:\n",
    "    print(row[0])\n",
    "    name, path = row[0], row[-1]\n",
    "    features, labels = upload_data(name)\n",
    "    features, labels  = features.numpy(), labels.numpy()\n",
    "    if features.shape[0] > 20000:\n",
    "        new_cols.append([0, 0, 0, 0])\n",
    "        continue\n",
    "    X_train, X_val, y_train, y_val = train_test_split(features, labels,\n",
    "                                                            test_size=0.3,\n",
    "                                                            random_state=0)\n",
    "\n",
    "    clf = make_pipeline(StandardScaler(), SVC(gamma='auto'))\n",
    "    clf.fit(X_train, y_train)\n",
    "    preds = clf.predict(X_val)\n",
    "    f1_svm = np.round(f1_score(preds, y_val, average='macro'), 4)\n",
    "    acc_svm = np.round(accuracy_score(preds, y_val), 4)\n",
    "\n",
    "    clf = make_pipeline(StandardScaler(), LogisticRegression(random_state=0, max_iter=1000))\n",
    "    clf.fit(X_train, y_train)\n",
    "    preds = clf.predict(X_val)\n",
    "    f1_lin = np.round(f1_score(preds, y_val, average='macro'), 4)\n",
    "    acc_lin = np.round(accuracy_score(preds, y_val), 4)\n",
    "    \n",
    "    new_cols.append([f1_svm, acc_svm, f1_lin, acc_lin])\n",
    "    \n",
    "data = pd.concat([data,pd.DataFrame(new_cols, columns = ['f1_svm', 'acc_svm', 'f1_lin', 'acc_lin'])], axis=1)\n",
    "save_path = \"/home/lev/object-centric/edge-generation/configs/datasets.cvs\"\n",
    "data.to_csv(save_path, sep='\\t')"
   ]
  }
 ],
 "metadata": {
  "interpreter": {
   "hash": "1061a560117fc1d554286580e6b04c6556bc2e7c165f8614bc58451a75851637"
  },
  "kernelspec": {
   "display_name": "Python 3.9.7 ('lev_eg')",
   "language": "python",
   "name": "python3"
  },
  "language_info": {
   "codemirror_mode": {
    "name": "ipython",
    "version": 3
   },
   "file_extension": ".py",
   "mimetype": "text/x-python",
   "name": "python",
   "nbconvert_exporter": "python",
   "pygments_lexer": "ipython3",
   "version": "3.9.7"
  },
  "orig_nbformat": 4
 },
 "nbformat": 4,
 "nbformat_minor": 2
}
