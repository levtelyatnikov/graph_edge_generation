{
 "cells": [
  {
   "cell_type": "code",
   "execution_count": 3,
   "metadata": {},
   "outputs": [
    {
     "ename": "ValueError",
     "evalue": "GlobalHydra is already initialized, call GlobalHydra.instance().clear() if you want to re-initialize",
     "output_type": "error",
     "traceback": [
      "\u001b[0;31m---------------------------------------------------------------------------\u001b[0m",
      "\u001b[0;31mValueError\u001b[0m                                Traceback (most recent call last)",
      "\u001b[0;32m/tmp/ipykernel_2237673/2002610243.py\u001b[0m in \u001b[0;36m<module>\u001b[0;34m\u001b[0m\n\u001b[1;32m     14\u001b[0m \u001b[0;32mimport\u001b[0m \u001b[0mnumpy\u001b[0m \u001b[0;32mas\u001b[0m \u001b[0mnp\u001b[0m\u001b[0;34m\u001b[0m\u001b[0;34m\u001b[0m\u001b[0m\n\u001b[1;32m     15\u001b[0m \u001b[0;34m\u001b[0m\u001b[0m\n\u001b[0;32m---> 16\u001b[0;31m \u001b[0minitialize\u001b[0m\u001b[0;34m(\u001b[0m\u001b[0mconfig_path\u001b[0m\u001b[0;34m=\u001b[0m\u001b[0;34m\"configs/\"\u001b[0m\u001b[0;34m,\u001b[0m \u001b[0mjob_name\u001b[0m\u001b[0;34m=\u001b[0m\u001b[0;34m\"test_app\"\u001b[0m\u001b[0;34m)\u001b[0m\u001b[0;34m\u001b[0m\u001b[0;34m\u001b[0m\u001b[0m\n\u001b[0m",
      "\u001b[0;32m/opt/anaconda3/envs/lev_eg/lib/python3.9/site-packages/hydra/initialize.py\u001b[0m in \u001b[0;36m__init__\u001b[0;34m(self, config_path, job_name, caller_stack_depth)\u001b[0m\n\u001b[1;32m     82\u001b[0m             )\n\u001b[1;32m     83\u001b[0m \u001b[0;34m\u001b[0m\u001b[0m\n\u001b[0;32m---> 84\u001b[0;31m         Hydra.create_main_hydra_file_or_module(\n\u001b[0m\u001b[1;32m     85\u001b[0m             \u001b[0mcalling_file\u001b[0m\u001b[0;34m=\u001b[0m\u001b[0mcalling_file\u001b[0m\u001b[0;34m,\u001b[0m\u001b[0;34m\u001b[0m\u001b[0;34m\u001b[0m\u001b[0m\n\u001b[1;32m     86\u001b[0m             \u001b[0mcalling_module\u001b[0m\u001b[0;34m=\u001b[0m\u001b[0mcalling_module\u001b[0m\u001b[0;34m,\u001b[0m\u001b[0;34m\u001b[0m\u001b[0;34m\u001b[0m\u001b[0m\n",
      "\u001b[0;32m/opt/anaconda3/envs/lev_eg/lib/python3.9/site-packages/hydra/_internal/hydra.py\u001b[0m in \u001b[0;36mcreate_main_hydra_file_or_module\u001b[0;34m(cls, calling_file, calling_module, config_path, job_name)\u001b[0m\n\u001b[1;32m     51\u001b[0m         )\n\u001b[1;32m     52\u001b[0m \u001b[0;34m\u001b[0m\u001b[0m\n\u001b[0;32m---> 53\u001b[0;31m         \u001b[0;32mreturn\u001b[0m \u001b[0mHydra\u001b[0m\u001b[0;34m.\u001b[0m\u001b[0mcreate_main_hydra2\u001b[0m\u001b[0;34m(\u001b[0m\u001b[0mjob_name\u001b[0m\u001b[0;34m,\u001b[0m \u001b[0mconfig_search_path\u001b[0m\u001b[0;34m)\u001b[0m\u001b[0;34m\u001b[0m\u001b[0;34m\u001b[0m\u001b[0m\n\u001b[0m\u001b[1;32m     54\u001b[0m \u001b[0;34m\u001b[0m\u001b[0m\n\u001b[1;32m     55\u001b[0m     \u001b[0;34m@\u001b[0m\u001b[0mclassmethod\u001b[0m\u001b[0;34m\u001b[0m\u001b[0;34m\u001b[0m\u001b[0m\n",
      "\u001b[0;32m/opt/anaconda3/envs/lev_eg/lib/python3.9/site-packages/hydra/_internal/hydra.py\u001b[0m in \u001b[0;36mcreate_main_hydra2\u001b[0;34m(cls, task_name, config_search_path)\u001b[0m\n\u001b[1;32m     66\u001b[0m         \u001b[0;32mfrom\u001b[0m \u001b[0mhydra\u001b[0m\u001b[0;34m.\u001b[0m\u001b[0mcore\u001b[0m\u001b[0;34m.\u001b[0m\u001b[0mglobal_hydra\u001b[0m \u001b[0;32mimport\u001b[0m \u001b[0mGlobalHydra\u001b[0m\u001b[0;34m\u001b[0m\u001b[0;34m\u001b[0m\u001b[0m\n\u001b[1;32m     67\u001b[0m \u001b[0;34m\u001b[0m\u001b[0m\n\u001b[0;32m---> 68\u001b[0;31m         \u001b[0mGlobalHydra\u001b[0m\u001b[0;34m.\u001b[0m\u001b[0minstance\u001b[0m\u001b[0;34m(\u001b[0m\u001b[0;34m)\u001b[0m\u001b[0;34m.\u001b[0m\u001b[0minitialize\u001b[0m\u001b[0;34m(\u001b[0m\u001b[0mhydra\u001b[0m\u001b[0;34m)\u001b[0m\u001b[0;34m\u001b[0m\u001b[0;34m\u001b[0m\u001b[0m\n\u001b[0m\u001b[1;32m     69\u001b[0m         \u001b[0;32mreturn\u001b[0m \u001b[0mhydra\u001b[0m\u001b[0;34m\u001b[0m\u001b[0;34m\u001b[0m\u001b[0m\n\u001b[1;32m     70\u001b[0m \u001b[0;34m\u001b[0m\u001b[0m\n",
      "\u001b[0;32m/opt/anaconda3/envs/lev_eg/lib/python3.9/site-packages/hydra/core/global_hydra.py\u001b[0m in \u001b[0;36minitialize\u001b[0;34m(self, hydra)\u001b[0m\n\u001b[1;32m     14\u001b[0m         \u001b[0;32massert\u001b[0m \u001b[0misinstance\u001b[0m\u001b[0;34m(\u001b[0m\u001b[0mhydra\u001b[0m\u001b[0;34m,\u001b[0m \u001b[0mHydra\u001b[0m\u001b[0;34m)\u001b[0m\u001b[0;34m,\u001b[0m \u001b[0;34mf\"Unexpected Hydra type : {type(hydra)}\"\u001b[0m\u001b[0;34m\u001b[0m\u001b[0;34m\u001b[0m\u001b[0m\n\u001b[1;32m     15\u001b[0m         \u001b[0;32mif\u001b[0m \u001b[0mself\u001b[0m\u001b[0;34m.\u001b[0m\u001b[0mis_initialized\u001b[0m\u001b[0;34m(\u001b[0m\u001b[0;34m)\u001b[0m\u001b[0;34m:\u001b[0m\u001b[0;34m\u001b[0m\u001b[0;34m\u001b[0m\u001b[0m\n\u001b[0;32m---> 16\u001b[0;31m             raise ValueError(\n\u001b[0m\u001b[1;32m     17\u001b[0m                 \u001b[0;34m\"GlobalHydra is already initialized, call GlobalHydra.instance().clear() if you want to re-initialize\"\u001b[0m\u001b[0;34m\u001b[0m\u001b[0;34m\u001b[0m\u001b[0m\n\u001b[1;32m     18\u001b[0m             )\n",
      "\u001b[0;31mValueError\u001b[0m: GlobalHydra is already initialized, call GlobalHydra.instance().clear() if you want to re-initialize"
     ]
    }
   ],
   "source": [
    "import sys\n",
    "sys.path.append('/home/lev/object-centric/edge-generation/models/')\n",
    "import torch_geometric\n",
    "import torch\n",
    "from omegaconf import OmegaConf\n",
    "from dataloader import PL_DataModule\n",
    "from models.model import Network\n",
    "\n",
    "import hydra\n",
    "\n",
    "from hydra import compose, initialize\n",
    "from omegaconf import OmegaConf\n",
    "from sklearn.metrics import confusion_matrix\n",
    "import numpy as np\n",
    "\n",
    "initialize(config_path=\"configs/\", job_name=\"test_app\")\n"
   ]
  },
  {
   "cell_type": "code",
   "execution_count": 38,
   "metadata": {},
   "outputs": [
    {
     "data": {
      "text/plain": [
       "3    2198\n",
       "2    1457\n",
       "4     880\n",
       "5     175\n",
       "1     163\n",
       "0      20\n",
       "6       5\n",
       "Name: clase, dtype: int64"
      ]
     },
     "execution_count": 38,
     "metadata": {},
     "output_type": "execute_result"
    }
   ],
   "source": [
    "import pandas as pd\n",
    "df = pd.read_csv('/home/lev/datasets/classification_data/wine-quality-white/wine-quality-white_R.dat', index_col=0, sep='\\t')\n",
    "\n",
    "df.clase.value_counts()"
   ]
  },
  {
   "cell_type": "code",
   "execution_count": 49,
   "metadata": {},
   "outputs": [
    {
     "data": {
      "text/plain": [
       "3    2198\n",
       "2    1457\n",
       "4     880\n",
       "Name: clase, dtype: int64"
      ]
     },
     "execution_count": 49,
     "metadata": {},
     "output_type": "execute_result"
    }
   ],
   "source": [
    "n_initial = df.shape[0]\n",
    "df = df.groupby('clase').filter(lambda x : len(x)/n_initial >0.05)\n",
    "df.clase.value_counts()"
   ]
  },
  {
   "cell_type": "code",
   "execution_count": 51,
   "metadata": {},
   "outputs": [],
   "source": [
    "df.reset_index(inplace=True, drop=True)"
   ]
  },
  {
   "cell_type": "code",
   "execution_count": 37,
   "metadata": {},
   "outputs": [
    {
     "data": {
      "text/html": [
       "<div>\n",
       "<style scoped>\n",
       "    .dataframe tbody tr th:only-of-type {\n",
       "        vertical-align: middle;\n",
       "    }\n",
       "\n",
       "    .dataframe tbody tr th {\n",
       "        vertical-align: top;\n",
       "    }\n",
       "\n",
       "    .dataframe thead th {\n",
       "        text-align: right;\n",
       "    }\n",
       "</style>\n",
       "<table border=\"1\" class=\"dataframe\">\n",
       "  <thead>\n",
       "    <tr style=\"text-align: right;\">\n",
       "      <th></th>\n",
       "      <th>f1</th>\n",
       "      <th>f2</th>\n",
       "      <th>f3</th>\n",
       "      <th>f4</th>\n",
       "      <th>f5</th>\n",
       "      <th>f6</th>\n",
       "      <th>f7</th>\n",
       "      <th>f8</th>\n",
       "      <th>f9</th>\n",
       "      <th>f10</th>\n",
       "      <th>f11</th>\n",
       "    </tr>\n",
       "    <tr>\n",
       "      <th>clase</th>\n",
       "      <th></th>\n",
       "      <th></th>\n",
       "      <th></th>\n",
       "      <th></th>\n",
       "      <th></th>\n",
       "      <th></th>\n",
       "      <th></th>\n",
       "      <th></th>\n",
       "      <th></th>\n",
       "      <th></th>\n",
       "      <th></th>\n",
       "    </tr>\n",
       "  </thead>\n",
       "  <tbody>\n",
       "    <tr>\n",
       "      <th>0</th>\n",
       "      <td>20</td>\n",
       "      <td>20</td>\n",
       "      <td>20</td>\n",
       "      <td>20</td>\n",
       "      <td>20</td>\n",
       "      <td>20</td>\n",
       "      <td>20</td>\n",
       "      <td>20</td>\n",
       "      <td>20</td>\n",
       "      <td>20</td>\n",
       "      <td>20</td>\n",
       "    </tr>\n",
       "    <tr>\n",
       "      <th>1</th>\n",
       "      <td>163</td>\n",
       "      <td>163</td>\n",
       "      <td>163</td>\n",
       "      <td>163</td>\n",
       "      <td>163</td>\n",
       "      <td>163</td>\n",
       "      <td>163</td>\n",
       "      <td>163</td>\n",
       "      <td>163</td>\n",
       "      <td>163</td>\n",
       "      <td>163</td>\n",
       "    </tr>\n",
       "    <tr>\n",
       "      <th>2</th>\n",
       "      <td>1457</td>\n",
       "      <td>1457</td>\n",
       "      <td>1457</td>\n",
       "      <td>1457</td>\n",
       "      <td>1457</td>\n",
       "      <td>1457</td>\n",
       "      <td>1457</td>\n",
       "      <td>1457</td>\n",
       "      <td>1457</td>\n",
       "      <td>1457</td>\n",
       "      <td>1457</td>\n",
       "    </tr>\n",
       "    <tr>\n",
       "      <th>3</th>\n",
       "      <td>2198</td>\n",
       "      <td>2198</td>\n",
       "      <td>2198</td>\n",
       "      <td>2198</td>\n",
       "      <td>2198</td>\n",
       "      <td>2198</td>\n",
       "      <td>2198</td>\n",
       "      <td>2198</td>\n",
       "      <td>2198</td>\n",
       "      <td>2198</td>\n",
       "      <td>2198</td>\n",
       "    </tr>\n",
       "    <tr>\n",
       "      <th>4</th>\n",
       "      <td>880</td>\n",
       "      <td>880</td>\n",
       "      <td>880</td>\n",
       "      <td>880</td>\n",
       "      <td>880</td>\n",
       "      <td>880</td>\n",
       "      <td>880</td>\n",
       "      <td>880</td>\n",
       "      <td>880</td>\n",
       "      <td>880</td>\n",
       "      <td>880</td>\n",
       "    </tr>\n",
       "    <tr>\n",
       "      <th>5</th>\n",
       "      <td>175</td>\n",
       "      <td>175</td>\n",
       "      <td>175</td>\n",
       "      <td>175</td>\n",
       "      <td>175</td>\n",
       "      <td>175</td>\n",
       "      <td>175</td>\n",
       "      <td>175</td>\n",
       "      <td>175</td>\n",
       "      <td>175</td>\n",
       "      <td>175</td>\n",
       "    </tr>\n",
       "    <tr>\n",
       "      <th>6</th>\n",
       "      <td>5</td>\n",
       "      <td>5</td>\n",
       "      <td>5</td>\n",
       "      <td>5</td>\n",
       "      <td>5</td>\n",
       "      <td>5</td>\n",
       "      <td>5</td>\n",
       "      <td>5</td>\n",
       "      <td>5</td>\n",
       "      <td>5</td>\n",
       "      <td>5</td>\n",
       "    </tr>\n",
       "  </tbody>\n",
       "</table>\n",
       "</div>"
      ],
      "text/plain": [
       "         f1    f2    f3    f4    f5    f6    f7    f8    f9   f10   f11\n",
       "clase                                                                  \n",
       "0        20    20    20    20    20    20    20    20    20    20    20\n",
       "1       163   163   163   163   163   163   163   163   163   163   163\n",
       "2      1457  1457  1457  1457  1457  1457  1457  1457  1457  1457  1457\n",
       "3      2198  2198  2198  2198  2198  2198  2198  2198  2198  2198  2198\n",
       "4       880   880   880   880   880   880   880   880   880   880   880\n",
       "5       175   175   175   175   175   175   175   175   175   175   175\n",
       "6         5     5     5     5     5     5     5     5     5     5     5"
      ]
     },
     "execution_count": 37,
     "metadata": {},
     "output_type": "execute_result"
    }
   ],
   "source": [
    "g.count()"
   ]
  },
  {
   "cell_type": "code",
   "execution_count": 25,
   "metadata": {},
   "outputs": [
    {
     "data": {
      "text/plain": [
       "3    False\n",
       "2    False\n",
       "4    False\n",
       "5     True\n",
       "1     True\n",
       "0     True\n",
       "6     True\n",
       "Name: clase, dtype: bool"
      ]
     },
     "execution_count": 25,
     "metadata": {},
     "output_type": "execute_result"
    }
   ],
   "source": [
    "((df.clase.value_counts()/df.clase.count())<0.05)"
   ]
  },
  {
   "cell_type": "code",
   "execution_count": 34,
   "metadata": {},
   "outputs": [
    {
     "data": {
      "text/plain": [
       "[2198, 1457, 880, 175, 163, 20, 5]"
      ]
     },
     "execution_count": 34,
     "metadata": {},
     "output_type": "execute_result"
    }
   ],
   "source": [
    "df.clase.value_counts()"
   ]
  },
  {
   "cell_type": "code",
   "execution_count": 4,
   "metadata": {},
   "outputs": [
    {
     "name": "stdout",
     "output_type": "stream",
     "text": [
      "train set shape torch.Size([2676, 62])\n",
      "parents (5352,)\n",
      "val set shape torch.Size([1147, 62])\n",
      "parents (2294,)\n"
     ]
    }
   ],
   "source": [
    "cfg = compose(config_name=\"defaults\")\n",
    "pl = PL_DataModule(cfg.dataloader)\n",
    "batch = next(iter(pl.train_dataloader()))"
   ]
  },
  {
   "cell_type": "code",
   "execution_count": 3,
   "metadata": {},
   "outputs": [],
   "source": [
    "a, b = batch.edge_index"
   ]
  },
  {
   "cell_type": "code",
   "execution_count": 4,
   "metadata": {},
   "outputs": [
    {
     "data": {
      "text/plain": [
       "tensor([[301,   0, 664,  ..., 576, 530, 798],\n",
       "        [  0,   0,   1,  ..., 797, 798, 798]])"
      ]
     },
     "execution_count": 4,
     "metadata": {},
     "output_type": "execute_result"
    }
   ],
   "source": [
    "batch.edge_index\n"
   ]
  },
  {
   "cell_type": "code",
   "execution_count": null,
   "metadata": {},
   "outputs": [],
   "source": [
    "\n"
   ]
  },
  {
   "cell_type": "code",
   "execution_count": 6,
   "metadata": {},
   "outputs": [
    {
     "data": {
      "text/plain": [
       "tensor([1, 1])"
      ]
     },
     "execution_count": 6,
     "metadata": {},
     "output_type": "execute_result"
    }
   ],
   "source": [
    "batch.y[[108,  81]]"
   ]
  },
  {
   "cell_type": "code",
   "execution_count": 62,
   "metadata": {},
   "outputs": [
    {
     "data": {
      "text/plain": [
       "array([1, 0, 3, 2, 4])"
      ]
     },
     "execution_count": 62,
     "metadata": {},
     "output_type": "execute_result"
    }
   ],
   "source": [
    "np.argsort(np.array([2,1,4,2,4]))\n"
   ]
  },
  {
   "cell_type": "code",
   "execution_count": 2,
   "metadata": {},
   "outputs": [
    {
     "ename": "RuntimeError",
     "evalue": "The expanded size of the tensor (3) must match the existing size (2) at non-singleton dimension 1.  Target sizes: [3, 3].  Tensor sizes: [1, 2]",
     "output_type": "error",
     "traceback": [
      "\u001b[0;31m---------------------------------------------------------------------------\u001b[0m",
      "\u001b[0;31mRuntimeError\u001b[0m                              Traceback (most recent call last)",
      "\u001b[0;32m/tmp/ipykernel_2432948/3827406736.py\u001b[0m in \u001b[0;36m<module>\u001b[0;34m\u001b[0m\n\u001b[1;32m      6\u001b[0m \u001b[0;34m\u001b[0m\u001b[0m\n\u001b[1;32m      7\u001b[0m \u001b[0;31m# Broadcasting in the first and last dim.\u001b[0m\u001b[0;34m\u001b[0m\u001b[0;34m\u001b[0m\u001b[0m\n\u001b[0;32m----> 8\u001b[0;31m \u001b[0mout\u001b[0m \u001b[0;34m=\u001b[0m \u001b[0mscatter\u001b[0m\u001b[0;34m(\u001b[0m\u001b[0msrc\u001b[0m\u001b[0;34m,\u001b[0m \u001b[0mindex\u001b[0m\u001b[0;34m,\u001b[0m \u001b[0mdim\u001b[0m\u001b[0;34m=\u001b[0m\u001b[0;36m0\u001b[0m\u001b[0;34m,\u001b[0m \u001b[0mreduce\u001b[0m\u001b[0;34m=\u001b[0m\u001b[0;34m\"max\"\u001b[0m\u001b[0;34m,\u001b[0m \u001b[0mdim_size\u001b[0m\u001b[0;34m=\u001b[0m\u001b[0;36m0\u001b[0m\u001b[0;34m)\u001b[0m\u001b[0;34m\u001b[0m\u001b[0;34m\u001b[0m\u001b[0m\n\u001b[0m\u001b[1;32m      9\u001b[0m \u001b[0;34m\u001b[0m\u001b[0m\n\u001b[1;32m     10\u001b[0m \u001b[0mprint\u001b[0m\u001b[0;34m(\u001b[0m\u001b[0mout\u001b[0m\u001b[0;34m.\u001b[0m\u001b[0msize\u001b[0m\u001b[0;34m(\u001b[0m\u001b[0;34m)\u001b[0m\u001b[0;34m)\u001b[0m\u001b[0;34m\u001b[0m\u001b[0;34m\u001b[0m\u001b[0m\n",
      "\u001b[0;32m/opt/anaconda3/envs/lev_eg/lib/python3.9/site-packages/torch_scatter/scatter.py\u001b[0m in \u001b[0;36mscatter\u001b[0;34m(src, index, dim, out, dim_size, reduce)\u001b[0m\n\u001b[1;32m    158\u001b[0m         \u001b[0;32mreturn\u001b[0m \u001b[0mscatter_min\u001b[0m\u001b[0;34m(\u001b[0m\u001b[0msrc\u001b[0m\u001b[0;34m,\u001b[0m \u001b[0mindex\u001b[0m\u001b[0;34m,\u001b[0m \u001b[0mdim\u001b[0m\u001b[0;34m,\u001b[0m \u001b[0mout\u001b[0m\u001b[0;34m,\u001b[0m \u001b[0mdim_size\u001b[0m\u001b[0;34m)\u001b[0m\u001b[0;34m[\u001b[0m\u001b[0;36m0\u001b[0m\u001b[0;34m]\u001b[0m\u001b[0;34m\u001b[0m\u001b[0;34m\u001b[0m\u001b[0m\n\u001b[1;32m    159\u001b[0m     \u001b[0;32melif\u001b[0m \u001b[0mreduce\u001b[0m \u001b[0;34m==\u001b[0m \u001b[0;34m'max'\u001b[0m\u001b[0;34m:\u001b[0m\u001b[0;34m\u001b[0m\u001b[0;34m\u001b[0m\u001b[0m\n\u001b[0;32m--> 160\u001b[0;31m         \u001b[0;32mreturn\u001b[0m \u001b[0mscatter_max\u001b[0m\u001b[0;34m(\u001b[0m\u001b[0msrc\u001b[0m\u001b[0;34m,\u001b[0m \u001b[0mindex\u001b[0m\u001b[0;34m,\u001b[0m \u001b[0mdim\u001b[0m\u001b[0;34m,\u001b[0m \u001b[0mout\u001b[0m\u001b[0;34m,\u001b[0m \u001b[0mdim_size\u001b[0m\u001b[0;34m)\u001b[0m\u001b[0;34m[\u001b[0m\u001b[0;36m0\u001b[0m\u001b[0;34m]\u001b[0m\u001b[0;34m\u001b[0m\u001b[0;34m\u001b[0m\u001b[0m\n\u001b[0m\u001b[1;32m    161\u001b[0m     \u001b[0;32melse\u001b[0m\u001b[0;34m:\u001b[0m\u001b[0;34m\u001b[0m\u001b[0;34m\u001b[0m\u001b[0m\n\u001b[1;32m    162\u001b[0m         \u001b[0;32mraise\u001b[0m \u001b[0mValueError\u001b[0m\u001b[0;34m\u001b[0m\u001b[0;34m\u001b[0m\u001b[0m\n",
      "\u001b[0;32m/opt/anaconda3/envs/lev_eg/lib/python3.9/site-packages/torch_scatter/scatter.py\u001b[0m in \u001b[0;36mscatter_max\u001b[0;34m(src, index, dim, out, dim_size)\u001b[0m\n\u001b[1;32m     70\u001b[0m         \u001b[0mout\u001b[0m\u001b[0;34m:\u001b[0m \u001b[0mOptional\u001b[0m\u001b[0;34m[\u001b[0m\u001b[0mtorch\u001b[0m\u001b[0;34m.\u001b[0m\u001b[0mTensor\u001b[0m\u001b[0;34m]\u001b[0m \u001b[0;34m=\u001b[0m \u001b[0;32mNone\u001b[0m\u001b[0;34m,\u001b[0m\u001b[0;34m\u001b[0m\u001b[0;34m\u001b[0m\u001b[0m\n\u001b[1;32m     71\u001b[0m         dim_size: Optional[int] = None) -> Tuple[torch.Tensor, torch.Tensor]:\n\u001b[0;32m---> 72\u001b[0;31m     \u001b[0;32mreturn\u001b[0m \u001b[0mtorch\u001b[0m\u001b[0;34m.\u001b[0m\u001b[0mops\u001b[0m\u001b[0;34m.\u001b[0m\u001b[0mtorch_scatter\u001b[0m\u001b[0;34m.\u001b[0m\u001b[0mscatter_max\u001b[0m\u001b[0;34m(\u001b[0m\u001b[0msrc\u001b[0m\u001b[0;34m,\u001b[0m \u001b[0mindex\u001b[0m\u001b[0;34m,\u001b[0m \u001b[0mdim\u001b[0m\u001b[0;34m,\u001b[0m \u001b[0mout\u001b[0m\u001b[0;34m,\u001b[0m \u001b[0mdim_size\u001b[0m\u001b[0;34m)\u001b[0m\u001b[0;34m\u001b[0m\u001b[0;34m\u001b[0m\u001b[0m\n\u001b[0m\u001b[1;32m     73\u001b[0m \u001b[0;34m\u001b[0m\u001b[0m\n\u001b[1;32m     74\u001b[0m \u001b[0;34m\u001b[0m\u001b[0m\n",
      "\u001b[0;31mRuntimeError\u001b[0m: The expanded size of the tensor (3) must match the existing size (2) at non-singleton dimension 1.  Target sizes: [3, 3].  Tensor sizes: [1, 2]"
     ]
    }
   ],
   "source": [
    "import torch\n",
    "from torch_scatter import scatter\n",
    "\n",
    "src = torch.tensor([[1,1,1],[2,2,2],[3,4,5]])\n",
    "index = torch.tensor([[0, 1]])\n",
    "\n",
    "# Broadcasting in the first and last dim.\n",
    "out = scatter(src, index, dim=0, reduce=\"max\", dim_size=0)\n",
    "\n",
    "print(out.size())\n",
    "out"
   ]
  },
  {
   "cell_type": "code",
   "execution_count": 45,
   "metadata": {},
   "outputs": [
    {
     "name": "stdout",
     "output_type": "stream",
     "text": [
      "torch.Size([2, 6, 10])\n"
     ]
    }
   ],
   "source": [
    "from torch_scatter import scatter\n",
    "\n",
    "src = torch.randn(2, 6, 10)\n",
    "index = torch.tensor([1, 1])\n",
    "\n",
    "# Broadcasting in the first and last dim.\n",
    "out = scatter(src, index, dim=0, reduce=\"max\")\n",
    "\n",
    "print(out.size())"
   ]
  },
  {
   "cell_type": "code",
   "execution_count": 47,
   "metadata": {},
   "outputs": [
    {
     "data": {
      "text/plain": [
       "tensor([[ 0.1298,  1.6888, -0.8563, -0.7330, -0.0999, -0.8392, -1.1846, -0.8917,\n",
       "         -1.0372, -1.0898],\n",
       "        [-0.4169,  0.1476,  0.1930, -0.0396, -0.8456, -0.8403,  0.1951, -0.9264,\n",
       "         -1.4082,  0.0607],\n",
       "        [ 0.2721,  0.2493, -0.2793,  0.4379, -1.2811, -0.8412, -0.2349, -0.7101,\n",
       "         -0.2169,  0.4401],\n",
       "        [ 0.2643, -1.4714,  0.9176, -0.2817,  1.1595, -0.6253, -0.3506, -0.9749,\n",
       "          2.1830, -0.5165],\n",
       "        [ 0.8207, -0.4752, -1.1392, -0.5058,  1.3544,  1.2734, -0.0203, -0.4790,\n",
       "          0.9774, -0.0221],\n",
       "        [-0.7953,  0.7462, -0.4691, -0.1922,  0.6301, -0.7501,  1.2074, -2.2095,\n",
       "         -0.2561, -0.5320]])"
      ]
     },
     "execution_count": 47,
     "metadata": {},
     "output_type": "execute_result"
    }
   ],
   "source": [
    "src[1]"
   ]
  },
  {
   "cell_type": "code",
   "execution_count": 9,
   "metadata": {},
   "outputs": [
    {
     "data": {
      "text/plain": [
       "22026.47"
      ]
     },
     "execution_count": 9,
     "metadata": {},
     "output_type": "execute_result"
    }
   ],
   "source": [
    "\n",
    "import numpy as np\n",
    "np.round(np.exp(10), 2)\n"
   ]
  },
  {
   "cell_type": "code",
   "execution_count": 29,
   "metadata": {},
   "outputs": [
    {
     "data": {
      "text/plain": [
       "tensor([nan, nan, nan, nan, nan, nan, nan, nan, nan, nan, nan, nan, nan, nan, nan, nan, nan, nan, nan, nan, nan, nan, nan, nan,\n",
       "        0., nan, nan, nan, nan, nan, nan, nan, nan, nan, nan, nan, nan, nan, nan, nan, nan, nan, nan, nan, nan, nan, nan, nan,\n",
       "        nan, nan, nan, nan, nan, nan, nan, nan, nan, nan, nan, nan])"
      ]
     },
     "execution_count": 29,
     "metadata": {},
     "output_type": "execute_result"
    }
   ],
   "source": [
    "import torch\n",
    "\n",
    "a = torch.Tensor(10, 60) \n",
    "torch.cosine_similarity(a, a, dim=0)"
   ]
  },
  {
   "cell_type": "code",
   "execution_count": 112,
   "metadata": {},
   "outputs": [
    {
     "data": {
      "text/plain": [
       "tensor([[0.5000, 0.5000, 0.0000],\n",
       "        [0.5000, 0.0000, 0.3333],\n",
       "        [0.5000, 0.5000, 0.3333]])"
      ]
     },
     "execution_count": 112,
     "metadata": {},
     "output_type": "execute_result"
    }
   ],
   "source": [
    "a = torch.bernoulli(torch.rand_like(torch.Tensor(3, 3)))\n",
    "a/(a.sum(dim=-1)+ 1e-5)"
   ]
  },
  {
   "cell_type": "code",
   "execution_count": 111,
   "metadata": {},
   "outputs": [
    {
     "data": {
      "text/plain": [
       "tensor([[1., 1., 0.],\n",
       "        [0., 0., 0.],\n",
       "        [0., 1., 1.]])"
      ]
     },
     "execution_count": 111,
     "metadata": {},
     "output_type": "execute_result"
    }
   ],
   "source": [
    "a"
   ]
  },
  {
   "cell_type": "code",
   "execution_count": 95,
   "metadata": {},
   "outputs": [
    {
     "data": {
      "text/plain": [
       "tensor([[0, 0, 0, 1, 2],\n",
       "        [0, 1, 2, 1, 1]])"
      ]
     },
     "execution_count": 95,
     "metadata": {},
     "output_type": "execute_result"
    }
   ],
   "source": [
    "torch.nonzero(a == 1).T"
   ]
  },
  {
   "cell_type": "code",
   "execution_count": 56,
   "metadata": {},
   "outputs": [
    {
     "data": {
      "text/plain": [
       "tensor([[1.0000, 0.8638, 0.5038, 0.6631, 0.6496, 0.8820, 0.8042, 0.8355, 0.6328,\n",
       "         0.6902],\n",
       "        [0.8638, 1.0000, 0.6845, 0.6695, 0.8302, 0.9835, 0.7512, 0.9337, 0.8715,\n",
       "         0.8795],\n",
       "        [0.5038, 0.6845, 1.0000, 0.8599, 0.9737, 0.6312, 0.7232, 0.7646, 0.8175,\n",
       "         0.8846],\n",
       "        [0.6631, 0.6695, 0.8599, 1.0000, 0.8584, 0.7060, 0.9567, 0.6739, 0.7750,\n",
       "         0.8643],\n",
       "        [0.6496, 0.8302, 0.9737, 0.8584, 1.0000, 0.7822, 0.7793, 0.8642, 0.9013,\n",
       "         0.9372],\n",
       "        [0.8820, 0.9835, 0.6312, 0.7060, 0.7822, 1.0000, 0.8148, 0.8870, 0.8558,\n",
       "         0.8763],\n",
       "        [0.8042, 0.7512, 0.7232, 0.9567, 0.7793, 0.8148, 1.0000, 0.6969, 0.7694,\n",
       "         0.8380],\n",
       "        [0.8355, 0.9337, 0.7646, 0.6739, 0.8642, 0.8870, 0.6969, 1.0000, 0.7466,\n",
       "         0.8865],\n",
       "        [0.6328, 0.8715, 0.8175, 0.7750, 0.9013, 0.8558, 0.7694, 0.7466, 1.0000,\n",
       "         0.8768],\n",
       "        [0.6902, 0.8795, 0.8846, 0.8643, 0.9372, 0.8763, 0.8380, 0.8865, 0.8768,\n",
       "         1.0000]])"
      ]
     },
     "execution_count": 56,
     "metadata": {},
     "output_type": "execute_result"
    }
   ],
   "source": [
    "\n",
    "torch.cosine_similarity(a, a.unsqueeze(1), dim=-1)"
   ]
  },
  {
   "cell_type": "code",
   "execution_count": 33,
   "metadata": {},
   "outputs": [
    {
     "data": {
      "text/plain": [
       "tensor([[True, True, True, True, True, True, True, True, True, True],\n",
       "        [True, True, True, True, True, True, True, True, True, True],\n",
       "        [True, True, True, True, True, True, True, True, True, True],\n",
       "        [True, True, True, True, True, True, True, True, True, True],\n",
       "        [True, True, True, True, True, True, True, True, True, True],\n",
       "        [True, True, True, True, True, True, True, True, True, True]])"
      ]
     },
     "execution_count": 33,
     "metadata": {},
     "output_type": "execute_result"
    }
   ],
   "source": [
    "out[0] == src[1]"
   ]
  },
  {
   "cell_type": "markdown",
   "metadata": {},
   "source": []
  },
  {
   "cell_type": "code",
   "execution_count": 39,
   "metadata": {},
   "outputs": [],
   "source": [
    "import numpy as np\n",
    "\n",
    "np.random.seed(0)\n",
    "np.array([np.random.choice(np.arange(100), size=3, replace=False) for i in range(3)]).flatten()\n",
    "\n",
    "\n",
    "a = np.arange(100).repeat(3).reshape(1,-1)"
   ]
  },
  {
   "cell_type": "code",
   "execution_count": 40,
   "metadata": {},
   "outputs": [
    {
     "data": {
      "text/plain": [
       "array([[ 0,  0,  0,  1,  1,  1,  2,  2,  2,  3,  3,  3,  4,  4,  4,  5,\n",
       "         5,  5,  6,  6,  6,  7,  7,  7,  8,  8,  8,  9,  9,  9, 10, 10,\n",
       "        10, 11, 11, 11, 12, 12, 12, 13, 13, 13, 14, 14, 14, 15, 15, 15,\n",
       "        16, 16, 16, 17, 17, 17, 18, 18, 18, 19, 19, 19, 20, 20, 20, 21,\n",
       "        21, 21, 22, 22, 22, 23, 23, 23, 24, 24, 24, 25, 25, 25, 26, 26,\n",
       "        26, 27, 27, 27, 28, 28, 28, 29, 29, 29, 30, 30, 30, 31, 31, 31,\n",
       "        32, 32, 32, 33, 33, 33, 34, 34, 34, 35, 35, 35, 36, 36, 36, 37,\n",
       "        37, 37, 38, 38, 38, 39, 39, 39, 40, 40, 40, 41, 41, 41, 42, 42,\n",
       "        42, 43, 43, 43, 44, 44, 44, 45, 45, 45, 46, 46, 46, 47, 47, 47,\n",
       "        48, 48, 48, 49, 49, 49, 50, 50, 50, 51, 51, 51, 52, 52, 52, 53,\n",
       "        53, 53, 54, 54, 54, 55, 55, 55, 56, 56, 56, 57, 57, 57, 58, 58,\n",
       "        58, 59, 59, 59, 60, 60, 60, 61, 61, 61, 62, 62, 62, 63, 63, 63,\n",
       "        64, 64, 64, 65, 65, 65, 66, 66, 66, 67, 67, 67, 68, 68, 68, 69,\n",
       "        69, 69, 70, 70, 70, 71, 71, 71, 72, 72, 72, 73, 73, 73, 74, 74,\n",
       "        74, 75, 75, 75, 76, 76, 76, 77, 77, 77, 78, 78, 78, 79, 79, 79,\n",
       "        80, 80, 80, 81, 81, 81, 82, 82, 82, 83, 83, 83, 84, 84, 84, 85,\n",
       "        85, 85, 86, 86, 86, 87, 87, 87, 88, 88, 88, 89, 89, 89, 90, 90,\n",
       "        90, 91, 91, 91, 92, 92, 92, 93, 93, 93, 94, 94, 94, 95, 95, 95,\n",
       "        96, 96, 96, 97, 97, 97, 98, 98, 98, 99, 99, 99],\n",
       "       [ 0,  0,  0,  1,  1,  1,  2,  2,  2,  3,  3,  3,  4,  4,  4,  5,\n",
       "         5,  5,  6,  6,  6,  7,  7,  7,  8,  8,  8,  9,  9,  9, 10, 10,\n",
       "        10, 11, 11, 11, 12, 12, 12, 13, 13, 13, 14, 14, 14, 15, 15, 15,\n",
       "        16, 16, 16, 17, 17, 17, 18, 18, 18, 19, 19, 19, 20, 20, 20, 21,\n",
       "        21, 21, 22, 22, 22, 23, 23, 23, 24, 24, 24, 25, 25, 25, 26, 26,\n",
       "        26, 27, 27, 27, 28, 28, 28, 29, 29, 29, 30, 30, 30, 31, 31, 31,\n",
       "        32, 32, 32, 33, 33, 33, 34, 34, 34, 35, 35, 35, 36, 36, 36, 37,\n",
       "        37, 37, 38, 38, 38, 39, 39, 39, 40, 40, 40, 41, 41, 41, 42, 42,\n",
       "        42, 43, 43, 43, 44, 44, 44, 45, 45, 45, 46, 46, 46, 47, 47, 47,\n",
       "        48, 48, 48, 49, 49, 49, 50, 50, 50, 51, 51, 51, 52, 52, 52, 53,\n",
       "        53, 53, 54, 54, 54, 55, 55, 55, 56, 56, 56, 57, 57, 57, 58, 58,\n",
       "        58, 59, 59, 59, 60, 60, 60, 61, 61, 61, 62, 62, 62, 63, 63, 63,\n",
       "        64, 64, 64, 65, 65, 65, 66, 66, 66, 67, 67, 67, 68, 68, 68, 69,\n",
       "        69, 69, 70, 70, 70, 71, 71, 71, 72, 72, 72, 73, 73, 73, 74, 74,\n",
       "        74, 75, 75, 75, 76, 76, 76, 77, 77, 77, 78, 78, 78, 79, 79, 79,\n",
       "        80, 80, 80, 81, 81, 81, 82, 82, 82, 83, 83, 83, 84, 84, 84, 85,\n",
       "        85, 85, 86, 86, 86, 87, 87, 87, 88, 88, 88, 89, 89, 89, 90, 90,\n",
       "        90, 91, 91, 91, 92, 92, 92, 93, 93, 93, 94, 94, 94, 95, 95, 95,\n",
       "        96, 96, 96, 97, 97, 97, 98, 98, 98, 99, 99, 99]])"
      ]
     },
     "execution_count": 40,
     "metadata": {},
     "output_type": "execute_result"
    }
   ],
   "source": [
    "np.concatenate([a, a], )"
   ]
  },
  {
   "cell_type": "code",
   "execution_count": 2,
   "metadata": {},
   "outputs": [
    {
     "name": "stderr",
     "output_type": "stream",
     "text": [
      "/opt/anaconda3/envs/lev_eg/lib/python3.9/site-packages/torchmetrics/utilities/prints.py:36: UserWarning: Metric `AveragePrecision` will save all targets and predictions in buffer. For large datasets this may lead to large memory footprint.\n",
      "  warnings.warn(*args, **kwargs)\n",
      "/opt/anaconda3/envs/lev_eg/lib/python3.9/site-packages/torchmetrics/utilities/prints.py:36: UserWarning: Metric `AUROC` will save all targets and predictions in buffer. For large datasets this may lead to large memory footprint.\n",
      "  warnings.warn(*args, **kwargs)\n",
      "/opt/anaconda3/envs/lev_eg/lib/python3.9/site-packages/torchmetrics/utilities/prints.py:36: UserWarning: Metric `AveragePrecision` will save all targets and predictions in buffer. For large datasets this may lead to large memory footprint.\n",
      "  warnings.warn(*args, **kwargs)\n",
      "/opt/anaconda3/envs/lev_eg/lib/python3.9/site-packages/torchmetrics/utilities/prints.py:36: UserWarning: Metric `AUROC` will save all targets and predictions in buffer. For large datasets this may lead to large memory footprint.\n",
      "  warnings.warn(*args, **kwargs)\n"
     ]
    }
   ],
   "source": [
    "cfg = compose(config_name=\"defaults\")\n",
    "pl = PL_DataModule(cfg.dataloader)\n",
    "batch = next(iter(pl.train_dataloader()))\n",
    "# Obtain feature sizes and number of labels\n",
    "\n",
    "cfg.model.insize = batch.x.shape[1]\n",
    "cfg.model.outsize = torch.unique(batch.y).shape[0]\n",
    "\n",
    "\n",
    "model_classic = Network(cfg.model)\n",
    "res_cl = model_classic.loss_function(batch)\n",
    "\n",
    "\n",
    "cfg = compose(config_name=\"defaults\")\n",
    "cfg.model.insize = batch.x.shape[1]\n",
    "cfg.model.outsize = torch.unique(batch.y).shape[0]\n",
    "cfg.model.edge_generation_type = 'DynamicEdgeConv_DGM'\n",
    "model_dcg = Network(cfg.model)\n",
    "res_dcg = model_dcg.loss_function(batch)\n",
    "\n",
    "res_cl['loss'].backward()\n",
    "res_dcg['loss'].backward()\n",
    "\n",
    "# res['loss'].backward()\n",
    "# for name,i in model.model.named_parameters():\n",
    "#     if 'temperature' in name:\n",
    "#         print(i)\n",
    "    "
   ]
  },
  {
   "cell_type": "code",
   "execution_count": 6,
   "metadata": {},
   "outputs": [
    {
     "data": {
      "text/plain": [
       "tensor([[-2.6089e+00,  8.5865e-01],\n",
       "        [-2.3051e+00, -6.2913e-03],\n",
       "        [ 1.1297e+01, -1.0576e+00],\n",
       "        ...,\n",
       "        [ 2.1141e+00,  3.5424e+00],\n",
       "        [ 4.2228e+00,  7.7990e+00],\n",
       "        [ 2.3893e+00, -8.8469e+00]], grad_fn=<AddBackward0>)"
      ]
     },
     "execution_count": 6,
     "metadata": {},
     "output_type": "execute_result"
    }
   ],
   "source": [
    "\n",
    "import torch_cluster\n",
    "from torch_geometric.nn import GCNConv\n",
    "gcn = GCNConv(batch.x.shape[1], 2)\n",
    "edges = torch_cluster.knn_graph(batch.x, 2, batch=None, loop=True, flow='source_to_target')\n",
    "gcn(batch.x, edges)"
   ]
  },
  {
   "cell_type": "code",
   "execution_count": null,
   "metadata": {},
   "outputs": [
    {
     "name": "stderr",
     "output_type": "stream",
     "text": [
      "/tmp/ipykernel_1745211/2661014610.py:3: RuntimeWarning: invalid value encountered in true_divide\n",
      "  cm = cm.astype('float') / cm.sum(axis=1)[:, np.newaxis]\n"
     ]
    },
    {
     "data": {
      "text/plain": [
       "tensor(2.1133, dtype=torch.float64, grad_fn=<SumBackward0>)"
      ]
     },
     "execution_count": 101,
     "metadata": {},
     "output_type": "execute_result"
    }
   ],
   "source": [
    "def weight_vector(y, preds):\n",
    "    cm = confusion_matrix(y, preds)\n",
    "    cm = cm.astype('float') / cm.sum(axis=1)[:, np.newaxis]\n",
    "    class_acc = torch.tensor(cm.diagonal())    \n",
    "\n",
    "    y = y.view(1, -1)\n",
    "    preds = preds.view(1, -1)\n",
    "    class_acc = class_acc[y]\n",
    "\n",
    "    weight_matrix = ((y == preds) * (class_acc-1) + (y != preds)*class_acc)\n",
    "    return weight_matrix\n",
    "\n",
    "y = torch.tensor(np.random.binomial(10, 0.3, 455)) \n",
    "preds = torch.tensor(np.random.binomial(10, 0.3, 455)) \n",
    "\n",
    "prob_L = torch.cat([model_dcg.model.model[i].edge_conv.probs.unsqueeze(0) for i in range(len(model_dcg.model.model))], dim=0)\n",
    "mask_L = torch.cat([(model_dcg.model.model[i].edge_conv.mask * 1).unsqueeze(0) for i in range(len(model_dcg.model.model))], dim=0)\n",
    "\n",
    "w_vec = weight_vector(y, preds)\n",
    "\n",
    "weight_mask = (prob_L * mask_L) * w_vec \n",
    "negative_mask = (mask_L == 0 ) * 1\n",
    "weight_mask = weight_mask + negative_mask\n",
    "weight_mask = torch.prod(weight_mask, dim=1)\n",
    "weight_mask.prod(dim=0).sum()\n",
    "\n"
   ]
  },
  {
   "cell_type": "code",
   "execution_count": 113,
   "metadata": {},
   "outputs": [
    {
     "data": {
      "text/plain": [
       "{3: 2, 2: 2, 5: 2}"
      ]
     },
     "execution_count": 113,
     "metadata": {},
     "output_type": "execute_result"
    }
   ],
   "source": [
    "a = {3:2, 2:2}\n",
    "b = {5:2, 2:2}\n",
    "dict(list(a.items()) + list(b.items()))"
   ]
  },
  {
   "cell_type": "code",
   "execution_count": 5,
   "metadata": {},
   "outputs": [
    {
     "ename": "NameError",
     "evalue": "name 'y' is not defined",
     "output_type": "error",
     "traceback": [
      "\u001b[0;31m---------------------------------------------------------------------------\u001b[0m",
      "\u001b[0;31mNameError\u001b[0m                                 Traceback (most recent call last)",
      "\u001b[0;32m/tmp/ipykernel_1753762/127836373.py\u001b[0m in \u001b[0;36m<module>\u001b[0;34m\u001b[0m\n\u001b[0;32m----> 1\u001b[0;31m \u001b[0my\u001b[0m\u001b[0;34m.\u001b[0m\u001b[0mdevice\u001b[0m\u001b[0;34m(\u001b[0m\u001b[0;34m)\u001b[0m\u001b[0;34m\u001b[0m\u001b[0;34m\u001b[0m\u001b[0m\n\u001b[0m",
      "\u001b[0;31mNameError\u001b[0m: name 'y' is not defined"
     ]
    }
   ],
   "source": [
    "y.device()"
   ]
  },
  {
   "cell_type": "code",
   "execution_count": 4,
   "metadata": {},
   "outputs": [
    {
     "data": {
      "text/plain": [
       "64"
      ]
     },
     "execution_count": 4,
     "metadata": {},
     "output_type": "execute_result"
    }
   ],
   "source": [
    "cfg.model.insize"
   ]
  },
  {
   "cell_type": "code",
   "execution_count": 2,
   "metadata": {},
   "outputs": [],
   "source": [
    "import torch_cluster\n",
    "from models.gcnNet import GCNnet\n",
    "cfg = compose(config_name=\"defaults\")\n",
    "\n",
    "pl = PL_DataModule(cfg.dataloader)\n",
    "batch = next(iter(pl.train_dataloader()))\n",
    "\n",
    "cfg.model.insize = batch.x.shape[1]\n",
    "cfg.model.outsize = torch.unique(batch.y).shape[0]\n",
    "\n",
    "cfg.model.in_channels = []\n",
    "cfg.model.out_channels = []\n",
    "edges = torch_cluster.knn_graph(batch.x, 2, batch=None, loop=True, flow='source_to_target')\n",
    "model = GCNnet(cfg.model)"
   ]
  },
  {
   "cell_type": "code",
   "execution_count": 5,
   "metadata": {},
   "outputs": [
    {
     "data": {
      "text/plain": [
       "torch.Size([1257, 10])"
      ]
     },
     "execution_count": 5,
     "metadata": {},
     "output_type": "execute_result"
    }
   ],
   "source": [
    "model(batch.x, edges).shape"
   ]
  },
  {
   "cell_type": "code",
   "execution_count": 13,
   "metadata": {},
   "outputs": [],
   "source": [
    "\n",
    "\n",
    "\n",
    "from torch_geometric.nn import Sequential, GCNConv"
   ]
  },
  {
   "cell_type": "code",
   "execution_count": 58,
   "metadata": {},
   "outputs": [
    {
     "name": "stdout",
     "output_type": "stream",
     "text": [
      "0\n",
      "1\n"
     ]
    }
   ],
   "source": [
    "modules = []\n",
    "in_channels = [64,64]\n",
    "sequential = []\n",
    "for idx, values in enumerate(zip(in_channels, [64,64])):\n",
    "    print(idx)\n",
    "    in_feat, out_feat = values\n",
    "    \n",
    "\n",
    "    sequential.append((GCNConv(in_feat, out_feat), 'x, edge_index -> x'))\n",
    "\n",
    "    if idx != len(in_channels) - 1:\n",
    "        sequential.append(torch.nn.ReLU())\n",
    "    else: pass\n",
    "    \n",
    "    \n",
    "#model = Sequential('x, edge_index -> x', sequential)"
   ]
  },
  {
   "cell_type": "code",
   "execution_count": 62,
   "metadata": {},
   "outputs": [
    {
     "data": {
      "text/plain": [
       "tensor([[ 2.3051e+00, -1.7282e-01,  5.0201e+00,  ..., -5.1202e+00,\n",
       "         -8.1791e-01,  7.5726e+00],\n",
       "        [ 6.8070e+00,  4.4499e+00, -3.3076e-01,  ..., -4.2401e+00,\n",
       "          5.4997e+00,  6.5447e+00],\n",
       "        [ 6.1836e+00,  4.3004e+00,  6.0588e-03,  ..., -1.4761e+00,\n",
       "          4.5702e+00,  5.2235e+00],\n",
       "        ...,\n",
       "        [ 5.4885e+00,  2.7544e+00,  1.3438e+00,  ..., -5.8686e+00,\n",
       "          1.1509e+00,  1.0382e+01],\n",
       "        [ 5.4311e+00, -6.6223e-01,  3.9976e+00,  ..., -6.9199e+00,\n",
       "         -1.8772e+00,  1.0487e+01],\n",
       "        [ 9.3873e+00,  1.9761e+00,  5.1292e-01,  ..., -4.8426e+00,\n",
       "          1.4538e+00,  9.8358e+00]], grad_fn=<AddBackward0>)"
      ]
     },
     "execution_count": 62,
     "metadata": {},
     "output_type": "execute_result"
    }
   ],
   "source": [
    "\n",
    "Sequential('x, edge_index', sequential)(batch.x, edges)"
   ]
  },
  {
   "cell_type": "code",
   "execution_count": 44,
   "metadata": {},
   "outputs": [
    {
     "ename": "TypeError",
     "evalue": "forward() takes 2 positional arguments but 3 were given",
     "output_type": "error",
     "traceback": [
      "\u001b[0;31m---------------------------------------------------------------------------\u001b[0m",
      "\u001b[0;31mTypeError\u001b[0m                                 Traceback (most recent call last)",
      "\u001b[0;32m/tmp/ipykernel_1850986/933114594.py\u001b[0m in \u001b[0;36m<module>\u001b[0;34m\u001b[0m\n\u001b[0;32m----> 1\u001b[0;31m \u001b[0mmodel\u001b[0m\u001b[0;34m(\u001b[0m\u001b[0mbatch\u001b[0m\u001b[0;34m.\u001b[0m\u001b[0mx\u001b[0m\u001b[0;34m,\u001b[0m \u001b[0medges\u001b[0m\u001b[0;34m)\u001b[0m\u001b[0;34m\u001b[0m\u001b[0;34m\u001b[0m\u001b[0m\n\u001b[0m",
      "\u001b[0;32m/opt/anaconda3/envs/lev_eg/lib/python3.9/site-packages/torch/nn/modules/module.py\u001b[0m in \u001b[0;36m_call_impl\u001b[0;34m(self, *input, **kwargs)\u001b[0m\n\u001b[1;32m   1100\u001b[0m         if not (self._backward_hooks or self._forward_hooks or self._forward_pre_hooks or _global_backward_hooks\n\u001b[1;32m   1101\u001b[0m                 or _global_forward_hooks or _global_forward_pre_hooks):\n\u001b[0;32m-> 1102\u001b[0;31m             \u001b[0;32mreturn\u001b[0m \u001b[0mforward_call\u001b[0m\u001b[0;34m(\u001b[0m\u001b[0;34m*\u001b[0m\u001b[0minput\u001b[0m\u001b[0;34m,\u001b[0m \u001b[0;34m**\u001b[0m\u001b[0mkwargs\u001b[0m\u001b[0;34m)\u001b[0m\u001b[0;34m\u001b[0m\u001b[0;34m\u001b[0m\u001b[0m\n\u001b[0m\u001b[1;32m   1103\u001b[0m         \u001b[0;31m# Do not call functions when jit is used\u001b[0m\u001b[0;34m\u001b[0m\u001b[0;34m\u001b[0m\u001b[0m\n\u001b[1;32m   1104\u001b[0m         \u001b[0mfull_backward_hooks\u001b[0m\u001b[0;34m,\u001b[0m \u001b[0mnon_full_backward_hooks\u001b[0m \u001b[0;34m=\u001b[0m \u001b[0;34m[\u001b[0m\u001b[0;34m]\u001b[0m\u001b[0;34m,\u001b[0m \u001b[0;34m[\u001b[0m\u001b[0;34m]\u001b[0m\u001b[0;34m\u001b[0m\u001b[0;34m\u001b[0m\u001b[0m\n",
      "\u001b[0;31mTypeError\u001b[0m: forward() takes 2 positional arguments but 3 were given"
     ]
    }
   ],
   "source": [
    "model(batch.x, edges)"
   ]
  },
  {
   "cell_type": "code",
   "execution_count": 38,
   "metadata": {},
   "outputs": [
    {
     "ename": "TypeError",
     "evalue": "'list' object is not callable",
     "output_type": "error",
     "traceback": [
      "\u001b[0;31m---------------------------------------------------------------------------\u001b[0m",
      "\u001b[0;31mTypeError\u001b[0m                                 Traceback (most recent call last)",
      "\u001b[0;32m/tmp/ipykernel_1850986/3709656151.py\u001b[0m in \u001b[0;36m<module>\u001b[0;34m\u001b[0m\n\u001b[0;32m----> 1\u001b[0;31m \u001b[0mmodules\u001b[0m\u001b[0;34m(\u001b[0m\u001b[0mbatch\u001b[0m\u001b[0;34m.\u001b[0m\u001b[0mx\u001b[0m\u001b[0;34m,\u001b[0m \u001b[0medges\u001b[0m\u001b[0;34m)\u001b[0m\u001b[0;34m\u001b[0m\u001b[0;34m\u001b[0m\u001b[0m\n\u001b[0m",
      "\u001b[0;31mTypeError\u001b[0m: 'list' object is not callable"
     ]
    }
   ],
   "source": [
    "modules(batch.x, edges)"
   ]
  },
  {
   "cell_type": "code",
   "execution_count": 24,
   "metadata": {},
   "outputs": [
    {
     "data": {
      "text/plain": [
       "Sequential(\n",
       "  (0): GCNConv(12, 64)\n",
       "  (1): GCNConv(64, 64)\n",
       ")"
      ]
     },
     "execution_count": 24,
     "metadata": {},
     "output_type": "execute_result"
    }
   ],
   "source": [
    "model = Sequential('x, edge_index', [\n",
    "    (GCNConv(12, 64), 'x, edge_index -> x'),\n",
    "    \n",
    "    (GCNConv(64, 64), 'x, edge_index -> x'),\n",
    "   \n",
    "   \n",
    "])\n",
    "model"
   ]
  },
  {
   "cell_type": "code",
   "execution_count": 30,
   "metadata": {},
   "outputs": [
    {
     "ename": "AttributeError",
     "evalue": "'NoneType' object has no attribute 'add_module'",
     "output_type": "error",
     "traceback": [
      "\u001b[0;31m---------------------------------------------------------------------------\u001b[0m",
      "\u001b[0;31mAttributeError\u001b[0m                            Traceback (most recent call last)",
      "\u001b[0;32m/tmp/ipykernel_1850986/2131536476.py\u001b[0m in \u001b[0;36m<module>\u001b[0;34m\u001b[0m\n\u001b[0;32m----> 1\u001b[0;31m \u001b[0mmodel\u001b[0m\u001b[0;34m.\u001b[0m\u001b[0madd_module\u001b[0m\u001b[0;34m(\u001b[0m\u001b[0;34m'sda'\u001b[0m\u001b[0;34m,\u001b[0m \u001b[0mGCNConv\u001b[0m\u001b[0;34m(\u001b[0m\u001b[0;36m64\u001b[0m\u001b[0;34m,\u001b[0m \u001b[0;36m64\u001b[0m\u001b[0;34m)\u001b[0m\u001b[0;34m)\u001b[0m\u001b[0;34m\u001b[0m\u001b[0;34m\u001b[0m\u001b[0m\n\u001b[0m",
      "\u001b[0;31mAttributeError\u001b[0m: 'NoneType' object has no attribute 'add_module'"
     ]
    }
   ],
   "source": [
    "model.add_module('sda', GCNConv(64, 64))"
   ]
  },
  {
   "cell_type": "code",
   "execution_count": 29,
   "metadata": {},
   "outputs": [],
   "source": [
    "model"
   ]
  },
  {
   "cell_type": "code",
   "execution_count": 6,
   "metadata": {},
   "outputs": [
    {
     "name": "stdout",
     "output_type": "stream",
     "text": [
      "tensor([0.1333, 0.1800, 0.2783, 0.3440, 0.2250, 0.0714, 0.0400, 0.0000,    nan],\n",
      "       dtype=torch.float64)\n",
      "tensor([ 0.2250,  0.2250,  0.3440, -0.8200,  0.2250,  0.3440, -0.6560,  0.2250,\n",
      "         0.1800,  0.3440], dtype=torch.float64)\n",
      "tensor([4, 4, 3, 1, 4, 3, 3, 4, 1, 3])\n",
      "tensor([3, 3, 5, 1, 2, 0, 3, 3, 4, 4])\n"
     ]
    },
    {
     "name": "stderr",
     "output_type": "stream",
     "text": [
      "/tmp/ipykernel_1745211/1371237923.py:6: RuntimeWarning: invalid value encountered in true_divide\n",
      "  cm = cm.astype('float') / cm.sum(axis=1)[:, np.newaxis]\n"
     ]
    }
   ],
   "source": [
    "print(weight_vector(a, b)[0,:10])\n",
    "print(a[:10])\n",
    "print(b[:10])"
   ]
  },
  {
   "cell_type": "code",
   "execution_count": 40,
   "metadata": {},
   "outputs": [
    {
     "name": "stdout",
     "output_type": "stream",
     "text": [
      "tensor([0.1333, 0.1800, 0.2783, 0.3440, 0.2250, 0.0714, 0.0400, 0.0000,    nan],\n",
      "       dtype=torch.float64)\n"
     ]
    },
    {
     "name": "stderr",
     "output_type": "stream",
     "text": [
      "/tmp/ipykernel_1745211/1371237923.py:6: RuntimeWarning: invalid value encountered in true_divide\n",
      "  cm = cm.astype('float') / cm.sum(axis=1)[:, np.newaxis]\n"
     ]
    }
   ],
   "source": [
    "torch"
   ]
  },
  {
   "cell_type": "code",
   "execution_count": 91,
   "metadata": {},
   "outputs": [
    {
     "data": {
      "text/plain": [
       "tensor(-0.1573, dtype=torch.float64, grad_fn=<SumBackward0>)"
      ]
     },
     "execution_count": 91,
     "metadata": {},
     "output_type": "execute_result"
    }
   ],
   "source": []
  },
  {
   "cell_type": "code",
   "execution_count": 88,
   "metadata": {},
   "outputs": [
    {
     "data": {
      "text/plain": [
       "torch.Size([5])"
      ]
     },
     "execution_count": 88,
     "metadata": {},
     "output_type": "execute_result"
    }
   ],
   "source": [
    "torch.sum(torch.Tensor(10,5), dim=0).shape"
   ]
  },
  {
   "cell_type": "code",
   "execution_count": 85,
   "metadata": {},
   "outputs": [
    {
     "data": {
      "text/plain": [
       "tensor([[4.4773e-04, 3.0799e-41, 5.7232e-13, 3.0799e-41, 1.1210e-43],\n",
       "        [0.0000e+00, 8.9683e-44, 0.0000e+00, 5.0083e-04, 3.0799e-41],\n",
       "        [0.0000e+00, 0.0000e+00, 0.0000e+00, 0.0000e+00, 0.0000e+00],\n",
       "        [0.0000e+00, 0.0000e+00, 0.0000e+00, 1.4013e-45, 0.0000e+00],\n",
       "        [0.0000e+00, 0.0000e+00, 9.1084e-44, 0.0000e+00, 4.4773e-04],\n",
       "        [3.0799e-41, 5.0081e-04, 3.0799e-41, 5.8855e-44, 0.0000e+00],\n",
       "        [4.6243e-44, 0.0000e+00, 4.4790e-04, 3.0799e-41, 5.7231e-13],\n",
       "        [3.0799e-41, 2.9147e-43, 0.0000e+00, 1.1210e-43, 0.0000e+00],\n",
       "        [4.3079e-12, 3.0799e-41, 0.0000e+00, 0.0000e+00, 1.4013e-45],\n",
       "        [0.0000e+00, 0.0000e+00, 4.7851e+22, 6.1948e-04, 2.5749e-12]])"
      ]
     },
     "execution_count": 85,
     "metadata": {},
     "output_type": "execute_result"
    }
   ],
   "source": [
    "torch.Tensor(10,5)"
   ]
  },
  {
   "cell_type": "code",
   "execution_count": 73,
   "metadata": {},
   "outputs": [
    {
     "data": {
      "text/plain": [
       "tensor([[[1.0000e+00, 1.0000e-06, 7.4016e-02,  ..., 1.0000e-06,\n",
       "          1.0000e-06, 1.0000e-06],\n",
       "         [1.0000e-06, 1.0000e+00, 1.0000e-06,  ..., 1.0000e-06,\n",
       "          1.0000e-06, 1.0000e-06],\n",
       "         [7.4016e-02, 1.0000e-06, 1.0000e+00,  ..., 1.0000e-06,\n",
       "          1.0000e-06, 1.0000e-06],\n",
       "         ...,\n",
       "         [1.0000e-06, 1.0000e-06, 1.0000e-06,  ..., 1.0000e+00,\n",
       "          1.0000e-06, 1.0000e-06],\n",
       "         [1.0000e-06, 1.0000e-06, 1.0000e-06,  ..., 1.0000e-06,\n",
       "          1.0000e+00, 1.0000e-06],\n",
       "         [1.0000e-06, 1.0000e-06, 1.0000e-06,  ..., 1.0000e-06,\n",
       "          1.0000e-06, 1.0000e+00]],\n",
       "\n",
       "        [[1.0000e+00, 1.0000e+00, 1.0000e+00,  ..., 1.0000e+00,\n",
       "          1.0000e+00, 1.0000e+00],\n",
       "         [1.0000e+00, 1.0000e+00, 1.0000e+00,  ..., 1.0000e+00,\n",
       "          1.0000e+00, 1.0000e+00],\n",
       "         [1.0000e+00, 1.0000e+00, 1.0000e+00,  ..., 1.0000e+00,\n",
       "          1.0000e+00, 1.0000e+00],\n",
       "         ...,\n",
       "         [1.0000e+00, 1.0000e+00, 1.0000e+00,  ..., 1.0000e+00,\n",
       "          1.0000e+00, 1.0000e+00],\n",
       "         [1.0000e+00, 1.0000e+00, 1.0000e+00,  ..., 1.0000e+00,\n",
       "          1.0000e+00, 1.0000e+00],\n",
       "         [1.0000e+00, 1.0000e+00, 1.0000e+00,  ..., 1.0000e+00,\n",
       "          1.0000e+00, 1.0000e+00]]], grad_fn=<CatBackward0>)"
      ]
     },
     "execution_count": 73,
     "metadata": {},
     "output_type": "execute_result"
    }
   ],
   "source": [
    "probs"
   ]
  },
  {
   "cell_type": "code",
   "execution_count": 71,
   "metadata": {},
   "outputs": [
    {
     "data": {
      "text/plain": [
       "tensor([0, 0, 0,  ..., 1, 1, 1])"
      ]
     },
     "execution_count": 71,
     "metadata": {},
     "output_type": "execute_result"
    }
   ],
   "source": [
    "torch.where(maskes>0)[0]"
   ]
  },
  {
   "cell_type": "code",
   "execution_count": 72,
   "metadata": {},
   "outputs": [
    {
     "data": {
      "text/plain": [
       "tensor([[[1, 0, 0,  ..., 0, 0, 0],\n",
       "         [0, 1, 0,  ..., 0, 0, 0],\n",
       "         [0, 0, 0,  ..., 0, 0, 0],\n",
       "         ...,\n",
       "         [0, 0, 0,  ..., 0, 0, 0],\n",
       "         [0, 0, 0,  ..., 0, 0, 0],\n",
       "         [0, 0, 0,  ..., 0, 0, 0]],\n",
       "\n",
       "        [[0, 0, 0,  ..., 0, 0, 0],\n",
       "         [0, 0, 0,  ..., 0, 0, 0],\n",
       "         [0, 0, 0,  ..., 0, 0, 0],\n",
       "         ...,\n",
       "         [0, 0, 0,  ..., 0, 0, 0],\n",
       "         [0, 0, 0,  ..., 0, 1, 0],\n",
       "         [0, 0, 0,  ..., 0, 0, 0]]])"
      ]
     },
     "execution_count": 72,
     "metadata": {},
     "output_type": "execute_result"
    }
   ],
   "source": [
    "maskes"
   ]
  },
  {
   "cell_type": "code",
   "execution_count": 223,
   "metadata": {},
   "outputs": [],
   "source": [
    "def generate_matrix2(y, preds):\n",
    "    cm = confusion_matrix(y, preds)\n",
    "    cm = cm.astype('float') / cm.sum(axis=1)[:, np.newaxis]\n",
    "    class_acc = cm.diagonal()\n",
    "\n",
    "    matrix_y = y.view(1, 1, -1).repeat((1, batch.x.shape[0], 1))\n",
    "    matrix_pred = preds.view(1, 1, -1).repeat((1, batch.x.shape[0], 1))\n",
    "\n",
    "    unique_labels = torch.unique(y).view(-1, 1, 1)\n",
    "    class_acc = torch.tensor(class_acc).view(-1, 1, 1)\n",
    "    \n",
    "    class_acc = class_acc[matrix_y].view(1, batch.x.shape[0], batch.x.shape[0])\n",
    "    #matrix_y = (matrix_y == unique_labels) * class_acc\n",
    "    \n",
    "    weight_matrix = ((matrix_y == matrix_pred) * (class_acc-1) + (matrix_y != matrix_pred)*class_acc)\n",
    "\n",
    "    # matrix_pred = (matrix_pred == unique_labels) * (-1)\n",
    "    # weight_matrix = (matrix_pred + matrix_y).sum(dim=0)\n",
    "    return weight_matrix, matrix_y, class_acc"
   ]
  },
  {
   "cell_type": "code",
   "execution_count": 243,
   "metadata": {},
   "outputs": [],
   "source": [
    "def generate_matrix2(y, preds):\n",
    "    cm = confusion_matrix(y, preds)\n",
    "    cm = cm.astype('float') / cm.sum(axis=1)[:, np.newaxis]\n",
    "    class_acc = cm.diagonal()\n",
    "\n",
    "    matrix_y = y.view(1,-1)\n",
    "    matrix_pred = preds.view(1,-1)\n",
    "\n",
    "    unique_labels = torch.unique(y).view(-1, 1)\n",
    "    class_acc = torch.tensor(class_acc).view(-1, 1)\n",
    "    print(class_acc)\n",
    "    #class_acc = class_acc[matrix_y].view(1,455,455)\n",
    "    #matrix_y = (matrix_y == unique_labels) * class_acc\n",
    "    class_acc = class_acc[matrix_y]\n",
    "    weight_matrix = ((matrix_y == matrix_pred) * (class_acc-1) + (matrix_y != matrix_pred)*class_acc)\n",
    "\n",
    "    # matrix_pred = (matrix_pred == unique_labels) * (-1)\n",
    "    # weight_matrix = (matrix_pred + matrix_y).sum(dim=0)\n",
    "    return weight_matrix, matrix_y, class_acc"
   ]
  },
  {
   "cell_type": "code",
   "execution_count": 1,
   "metadata": {},
   "outputs": [],
   "source": [
    "import pandas as pd\n",
    "\n",
    "datsets_csv = pd.read_csv('/home/lev/object-centric/edge-generation/configs/datasets.cvs', sep='\\t', index_col=0)\n",
    "    \n"
   ]
  },
  {
   "cell_type": "code",
   "execution_count": 5,
   "metadata": {},
   "outputs": [
    {
     "data": {
      "text/plain": [
       "True"
      ]
     },
     "execution_count": 5,
     "metadata": {},
     "output_type": "execute_result"
    }
   ],
   "source": [
    "'breast-cancer-wisc' in list(datsets_csv.name)"
   ]
  },
  {
   "cell_type": "code",
   "execution_count": 15,
   "metadata": {},
   "outputs": [],
   "source": [
    "for i in list(datsets_csv.name):\n",
    "    df = datsets_csv[datsets_csv.name  == i]\n",
    "    break"
   ]
  },
  {
   "cell_type": "code",
   "execution_count": 17,
   "metadata": {},
   "outputs": [
    {
     "data": {
      "text/plain": [
       "'/home/lev/datasets/classification_data/breast-cancer-wisc/breast-cancer-wisc_R.dat'"
      ]
     },
     "execution_count": 17,
     "metadata": {},
     "output_type": "execute_result"
    }
   ],
   "source": [
    "df.path[0]"
   ]
  },
  {
   "cell_type": "code",
   "execution_count": 269,
   "metadata": {},
   "outputs": [
    {
     "name": "stdout",
     "output_type": "stream",
     "text": [
      "tensor([4, 6, 2, 4, 2, 1, 1, 2, 2, 4])\n",
      "tensor([4, 3, 2, 6, 5, 4, 2, 4, 2, 2])\n"
     ]
    }
   ],
   "source": [
    "print(a[:10])\n",
    "print(b[:10])"
   ]
  },
  {
   "cell_type": "code",
   "execution_count": 270,
   "metadata": {},
   "outputs": [
    {
     "data": {
      "text/plain": [
       "array([0.        , 0.09090909, 0.29565217, 0.2519685 , 0.16666667,\n",
       "       0.09756098, 0.13333333, 0.        , 0.        ])"
      ]
     },
     "execution_count": 270,
     "metadata": {},
     "output_type": "execute_result"
    }
   ],
   "source": [
    "cm.diagonal()"
   ]
  },
  {
   "cell_type": "code",
   "execution_count": 271,
   "metadata": {},
   "outputs": [
    {
     "data": {
      "text/plain": [
       "0.83333333"
      ]
     },
     "execution_count": 271,
     "metadata": {},
     "output_type": "execute_result"
    }
   ],
   "source": [
    "1 -  0.16666667"
   ]
  },
  {
   "cell_type": "code",
   "execution_count": 244,
   "metadata": {},
   "outputs": [
    {
     "name": "stdout",
     "output_type": "stream",
     "text": [
      "tensor([[0.0000],\n",
      "        [0.0909],\n",
      "        [0.2957],\n",
      "        [0.2520],\n",
      "        [0.1667],\n",
      "        [0.0976],\n",
      "        [0.1333],\n",
      "        [0.0000],\n",
      "        [0.0000]], dtype=torch.float64)\n"
     ]
    }
   ],
   "source": [
    "weight_matrix, matrix_y, class_acc = generate_matrix2(a, b)"
   ]
  },
  {
   "cell_type": "code",
   "execution_count": 245,
   "metadata": {},
   "outputs": [
    {
     "data": {
      "text/plain": [
       "tensor([[[-0.8333,  0.1667, -0.8333,  ..., -0.8333, -0.8333,  0.1667],\n",
       "         [-0.8667,  0.1333, -0.8667,  ..., -0.8667, -0.8667,  0.1333],\n",
       "         [-0.7043,  0.2957, -0.7043,  ..., -0.7043, -0.7043,  0.2957],\n",
       "         ...,\n",
       "         [-0.7043,  0.2957, -0.7043,  ..., -0.7043, -0.7043,  0.2957],\n",
       "         [-0.7043,  0.2957, -0.7043,  ..., -0.7043, -0.7043,  0.2957],\n",
       "         [-0.7043,  0.2957, -0.7043,  ..., -0.7043, -0.7043,  0.2957]]],\n",
       "       dtype=torch.float64)"
      ]
     },
     "execution_count": 245,
     "metadata": {},
     "output_type": "execute_result"
    }
   ],
   "source": [
    "weight_matrix"
   ]
  },
  {
   "cell_type": "code",
   "execution_count": 225,
   "metadata": {},
   "outputs": [
    {
     "data": {
      "text/plain": [
       "tensor([[[-0.8333,  0.1333, -0.7043,  ...,  0.2957, -0.7043,  0.1667],\n",
       "         [-0.8333,  0.1333, -0.7043,  ...,  0.2957, -0.7043,  0.1667],\n",
       "         [-0.8333,  0.1333, -0.7043,  ...,  0.2957, -0.7043,  0.1667],\n",
       "         ...,\n",
       "         [-0.8333,  0.1333, -0.7043,  ...,  0.2957, -0.7043,  0.1667],\n",
       "         [-0.8333,  0.1333, -0.7043,  ...,  0.2957, -0.7043,  0.1667],\n",
       "         [-0.8333,  0.1333, -0.7043,  ...,  0.2957, -0.7043,  0.1667]]],\n",
       "       dtype=torch.float64)"
      ]
     },
     "execution_count": 225,
     "metadata": {},
     "output_type": "execute_result"
    }
   ],
   "source": [
    "weight_matrix[:,:,:10]"
   ]
  },
  {
   "cell_type": "code",
   "execution_count": 233,
   "metadata": {},
   "outputs": [
    {
     "name": "stdout",
     "output_type": "stream",
     "text": [
      "tensor([4, 6, 2, 4, 2, 1, 1, 2, 2, 4])\n",
      "tensor([4, 3, 2, 6, 5, 4, 2, 4, 2, 2])\n"
     ]
    }
   ],
   "source": [
    "print(a[:10])\n",
    "print(b[:10])"
   ]
  },
  {
   "cell_type": "code",
   "execution_count": 222,
   "metadata": {},
   "outputs": [
    {
     "data": {
      "text/plain": [
       "tensor([[[0.1667, 0.1333, 0.2957,  ..., 0.2957, 0.2957, 0.2957],\n",
       "         [0.1667, 0.1333, 0.2957,  ..., 0.2957, 0.2957, 0.2957],\n",
       "         [0.1667, 0.1333, 0.2957,  ..., 0.2957, 0.2957, 0.2957],\n",
       "         ...,\n",
       "         [0.1667, 0.1333, 0.2957,  ..., 0.2957, 0.2957, 0.2957],\n",
       "         [0.1667, 0.1333, 0.2957,  ..., 0.2957, 0.2957, 0.2957],\n",
       "         [0.1667, 0.1333, 0.2957,  ..., 0.2957, 0.2957, 0.2957]]],\n",
       "       dtype=torch.float64)"
      ]
     },
     "execution_count": 222,
     "metadata": {},
     "output_type": "execute_result"
    }
   ],
   "source": [
    "class_acc"
   ]
  },
  {
   "cell_type": "code",
   "execution_count": 203,
   "metadata": {},
   "outputs": [
    {
     "data": {
      "text/plain": [
       "torch.Size([9, 455, 455])"
      ]
     },
     "execution_count": 203,
     "metadata": {},
     "output_type": "execute_result"
    }
   ],
   "source": [
    "wm.shape"
   ]
  },
  {
   "cell_type": "code",
   "execution_count": null,
   "metadata": {},
   "outputs": [],
   "source": []
  },
  {
   "cell_type": "code",
   "execution_count": 187,
   "metadata": {},
   "outputs": [
    {
     "data": {
      "text/plain": [
       "tensor([[-0.7480,  0.2520, -0.7480,  ..., -0.7480, -0.7480,  0.2520],\n",
       "        [-0.7480,  0.2520, -0.7480,  ..., -0.7480, -0.7480,  0.2520],\n",
       "        [-0.7480,  0.2520, -0.7480,  ..., -0.7480, -0.7480,  0.2520],\n",
       "        ...,\n",
       "        [-0.7480,  0.2520, -0.7480,  ..., -0.7480, -0.7480,  0.2520],\n",
       "        [-0.7480,  0.2520, -0.7480,  ..., -0.7480, -0.7480,  0.2520],\n",
       "        [-0.7480,  0.2520, -0.7480,  ..., -0.7480, -0.7480,  0.2520]],\n",
       "       dtype=torch.float64)"
      ]
     },
     "execution_count": 187,
     "metadata": {},
     "output_type": "execute_result"
    }
   ],
   "source": [
    "generate_matrix2(a, b)[3]"
   ]
  },
  {
   "cell_type": "code",
   "execution_count": 84,
   "metadata": {},
   "outputs": [],
   "source": [
    "def generate_mask(y, preds):\n",
    "    \n",
    "    cm = confusion_matrix(y, preds)\n",
    "    cm = cm.astype('float') / cm.sum(axis=1)[:, np.newaxis]\n",
    "    class_acc = cm.diagonal()\n",
    "    print(class_acc)\n",
    "\n",
    "    class_mask = y.unsqueeze(0).repeat((batch.x.shape[0],1))\n",
    "    pred_mask = preds.unsqueeze(0).repeat((batch.x.shape[0],1)) \n",
    "    final_mask = torch.zeros((batch.x.shape[0], batch.x.shape[0]))\n",
    "    for cl in range(len(class_acc)):\n",
    "        class_mask_temp = (class_mask == cl) * class_acc[cl]\n",
    "        pred_mask_temp = (pred_mask == cl) * (-1)\n",
    "        final_mask += class_mask_temp + pred_mask_temp\n",
    "    return final_mask\n",
    "\n",
    "    "
   ]
  },
  {
   "cell_type": "code",
   "execution_count": 179,
   "metadata": {},
   "outputs": [
    {
     "data": {
      "text/plain": [
       "tensor([[-7.9639,  1.0361, -7.9639,  ..., -7.9639, -7.9639,  1.0361],\n",
       "        [-7.9639,  1.0361, -7.9639,  ..., -7.9639, -7.9639,  1.0361],\n",
       "        [-7.9639,  1.0361, -7.9639,  ..., -7.9639, -7.9639,  1.0361],\n",
       "        ...,\n",
       "        [-7.9639,  1.0361, -7.9639,  ..., -7.9639, -7.9639,  1.0361],\n",
       "        [-7.9639,  1.0361, -7.9639,  ..., -7.9639, -7.9639,  1.0361],\n",
       "        [-7.9639,  1.0361, -7.9639,  ..., -7.9639, -7.9639,  1.0361]],\n",
       "       dtype=torch.float64)"
      ]
     },
     "execution_count": 179,
     "metadata": {},
     "output_type": "execute_result"
    }
   ],
   "source": [
    "generate_matrix2(a, b)"
   ]
  },
  {
   "cell_type": "code",
   "execution_count": 178,
   "metadata": {},
   "outputs": [
    {
     "name": "stdout",
     "output_type": "stream",
     "text": [
      "[0.         0.09090909 0.29565217 0.2519685  0.16666667 0.09756098\n",
      " 0.13333333 0.         0.        ]\n"
     ]
    },
    {
     "data": {
      "text/plain": [
       "tensor([[-0.8333, -0.8667, -0.7043,  ..., -0.7043, -0.7043, -0.7043],\n",
       "        [-0.8333, -0.8667, -0.7043,  ..., -0.7043, -0.7043, -0.7043],\n",
       "        [-0.8333, -0.8667, -0.7043,  ..., -0.7043, -0.7043, -0.7043],\n",
       "        ...,\n",
       "        [-0.8333, -0.8667, -0.7043,  ..., -0.7043, -0.7043, -0.7043],\n",
       "        [-0.8333, -0.8667, -0.7043,  ..., -0.7043, -0.7043, -0.7043],\n",
       "        [-0.8333, -0.8667, -0.7043,  ..., -0.7043, -0.7043, -0.7043]])"
      ]
     },
     "execution_count": 178,
     "metadata": {},
     "output_type": "execute_result"
    }
   ],
   "source": [
    "a = torch.tensor(np.random.binomial(10, 0.3, 455)) #torch.bernoulli(torch.ones(455)-0.5)\n",
    "b = torch.tensor(np.random.binomial(10, 0.3, 455)) #torch.bernoulli(torch.ones(455)-0.5)\n",
    "generate_mask(a, b)"
   ]
  },
  {
   "cell_type": "code",
   "execution_count": 173,
   "metadata": {},
   "outputs": [
    {
     "name": "stdout",
     "output_type": "stream",
     "text": [
      "tensor([2, 3, 3, 2, 3, 3, 2, 3, 3, 5])\n",
      "tensor([5, 3, 3, 5, 3, 2, 2, 6, 4, 3])\n"
     ]
    }
   ],
   "source": [
    "print(a[:10])\n",
    "print(b[:10])"
   ]
  },
  {
   "cell_type": "code",
   "execution_count": 159,
   "metadata": {},
   "outputs": [
    {
     "data": {
      "text/plain": [
       "array([2, 5, 3, 3, 4, 3, 5, 1, 1, 1, 7, 7, 2, 3, 2, 8, 3, 3, 3, 4, 2, 3,\n",
       "       5, 2, 3, 0, 2, 4, 2, 2, 2, 2, 4, 2, 4, 2, 4, 4, 2, 3, 1, 6, 4, 2,\n",
       "       2, 1, 4, 0, 2, 0, 4, 3, 3, 5, 7, 2, 3, 3, 1, 5, 4, 6, 4, 1, 3, 2,\n",
       "       1, 1, 4, 3, 1, 3, 4, 2, 1, 4, 6, 2, 5, 3, 2, 6, 6, 2, 5, 3, 4, 3,\n",
       "       4, 2, 5, 2, 7, 2, 6, 4, 4, 2, 2, 5, 3, 5, 2, 3, 4, 1, 3, 5, 4, 1,\n",
       "       5, 2, 3, 1, 2, 3, 3, 3, 5, 3, 3, 3, 3, 4, 4, 5, 2, 5, 4, 5, 3, 5,\n",
       "       3, 3, 0, 3, 1, 2, 2, 1, 5, 2, 5, 2, 2, 4, 2, 2, 1, 5, 3, 4, 3, 1,\n",
       "       2, 8, 3, 2, 3, 2, 3, 1, 4, 4, 2, 3, 3, 7, 3, 7, 2, 3, 2, 2, 3, 4,\n",
       "       2, 3, 2, 3, 4, 3, 4, 3, 2, 2, 1, 3, 5, 2, 1, 1, 2, 3, 4, 4, 3, 2,\n",
       "       2, 4, 2, 1, 4, 0, 3, 2, 1, 2, 2, 4, 3, 9, 2, 4, 3, 1, 2, 3, 4, 2,\n",
       "       4, 2, 2, 2, 3, 3, 4, 4, 2, 3, 5, 3, 3, 4, 2, 6, 4, 6, 2, 4, 4, 1,\n",
       "       4, 4, 2, 1, 1, 4, 3, 4, 4, 3, 3, 3, 3, 7, 1, 5, 1, 1, 4, 3, 4, 4,\n",
       "       4, 4, 1, 2, 2, 5, 3, 9, 1, 1, 4, 1, 4, 3, 3, 1, 2, 1, 4, 3, 3, 4,\n",
       "       2, 3, 2, 1, 2, 4, 2, 3, 3, 2, 4, 5, 1, 1, 4, 2, 1, 4, 2, 0, 1, 3,\n",
       "       2, 4, 2, 4, 3, 2, 1, 3, 4, 2, 4, 2, 5, 3, 4, 2, 6, 4, 0, 1, 3, 2,\n",
       "       4, 6, 4, 3, 4, 3, 3, 2, 4, 4, 3, 4, 1, 3, 4, 1, 2, 3, 1, 4, 4, 3,\n",
       "       4, 4, 4, 1, 4, 2, 4, 4, 2, 0, 3, 3, 2, 4, 3, 2, 3, 3, 2, 2, 3, 3,\n",
       "       3, 3, 1, 3, 2, 3, 3, 9, 2, 5, 5, 1, 2, 4, 3, 1, 5, 4, 1, 4, 1, 2,\n",
       "       5, 7, 3, 3, 5, 3, 3, 1, 3, 5, 3, 4, 4, 3, 3, 3, 2, 5, 1, 2, 3, 4,\n",
       "       3, 1, 1, 1, 0, 0, 2, 2, 2, 4, 3, 4, 5, 3, 2, 2, 3, 2, 5, 5, 3, 3,\n",
       "       3, 3, 5, 4, 5, 1, 4, 3, 1, 2, 2, 3, 3, 4, 1])"
      ]
     },
     "execution_count": 159,
     "metadata": {},
     "output_type": "execute_result"
    }
   ],
   "source": []
  },
  {
   "cell_type": "code",
   "execution_count": 5,
   "metadata": {},
   "outputs": [],
   "source": [
    "probs = model_dcg.model.model[-1].edge_conv.probs\n",
    "mask = model_dcg.model.model[-1].edge_conv.mask*1\n"
   ]
  },
  {
   "cell_type": "code",
   "execution_count": 21,
   "metadata": {},
   "outputs": [
    {
     "data": {
      "text/plain": [
       "torch.Size([910])"
      ]
     },
     "execution_count": 21,
     "metadata": {},
     "output_type": "execute_result"
    }
   ],
   "source": [
    "mask[model_dcg.model.model[-1].edge_conv.edge_index[0],model_dcg.model.model[-1].edge_conv.edge_index[1]].shape"
   ]
  },
  {
   "cell_type": "code",
   "execution_count": 28,
   "metadata": {},
   "outputs": [
    {
     "data": {
      "text/plain": [
       "tensor([2, 2, 2, 2, 2, 2, 2, 2, 2, 2, 2, 2, 2, 2, 2, 2, 2, 2, 2, 2, 2, 2, 2, 2,\n",
       "        2, 2, 2, 2, 2, 2, 2, 2, 2, 2, 2, 2, 2, 2, 2, 2, 2, 2, 2, 2, 2, 2, 2, 2,\n",
       "        2, 2, 2, 2, 2, 2, 2, 2, 2, 2, 2, 2, 2, 2, 2, 2, 2, 2, 2, 2, 2, 2, 2, 2,\n",
       "        2, 2, 2, 2, 2, 2, 2, 2, 2, 2, 2, 2, 2, 2, 2, 2, 2, 2, 2, 2, 2, 2, 2, 2,\n",
       "        2, 2, 2, 2, 2, 2, 2, 2, 2, 2, 2, 2, 2, 2, 2, 2, 2, 2, 2, 2, 2, 2, 2, 2,\n",
       "        2, 2, 2, 2, 2, 2, 2, 2, 2, 2, 2, 2, 2, 2, 2, 2, 2, 2, 2, 2, 2, 2, 2, 2,\n",
       "        2, 2, 2, 2, 2, 2, 2, 2, 2, 2, 2, 2, 2, 2, 2, 2, 2, 2, 2, 2, 2, 2, 2, 2,\n",
       "        2, 2, 2, 2, 2, 2, 2, 2, 2, 2, 2, 2, 2, 2, 2, 2, 2, 2, 2, 2, 2, 2, 2, 2,\n",
       "        2, 2, 2, 2, 2, 2, 2, 2, 2, 2, 2, 2, 2, 2, 2, 2, 2, 2, 2, 2, 2, 2, 2, 2,\n",
       "        2, 2, 2, 2, 2, 2, 2, 2, 2, 2, 2, 2, 2, 2, 2, 2, 2, 2, 2, 2, 2, 2, 2, 2,\n",
       "        2, 2, 2, 2, 2, 2, 2, 2, 2, 2, 2, 2, 2, 2, 2, 2, 2, 2, 2, 2, 2, 2, 2, 2,\n",
       "        2, 2, 2, 2, 2, 2, 2, 2, 2, 2, 2, 2, 2, 2, 2, 2, 2, 2, 2, 2, 2, 2, 2, 2,\n",
       "        2, 2, 2, 2, 2, 2, 2, 2, 2, 2, 2, 2, 2, 2, 2, 2, 2, 2, 2, 2, 2, 2, 2, 2,\n",
       "        2, 2, 2, 2, 2, 2, 2, 2, 2, 2, 2, 2, 2, 2, 2, 2, 2, 2, 2, 2, 2, 2, 2, 2,\n",
       "        2, 2, 2, 2, 2, 2, 2, 2, 2, 2, 2, 2, 2, 2, 2, 2, 2, 2, 2, 2, 2, 2, 2, 2,\n",
       "        2, 2, 2, 2, 2, 2, 2, 2, 2, 2, 2, 2, 2, 2, 2, 2, 2, 2, 2, 2, 2, 2, 2, 2,\n",
       "        2, 2, 2, 2, 2, 2, 2, 2, 2, 2, 2, 2, 2, 2, 2, 2, 2, 2, 2, 2, 2, 2, 2, 2,\n",
       "        2, 2, 2, 2, 2, 2, 2, 2, 2, 2, 2, 2, 2, 2, 2, 2, 2, 2, 2, 2, 2, 2, 2, 2,\n",
       "        2, 2, 2, 2, 2, 2, 2, 2, 2, 2, 2, 2, 2, 2, 2, 2, 2, 2, 2, 2, 2, 2, 2])"
      ]
     },
     "execution_count": 28,
     "metadata": {},
     "output_type": "execute_result"
    }
   ],
   "source": [
    "mask.sum(dim=0)\n"
   ]
  },
  {
   "cell_type": "code",
   "execution_count": 36,
   "metadata": {},
   "outputs": [
    {
     "data": {
      "text/plain": [
       "tensor([[0, 0, 0,  ..., 0, 0, 0],\n",
       "        [0, 0, 0,  ..., 0, 0, 0],\n",
       "        [0, 0, 0,  ..., 0, 0, 0],\n",
       "        ...,\n",
       "        [0, 0, 0,  ..., 0, 0, 0],\n",
       "        [0, 0, 0,  ..., 0, 0, 0],\n",
       "        [0, 0, 0,  ..., 0, 0, 0]])"
      ]
     },
     "execution_count": 36,
     "metadata": {},
     "output_type": "execute_result"
    }
   ],
   "source": [
    "mask"
   ]
  },
  {
   "cell_type": "code",
   "execution_count": 7,
   "metadata": {},
   "outputs": [
    {
     "data": {
      "text/plain": [
       "array([1.        , 0.        , 0.66666667])"
      ]
     },
     "execution_count": 7,
     "metadata": {},
     "output_type": "execute_result"
    }
   ],
   "source": [
    "from sklearn.metrics import confusion_matrix\n",
    "\n",
    "import numpy as np\n",
    "\n",
    "y_true = [0, 1, 2, 2, 2]\n",
    "\n",
    "y_pred = [0, 0, 2, 2, 1]\n",
    "\n",
    "\n",
    "\n",
    "\n",
    "\n",
    "cm = confusion_matrix(y_true, y_pred)\n",
    "cm = cm.astype('float') / cm.sum(axis=1)[:, np.newaxis]\n",
    "cm.diagonal()\n",
    "\n",
    "#array([1.        , 0.        , 0.66666667])"
   ]
  },
  {
   "cell_type": "code",
   "execution_count": null,
   "metadata": {},
   "outputs": [
    {
     "name": "stdout",
     "output_type": "stream",
     "text": [
      "name=model.0.edge_conv.mlp.0.weight, shape = torch.Size([2, 60])\n",
      "name=model.0.edge_conv.mlp.0.bias, shape = torch.Size([2])\n",
      "name=model.0.edge_conv.mlp.2.weight, shape = torch.Size([2, 2])\n",
      "name=model.0.edge_conv.mlp.2.bias, shape = torch.Size([2])\n",
      "name=model.1.edge_conv.mlp.0.weight, shape = torch.Size([2, 4])\n",
      "name=model.1.edge_conv.mlp.0.bias, shape = torch.Size([2])\n",
      "name=model.1.edge_conv.mlp.2.weight, shape = torch.Size([2, 2])\n",
      "name=model.1.edge_conv.mlp.2.bias, shape = torch.Size([2])\n"
     ]
    }
   ],
   "source": [
    "# for name,i in model_classic.model.named_parameters():\n",
    "#     if i.grad is not None:\n",
    "#         shape = i.grad.shape\n",
    "#     else:\n",
    "#         shape='None'\n",
    "    \n",
    "#     print(f\"name={name}, shape = {shape}\")\n",
    "\n",
    "    \n",
    "    "
   ]
  },
  {
   "cell_type": "code",
   "execution_count": 5,
   "metadata": {},
   "outputs": [
    {
     "name": "stdout",
     "output_type": "stream",
     "text": [
      "name=model.0.edge_conv.temperature, shape = torch.Size([1])\n",
      "name=model.0.edge_conv.temperature, shape = tensor([18.3348])\n",
      "name=model.0.edge_conv.mlp.0.weight, shape = torch.Size([2, 60])\n",
      "name=model.0.edge_conv.mlp.0.bias, shape = torch.Size([2])\n",
      "name=model.0.edge_conv.mlp.2.weight, shape = torch.Size([2, 2])\n",
      "name=model.0.edge_conv.mlp.2.bias, shape = torch.Size([2])\n",
      "name=model.0.edge_conv.mlp_t.0.weight, shape = torch.Size([30, 30])\n",
      "name=model.0.edge_conv.mlp_t.0.bias, shape = torch.Size([30])\n",
      "name=model.1.edge_conv.temperature, shape = torch.Size([1])\n",
      "name=model.1.edge_conv.temperature, shape = tensor([-2186.8000])\n",
      "name=model.1.edge_conv.mlp.0.weight, shape = torch.Size([2, 4])\n",
      "name=model.1.edge_conv.mlp.0.bias, shape = torch.Size([2])\n",
      "name=model.1.edge_conv.mlp.2.weight, shape = torch.Size([2, 2])\n",
      "name=model.1.edge_conv.mlp.2.bias, shape = torch.Size([2])\n",
      "name=model.1.edge_conv.mlp_t.0.weight, shape = torch.Size([2, 2])\n",
      "name=model.1.edge_conv.mlp_t.0.bias, shape = torch.Size([2])\n"
     ]
    }
   ],
   "source": [
    "for name,i in model_dcg.model.named_parameters():\n",
    "    if i.grad is not None:\n",
    "        shape = i.grad.shape\n",
    "    else:\n",
    "        shape='None'\n",
    "    \n",
    "    print(f\"name={name}, shape = {shape}\")\n",
    "    if \"temperature\" in name:\n",
    "        print(f\"name={name}, shape = {i.grad}\")"
   ]
  },
  {
   "cell_type": "code",
   "execution_count": 55,
   "metadata": {},
   "outputs": [
    {
     "name": "stdout",
     "output_type": "stream",
     "text": [
      "mlp.0.weight\n",
      "True\n",
      "tensor([[0., 0., 0., 0., 0., 0., 0., 0., 0., 0., 0., 0., 0., 0., 0., 0., 0., 0., 0., 0.]])\n",
      "mlp.0.bias\n",
      "True\n",
      "tensor([0.])\n",
      "mlp.2.weight\n",
      "True\n",
      "tensor([[0.]])\n",
      "mlp.2.bias\n",
      "True\n",
      "tensor([-10.])\n"
     ]
    }
   ],
   "source": [
    "import torch\n",
    "import torch_cluster\n",
    "from torch_geometric.nn import MessagePassing\n",
    "from torch.nn import Sequential as Seq, Linear, ReLU\n",
    "\n",
    "class EdgeConv(MessagePassing):\n",
    "    def __init__(self, in_channels, out_channels):\n",
    "        super().__init__(aggr='mean') #  \"Max\" aggregation.\n",
    "        self.mlp = Seq(Linear(2 * in_channels, out_channels),\n",
    "                       ReLU(),\n",
    "                       Linear(out_channels, out_channels))\n",
    "\n",
    "        # self.mlp_k0 = Seq(Linear(in_channels, out_channels),\n",
    "        #                ReLU(),\n",
    "        #                Linear(out_channels, out_channels))\n",
    "\n",
    "    def forward(self, x, edge_index):\n",
    "        # x has shape [N, in_channels]\n",
    "        # edge_index has shape [2, E]\n",
    "        \n",
    "        return self.propagate(edge_index, x=x)\n",
    "\n",
    "    def message(self, x_i, x_j):\n",
    "        # x_i has shape [E, in_channels]\n",
    "        # x_j has shape [E, in_channels] \n",
    "        # Workout the case when k=0, hence one node\n",
    "        # if torch.all(x_j == x_i):\n",
    "        #     return self.mlp_k0(x_i)\n",
    "\n",
    "        tmp = torch.cat([x_i, x_j - x_i], dim=1)  # tmp has shape [E, 2 * in_channels]\n",
    "        return self.mlp(tmp)\n",
    "\n",
    "\n",
    "ec = EdgeConv(10,1)\n",
    "\n",
    "a = torch.ones(10,10)*13\n",
    "edge_index = torch.Tensor([[0,1,2,3,4,5,6,7,8,9], [0,1,2,3,4,5,6,7,8,9]]).to(torch.long)\n",
    "res = ec(a, edge_index)\n",
    "torch.sum(torch.ones(res.shape) - res).backward()\n",
    "\n",
    "for name,i in ec.named_parameters():\n",
    "    print(name)\n",
    "    print(i.requires_grad)\n",
    "    print(i.grad)"
   ]
  },
  {
   "cell_type": "code",
   "execution_count": null,
   "metadata": {},
   "outputs": [],
   "source": [
    "\n",
    "\n"
   ]
  },
  {
   "cell_type": "code",
   "execution_count": 21,
   "metadata": {},
   "outputs": [
    {
     "data": {
      "text/plain": [
       "torch.Size([10, 1])"
      ]
     },
     "execution_count": 21,
     "metadata": {},
     "output_type": "execute_result"
    }
   ],
   "source": []
  },
  {
   "cell_type": "code",
   "execution_count": null,
   "metadata": {},
   "outputs": [],
   "source": []
  },
  {
   "cell_type": "code",
   "execution_count": null,
   "metadata": {},
   "outputs": [],
   "source": []
  },
  {
   "cell_type": "code",
   "execution_count": null,
   "metadata": {},
   "outputs": [],
   "source": []
  },
  {
   "cell_type": "code",
   "execution_count": null,
   "metadata": {},
   "outputs": [],
   "source": []
  },
  {
   "cell_type": "code",
   "execution_count": null,
   "metadata": {},
   "outputs": [],
   "source": []
  },
  {
   "cell_type": "code",
   "execution_count": null,
   "metadata": {},
   "outputs": [],
   "source": []
  },
  {
   "cell_type": "code",
   "execution_count": 3,
   "metadata": {},
   "outputs": [
    {
     "name": "stdout",
     "output_type": "stream",
     "text": [
      "i 0\n",
      "torch.Size([2, 455])\n",
      "k_degree 0\n",
      "torch.Size([455])\n",
      "torch.Size([455])\n",
      "i 1\n",
      "torch.Size([2, 455])\n",
      "k_degree 1\n",
      "torch.Size([323])\n",
      "torch.Size([455])\n",
      "i 2\n",
      "torch.Size([2, 910])\n",
      "k_degree 2\n",
      "torch.Size([423])\n",
      "torch.Size([455])\n",
      "i 3\n",
      "torch.Size([2, 1365])\n",
      "k_degree 3\n",
      "torch.Size([441])\n",
      "torch.Size([455])\n",
      "i 4\n",
      "torch.Size([2, 1820])\n",
      "k_degree 4\n",
      "torch.Size([447])\n",
      "torch.Size([455])\n",
      "------\n",
      "i 0\n",
      "torch.Size([2, 455])\n",
      "k_degree 1\n",
      "torch.Size([419])\n",
      "torch.Size([455])\n",
      "i 1\n",
      "torch.Size([2, 455])\n",
      "k_degree 1\n",
      "torch.Size([313])\n",
      "torch.Size([455])\n",
      "i 2\n",
      "torch.Size([2, 910])\n",
      "k_degree 2\n",
      "torch.Size([399])\n",
      "torch.Size([455])\n",
      "i 3\n",
      "torch.Size([2, 1365])\n",
      "k_degree 3\n",
      "torch.Size([424])\n",
      "torch.Size([455])\n",
      "i 4\n",
      "torch.Size([2, 1820])\n",
      "k_degree 4\n",
      "torch.Size([446])\n",
      "torch.Size([455])\n"
     ]
    }
   ],
   "source": [
    "def check(model):\n",
    "    for i in range(len(model.model.model)):\n",
    "        print('i', i)\n",
    "        nodes = model.model.model[i].edge_conv.edge_index\n",
    "        print(nodes.shape)\n",
    "        print(\"k_degree\", model.model.model[i].edge_conv.k_degree)\n",
    "        print(torch.unique(nodes[0]).shape)\n",
    "        print(torch.unique(nodes[1]).shape)\n",
    "\n",
    "\n",
    "check(model_classic)\n",
    "print('------')\n",
    "check(model_dcg)"
   ]
  },
  {
   "cell_type": "code",
   "execution_count": 5,
   "metadata": {},
   "outputs": [
    {
     "data": {
      "text/plain": [
       "{'loss': tensor(0.6780, grad_fn=<NllLossBackward0>),\n",
       " 'accuracy': tensor(0.6286),\n",
       " 'f1': 0.7719298245614035,\n",
       " 'avr_precision': tensor(0.3953),\n",
       " 'aucroc': tensor(0.2922),\n",
       " 'temperatue_0': tensor([1.]),\n",
       " 'temperatue_1': tensor([1.]),\n",
       " 'temperatue_2': tensor([1.]),\n",
       " 'temperatue_3': tensor([1.]),\n",
       " 'temperatue_4': tensor([1.])}"
      ]
     },
     "execution_count": 5,
     "metadata": {},
     "output_type": "execute_result"
    }
   ],
   "source": [
    "res_dcg"
   ]
  },
  {
   "cell_type": "code",
   "execution_count": 23,
   "metadata": {},
   "outputs": [
    {
     "name": "stdout",
     "output_type": "stream",
     "text": [
      "tensor([-20079384.])\n",
      "tensor([-0.1329])\n",
      "None\n",
      "None\n"
     ]
    },
    {
     "name": "stderr",
     "output_type": "stream",
     "text": [
      "/opt/anaconda3/envs/lev_eg/lib/python3.9/site-packages/torch/_tensor.py:1013: UserWarning: The .grad attribute of a Tensor that is not a leaf Tensor is being accessed. Its .grad attribute won't be populated during autograd.backward(). If you indeed want the .grad field to be populated for a non-leaf Tensor, use .retain_grad() on the non-leaf Tensor. If you access the non-leaf Tensor by mistake, make sure you access the leaf Tensor instead. See github.com/pytorch/pytorch/pull/30531 for more informations. (Triggered internally at  /opt/conda/conda-bld/pytorch_1634272068185/work/build/aten/src/ATen/core/TensorBody.h:417.)\n",
      "  return self._grad\n"
     ]
    }
   ],
   "source": []
  },
  {
   "cell_type": "code",
   "execution_count": 13,
   "metadata": {},
   "outputs": [
    {
     "data": {
      "text/plain": [
       "tensor(0.2233)"
      ]
     },
     "execution_count": 13,
     "metadata": {},
     "output_type": "execute_result"
    }
   ],
   "source": [
    "torch.Tensor([0.2233123123123121])[0]"
   ]
  },
  {
   "cell_type": "code",
   "execution_count": 4,
   "metadata": {},
   "outputs": [
    {
     "data": {
      "text/plain": [
       "tensor([[330, 282,   0, 223, 128,   1,   2,  45,  78,   3],\n",
       "        [  0,   0,   0,   1,   1,   1,   2,   2,   2,   3]])"
      ]
     },
     "execution_count": 4,
     "metadata": {},
     "output_type": "execute_result"
    }
   ],
   "source": [
    "idx = 3\n",
    "a = model_dcg.model.model[idx].edge_conv.edge_index[:, torch.argsort(model_dcg.model.model[idx].edge_conv.edge_index[1])]\n",
    "a[:,:10]"
   ]
  },
  {
   "cell_type": "code",
   "execution_count": 5,
   "metadata": {},
   "outputs": [
    {
     "data": {
      "text/plain": [
       "tensor([[1.0000e+00, 1.0000e-06, 1.0000e-06,  ..., 1.0000e-06, 1.0000e-06,\n",
       "         1.0000e-06],\n",
       "        [1.0000e-06, 1.0000e+00, 1.0000e-06,  ..., 1.0000e-06, 1.0000e-06,\n",
       "         1.0000e-06],\n",
       "        [1.0000e-06, 1.0000e-06, 1.0000e+00,  ..., 1.0000e-06, 1.0000e-06,\n",
       "         1.0000e-06],\n",
       "        ...,\n",
       "        [1.0000e-06, 1.0000e-06, 1.0000e-06,  ..., 1.0000e+00, 1.0000e-06,\n",
       "         1.0000e-06],\n",
       "        [1.0000e-06, 1.0000e-06, 1.0000e-06,  ..., 1.0000e-06, 1.0000e+00,\n",
       "         1.0000e-06],\n",
       "        [1.0000e-06, 1.0000e-06, 1.0000e-06,  ..., 1.0000e-06, 1.0000e-06,\n",
       "         1.0000e+00]], grad_fn=<AddBackward0>)"
      ]
     },
     "execution_count": 5,
     "metadata": {},
     "output_type": "execute_result"
    }
   ],
   "source": [
    "model_dcg.model.model[idx].edge_conv.probs"
   ]
  },
  {
   "cell_type": "code",
   "execution_count": 12,
   "metadata": {},
   "outputs": [],
   "source": [
    "\n",
    "    "
   ]
  },
  {
   "cell_type": "code",
   "execution_count": 13,
   "metadata": {},
   "outputs": [
    {
     "ename": "AttributeError",
     "evalue": "'DynamicEdgeConv_DCG' object has no attribute 'e'",
     "output_type": "error",
     "traceback": [
      "\u001b[0;31m---------------------------------------------------------------------------\u001b[0m",
      "\u001b[0;31mAttributeError\u001b[0m                            Traceback (most recent call last)",
      "\u001b[0;32m/tmp/ipykernel_1678620/3509137280.py\u001b[0m in \u001b[0;36m<module>\u001b[0;34m\u001b[0m\n\u001b[0;32m----> 1\u001b[0;31m \u001b[0mmodel_dcg\u001b[0m\u001b[0;34m.\u001b[0m\u001b[0mmodel\u001b[0m\u001b[0;34m.\u001b[0m\u001b[0mmodel\u001b[0m\u001b[0;34m[\u001b[0m\u001b[0midx\u001b[0m\u001b[0;34m]\u001b[0m\u001b[0;34m.\u001b[0m\u001b[0medge_conv\u001b[0m\u001b[0;34m.\u001b[0m\u001b[0me\u001b[0m\u001b[0;34m\u001b[0m\u001b[0;34m\u001b[0m\u001b[0m\n\u001b[0m",
      "\u001b[0;32m/opt/anaconda3/envs/lev_eg/lib/python3.9/site-packages/torch/nn/modules/module.py\u001b[0m in \u001b[0;36m__getattr__\u001b[0;34m(self, name)\u001b[0m\n\u001b[1;32m   1175\u001b[0m             \u001b[0;32mif\u001b[0m \u001b[0mname\u001b[0m \u001b[0;32min\u001b[0m \u001b[0mmodules\u001b[0m\u001b[0;34m:\u001b[0m\u001b[0;34m\u001b[0m\u001b[0;34m\u001b[0m\u001b[0m\n\u001b[1;32m   1176\u001b[0m                 \u001b[0;32mreturn\u001b[0m \u001b[0mmodules\u001b[0m\u001b[0;34m[\u001b[0m\u001b[0mname\u001b[0m\u001b[0;34m]\u001b[0m\u001b[0;34m\u001b[0m\u001b[0;34m\u001b[0m\u001b[0m\n\u001b[0;32m-> 1177\u001b[0;31m         raise AttributeError(\"'{}' object has no attribute '{}'\".format(\n\u001b[0m\u001b[1;32m   1178\u001b[0m             type(self).__name__, name))\n\u001b[1;32m   1179\u001b[0m \u001b[0;34m\u001b[0m\u001b[0m\n",
      "\u001b[0;31mAttributeError\u001b[0m: 'DynamicEdgeConv_DCG' object has no attribute 'e'"
     ]
    }
   ],
   "source": [
    "\n"
   ]
  },
  {
   "cell_type": "code",
   "execution_count": 4,
   "metadata": {},
   "outputs": [
    {
     "data": {
      "text/plain": [
       "Parameter containing:\n",
       "tensor([1.], requires_grad=True)"
      ]
     },
     "execution_count": 4,
     "metadata": {},
     "output_type": "execute_result"
    }
   ],
   "source": [
    "model_dcg.model.model[0].edge_conv.temperature"
   ]
  },
  {
   "cell_type": "code",
   "execution_count": 6,
   "metadata": {},
   "outputs": [],
   "source": [
    "nodes_emb = model_dcg.model.model[idx].edge_conv.nodes_emb"
   ]
  },
  {
   "cell_type": "code",
   "execution_count": 7,
   "metadata": {},
   "outputs": [
    {
     "data": {
      "text/plain": [
       "tensor([[1.0000e+00, 0.0000e+00, 2.7640e-13,  ..., 0.0000e+00, 0.0000e+00,\n",
       "         0.0000e+00],\n",
       "        [0.0000e+00, 1.0000e+00, 0.0000e+00,  ..., 0.0000e+00, 0.0000e+00,\n",
       "         0.0000e+00],\n",
       "        [2.7640e-13, 0.0000e+00, 1.0000e+00,  ..., 0.0000e+00, 0.0000e+00,\n",
       "         0.0000e+00],\n",
       "        ...,\n",
       "        [0.0000e+00, 0.0000e+00, 0.0000e+00,  ..., 1.0000e+00, 0.0000e+00,\n",
       "         0.0000e+00],\n",
       "        [0.0000e+00, 0.0000e+00, 0.0000e+00,  ..., 0.0000e+00, 1.0000e+00,\n",
       "         0.0000e+00],\n",
       "        [0.0000e+00, 0.0000e+00, 0.0000e+00,  ..., 0.0000e+00, 0.0000e+00,\n",
       "         1.0000e+00]])"
      ]
     },
     "execution_count": 7,
     "metadata": {},
     "output_type": "execute_result"
    }
   ],
   "source": [
    "torch.exp(-1 * torch.sum(nodes_emb - nodes_emb.unsqueeze(1), dim=-1)**2)"
   ]
  },
  {
   "cell_type": "code",
   "execution_count": 28,
   "metadata": {},
   "outputs": [
    {
     "data": {
      "text/plain": [
       "[Sequential(\n",
       "   (0): Linear(in_features=1, out_features=1, bias=True)\n",
       "   (conv_1): Linear(in_features=1, out_features=1, bias=True)\n",
       " ),\n",
       " Sequential(\n",
       "   (0): Linear(in_features=1, out_features=1, bias=True)\n",
       "   (conv_1): Linear(in_features=1, out_features=1, bias=True)\n",
       " )]"
      ]
     },
     "execution_count": 28,
     "metadata": {},
     "output_type": "execute_result"
    }
   ],
   "source": [
    "modules"
   ]
  },
  {
   "cell_type": "code",
   "execution_count": null,
   "metadata": {},
   "outputs": [],
   "source": []
  }
 ],
 "metadata": {
  "interpreter": {
   "hash": "55db34e3eb0b8f7fada3c1fa43b3f8bb963768f76ac17b05bae42770a05cca3f"
  },
  "kernelspec": {
   "display_name": "Python 3.6.15 64-bit ('edge_generation': conda)",
   "language": "python",
   "name": "python3"
  },
  "language_info": {
   "codemirror_mode": {
    "name": "ipython",
    "version": 3
   },
   "file_extension": ".py",
   "mimetype": "text/x-python",
   "name": "python",
   "nbconvert_exporter": "python",
   "pygments_lexer": "ipython3",
   "version": "3.9.7"
  },
  "orig_nbformat": 4
 },
 "nbformat": 4,
 "nbformat_minor": 2
}
