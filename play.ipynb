{
 "cells": [
  {
   "cell_type": "code",
   "execution_count": 3,
   "metadata": {},
   "outputs": [
    {
     "data": {
      "text/plain": [
       "hydra.initialize()"
      ]
     },
     "execution_count": 3,
     "metadata": {},
     "output_type": "execute_result"
    }
   ],
   "source": [
    "import sys\n",
    "sys.path.append('/home/lev/object-centric/edge-generation/models/')\n",
    "import torch_geometric\n",
    "import torch\n",
    "from omegaconf import OmegaConf\n",
    "from dataloader import PL_DataModule\n",
    "from models.model import Network\n",
    "\n",
    "import hydra\n",
    "\n",
    "from hydra import compose, initialize\n",
    "from omegaconf import OmegaConf\n",
    "from sklearn.metrics import confusion_matrix\n",
    "import numpy as np\n",
    "\n",
    "initialize(config_path=\"configs/\", job_name=\"test_app\")\n"
   ]
  },
  {
   "cell_type": "code",
   "execution_count": 6,
   "metadata": {},
   "outputs": [
    {
     "name": "stderr",
     "output_type": "stream",
     "text": [
      "/opt/anaconda3/envs/lev_eg/lib/python3.9/site-packages/torchmetrics/utilities/prints.py:36: UserWarning: Metric `AveragePrecision` will save all targets and predictions in buffer. For large datasets this may lead to large memory footprint.\n",
      "  warnings.warn(*args, **kwargs)\n",
      "/opt/anaconda3/envs/lev_eg/lib/python3.9/site-packages/torchmetrics/utilities/prints.py:36: UserWarning: Metric `AUROC` will save all targets and predictions in buffer. For large datasets this may lead to large memory footprint.\n",
      "  warnings.warn(*args, **kwargs)\n"
     ]
    },
    {
     "ename": "AttributeError",
     "evalue": "'Network' object has no attribute 'device'",
     "output_type": "error",
     "traceback": [
      "\u001b[0;31m---------------------------------------------------------------------------\u001b[0m",
      "\u001b[0;31mAttributeError\u001b[0m                            Traceback (most recent call last)",
      "\u001b[0;32m/tmp/ipykernel_1753762/288764774.py\u001b[0m in \u001b[0;36m<module>\u001b[0;34m\u001b[0m\n\u001b[1;32m      9\u001b[0m \u001b[0;34m\u001b[0m\u001b[0m\n\u001b[1;32m     10\u001b[0m \u001b[0mmodel_classic\u001b[0m \u001b[0;34m=\u001b[0m \u001b[0mNetwork\u001b[0m\u001b[0;34m(\u001b[0m\u001b[0mcfg\u001b[0m\u001b[0;34m.\u001b[0m\u001b[0mmodel\u001b[0m\u001b[0;34m)\u001b[0m\u001b[0;34m\u001b[0m\u001b[0;34m\u001b[0m\u001b[0m\n\u001b[0;32m---> 11\u001b[0;31m \u001b[0mres_cl\u001b[0m \u001b[0;34m=\u001b[0m \u001b[0mmodel_classic\u001b[0m\u001b[0;34m.\u001b[0m\u001b[0mloss_function\u001b[0m\u001b[0;34m(\u001b[0m\u001b[0mbatch\u001b[0m\u001b[0;34m)\u001b[0m\u001b[0;34m\u001b[0m\u001b[0;34m\u001b[0m\u001b[0m\n\u001b[0m\u001b[1;32m     12\u001b[0m \u001b[0;34m\u001b[0m\u001b[0m\n\u001b[1;32m     13\u001b[0m \u001b[0;34m\u001b[0m\u001b[0m\n",
      "\u001b[0;32m~/object-centric/edge-generation/models/model.py\u001b[0m in \u001b[0;36mloss_function\u001b[0;34m(self, batch)\u001b[0m\n\u001b[1;32m     53\u001b[0m         \u001b[0;32mif\u001b[0m \u001b[0mself\u001b[0m\u001b[0;34m.\u001b[0m\u001b[0mcfg\u001b[0m\u001b[0;34m.\u001b[0m\u001b[0medge_generation_type\u001b[0m \u001b[0;34m==\u001b[0m \u001b[0;34m\"DynamicEdgeConv_DGM\"\u001b[0m\u001b[0;34m:\u001b[0m\u001b[0;34m\u001b[0m\u001b[0;34m\u001b[0m\u001b[0m\n\u001b[1;32m     54\u001b[0m             \u001b[0mres_dict_dgm\u001b[0m \u001b[0;34m=\u001b[0m \u001b[0mself\u001b[0m\u001b[0;34m.\u001b[0m\u001b[0mtemperature_stat\u001b[0m\u001b[0;34m(\u001b[0m\u001b[0;34m)\u001b[0m\u001b[0;34m\u001b[0m\u001b[0;34m\u001b[0m\u001b[0m\n\u001b[0;32m---> 55\u001b[0;31m             \u001b[0mprob_loss\u001b[0m \u001b[0;34m=\u001b[0m \u001b[0mself\u001b[0m\u001b[0;34m.\u001b[0m\u001b[0mprob_loss\u001b[0m\u001b[0;34m(\u001b[0m\u001b[0my\u001b[0m\u001b[0;34m=\u001b[0m\u001b[0my\u001b[0m\u001b[0;34m,\u001b[0m \u001b[0mpreds\u001b[0m\u001b[0;34m=\u001b[0m\u001b[0mpreds\u001b[0m\u001b[0;34m)\u001b[0m\u001b[0;34m\u001b[0m\u001b[0;34m\u001b[0m\u001b[0m\n\u001b[0m\u001b[1;32m     56\u001b[0m             \u001b[0mres_dict_dgm\u001b[0m\u001b[0;34m[\u001b[0m\u001b[0;34m'loss_prob'\u001b[0m\u001b[0;34m]\u001b[0m \u001b[0;34m=\u001b[0m \u001b[0mprob_loss\u001b[0m\u001b[0;34m\u001b[0m\u001b[0;34m\u001b[0m\u001b[0m\n\u001b[1;32m     57\u001b[0m             \u001b[0mloss\u001b[0m \u001b[0;34m=\u001b[0m \u001b[0mloss_CE\u001b[0m \u001b[0;34m+\u001b[0m \u001b[0mprob_loss\u001b[0m\u001b[0;34m\u001b[0m\u001b[0;34m\u001b[0m\u001b[0m\n",
      "\u001b[0;32m~/object-centric/edge-generation/models/model.py\u001b[0m in \u001b[0;36mprob_loss\u001b[0;34m(self, y, preds)\u001b[0m\n\u001b[1;32m    100\u001b[0m         \u001b[0mmask_L\u001b[0m \u001b[0;34m=\u001b[0m \u001b[0mtorch\u001b[0m\u001b[0;34m.\u001b[0m\u001b[0mcat\u001b[0m\u001b[0;34m(\u001b[0m\u001b[0;34m[\u001b[0m\u001b[0mmodule\u001b[0m\u001b[0;34m[\u001b[0m\u001b[0mi\u001b[0m\u001b[0;34m]\u001b[0m\u001b[0;34m.\u001b[0m\u001b[0medge_conv\u001b[0m\u001b[0;34m.\u001b[0m\u001b[0mmask\u001b[0m\u001b[0;34m.\u001b[0m\u001b[0munsqueeze\u001b[0m\u001b[0;34m(\u001b[0m\u001b[0;36m0\u001b[0m\u001b[0;34m)\u001b[0m \u001b[0;32mfor\u001b[0m \u001b[0mi\u001b[0m \u001b[0;32min\u001b[0m \u001b[0mrange\u001b[0m\u001b[0;34m(\u001b[0m\u001b[0mn_modules\u001b[0m\u001b[0;34m)\u001b[0m\u001b[0;34m]\u001b[0m\u001b[0;34m,\u001b[0m \u001b[0mdim\u001b[0m\u001b[0;34m=\u001b[0m\u001b[0;36m0\u001b[0m\u001b[0;34m)\u001b[0m\u001b[0;34m\u001b[0m\u001b[0;34m\u001b[0m\u001b[0m\n\u001b[1;32m    101\u001b[0m \u001b[0;34m\u001b[0m\u001b[0m\n\u001b[0;32m--> 102\u001b[0;31m         \u001b[0md_vec\u001b[0m \u001b[0;34m=\u001b[0m \u001b[0mself\u001b[0m\u001b[0;34m.\u001b[0m\u001b[0mdelta_vector\u001b[0m\u001b[0;34m(\u001b[0m\u001b[0my\u001b[0m\u001b[0;34m,\u001b[0m \u001b[0mpreds\u001b[0m\u001b[0;34m)\u001b[0m\u001b[0;34m\u001b[0m\u001b[0;34m\u001b[0m\u001b[0m\n\u001b[0m\u001b[1;32m    103\u001b[0m \u001b[0;34m\u001b[0m\u001b[0m\n\u001b[1;32m    104\u001b[0m         \u001b[0mweight_mask\u001b[0m \u001b[0;34m=\u001b[0m \u001b[0;34m(\u001b[0m\u001b[0mprob_L\u001b[0m \u001b[0;34m*\u001b[0m \u001b[0mmask_L\u001b[0m\u001b[0;34m)\u001b[0m \u001b[0;34m*\u001b[0m \u001b[0md_vec\u001b[0m\u001b[0;34m\u001b[0m\u001b[0;34m\u001b[0m\u001b[0m\n",
      "\u001b[0;32m~/object-centric/edge-generation/models/model.py\u001b[0m in \u001b[0;36mdelta_vector\u001b[0;34m(self, y, preds)\u001b[0m\n\u001b[1;32m     85\u001b[0m \u001b[0;34m\u001b[0m\u001b[0m\n\u001b[1;32m     86\u001b[0m         \u001b[0;31m# get accuracy weight for each class in sequence\u001b[0m\u001b[0;34m\u001b[0m\u001b[0;34m\u001b[0m\u001b[0m\n\u001b[0;32m---> 87\u001b[0;31m         \u001b[0mclass_acc\u001b[0m \u001b[0;34m=\u001b[0m \u001b[0mclass_acc\u001b[0m\u001b[0;34m[\u001b[0m\u001b[0my\u001b[0m\u001b[0;34m]\u001b[0m\u001b[0;34m.\u001b[0m\u001b[0mto\u001b[0m\u001b[0;34m(\u001b[0m\u001b[0mself\u001b[0m\u001b[0;34m.\u001b[0m\u001b[0mdevice\u001b[0m\u001b[0;34m)\u001b[0m\u001b[0;34m\u001b[0m\u001b[0;34m\u001b[0m\u001b[0m\n\u001b[0m\u001b[1;32m     88\u001b[0m         \u001b[0mprint\u001b[0m\u001b[0;34m(\u001b[0m\u001b[0;34m\"class_acc\"\u001b[0m\u001b[0;34m,\u001b[0m \u001b[0mclass_acc\u001b[0m\u001b[0;34m[\u001b[0m\u001b[0;34m:\u001b[0m\u001b[0;36m10\u001b[0m\u001b[0;34m]\u001b[0m\u001b[0;34m)\u001b[0m\u001b[0;34m\u001b[0m\u001b[0;34m\u001b[0m\u001b[0m\n\u001b[1;32m     89\u001b[0m         \u001b[0;31m# 1) (y == preds) * (class_acc - 1) is equivalent to acc_cl - 1\u001b[0m\u001b[0;34m\u001b[0m\u001b[0;34m\u001b[0m\u001b[0m\n",
      "\u001b[0;32m/opt/anaconda3/envs/lev_eg/lib/python3.9/site-packages/torch/nn/modules/module.py\u001b[0m in \u001b[0;36m__getattr__\u001b[0;34m(self, name)\u001b[0m\n\u001b[1;32m   1175\u001b[0m             \u001b[0;32mif\u001b[0m \u001b[0mname\u001b[0m \u001b[0;32min\u001b[0m \u001b[0mmodules\u001b[0m\u001b[0;34m:\u001b[0m\u001b[0;34m\u001b[0m\u001b[0;34m\u001b[0m\u001b[0m\n\u001b[1;32m   1176\u001b[0m                 \u001b[0;32mreturn\u001b[0m \u001b[0mmodules\u001b[0m\u001b[0;34m[\u001b[0m\u001b[0mname\u001b[0m\u001b[0;34m]\u001b[0m\u001b[0;34m\u001b[0m\u001b[0;34m\u001b[0m\u001b[0m\n\u001b[0;32m-> 1177\u001b[0;31m         raise AttributeError(\"'{}' object has no attribute '{}'\".format(\n\u001b[0m\u001b[1;32m   1178\u001b[0m             type(self).__name__, name))\n\u001b[1;32m   1179\u001b[0m \u001b[0;34m\u001b[0m\u001b[0m\n",
      "\u001b[0;31mAttributeError\u001b[0m: 'Network' object has no attribute 'device'"
     ]
    }
   ],
   "source": [
    "cfg = compose(config_name=\"defaults\")\n",
    "pl = PL_DataModule(cfg.dataloader)\n",
    "batch = next(iter(pl.train_dataloader()))\n",
    "# Obtain feature sizes and number of labels\n",
    "\n",
    "cfg.model.insize = batch.x.shape[1]\n",
    "cfg.model.outsize = torch.unique(batch.y).shape[0]\n",
    "\n",
    "\n",
    "model_classic = Network(cfg.model)\n",
    "res_cl = model_classic.loss_function(batch)\n",
    "\n",
    "\n",
    "cfg = compose(config_name=\"defaults\")\n",
    "cfg.model.insize = batch.x.shape[1]\n",
    "cfg.model.outsize = torch.unique(batch.y).shape[0]\n",
    "cfg.model.edge_generation_type = 'DynamicEdgeConv_DGM'\n",
    "model_dcg = Network(cfg.model)\n",
    "res_dcg = model_dcg.loss_function(batch)\n",
    "\n",
    "res_cl['loss'].backward()\n",
    "res_dcg['loss'].backward()\n",
    "# res['loss'].backward()\n",
    "# for name,i in model.model.named_parameters():\n",
    "#     if 'temperature' in name:\n",
    "#         print(i)\n",
    "    "
   ]
  },
  {
   "cell_type": "code",
   "execution_count": null,
   "metadata": {},
   "outputs": [
    {
     "name": "stderr",
     "output_type": "stream",
     "text": [
      "/tmp/ipykernel_1745211/2661014610.py:3: RuntimeWarning: invalid value encountered in true_divide\n",
      "  cm = cm.astype('float') / cm.sum(axis=1)[:, np.newaxis]\n"
     ]
    },
    {
     "data": {
      "text/plain": [
       "tensor(2.1133, dtype=torch.float64, grad_fn=<SumBackward0>)"
      ]
     },
     "execution_count": 101,
     "metadata": {},
     "output_type": "execute_result"
    }
   ],
   "source": [
    "def weight_vector(y, preds):\n",
    "    cm = confusion_matrix(y, preds)\n",
    "    cm = cm.astype('float') / cm.sum(axis=1)[:, np.newaxis]\n",
    "    class_acc = torch.tensor(cm.diagonal())    \n",
    "\n",
    "    y = y.view(1, -1)\n",
    "    preds = preds.view(1, -1)\n",
    "    class_acc = class_acc[y]\n",
    "\n",
    "    weight_matrix = ((y == preds) * (class_acc-1) + (y != preds)*class_acc)\n",
    "    return weight_matrix\n",
    "\n",
    "y = torch.tensor(np.random.binomial(10, 0.3, 455)) \n",
    "preds = torch.tensor(np.random.binomial(10, 0.3, 455)) \n",
    "\n",
    "prob_L = torch.cat([model_dcg.model.model[i].edge_conv.probs.unsqueeze(0) for i in range(len(model_dcg.model.model))], dim=0)\n",
    "mask_L = torch.cat([(model_dcg.model.model[i].edge_conv.mask * 1).unsqueeze(0) for i in range(len(model_dcg.model.model))], dim=0)\n",
    "\n",
    "w_vec = weight_vector(y, preds)\n",
    "\n",
    "weight_mask = (prob_L * mask_L) * w_vec \n",
    "negative_mask = (mask_L == 0 ) * 1\n",
    "weight_mask = weight_mask + negative_mask\n",
    "weight_mask = torch.prod(weight_mask, dim=1)\n",
    "weight_mask.prod(dim=0).sum()\n",
    "\n"
   ]
  },
  {
   "cell_type": "code",
   "execution_count": 113,
   "metadata": {},
   "outputs": [
    {
     "data": {
      "text/plain": [
       "{3: 2, 2: 2, 5: 2}"
      ]
     },
     "execution_count": 113,
     "metadata": {},
     "output_type": "execute_result"
    }
   ],
   "source": [
    "a = {3:2, 2:2}\n",
    "b = {5:2, 2:2}\n",
    "dict(list(a.items()) + list(b.items()))"
   ]
  },
  {
   "cell_type": "code",
   "execution_count": 5,
   "metadata": {},
   "outputs": [
    {
     "ename": "NameError",
     "evalue": "name 'y' is not defined",
     "output_type": "error",
     "traceback": [
      "\u001b[0;31m---------------------------------------------------------------------------\u001b[0m",
      "\u001b[0;31mNameError\u001b[0m                                 Traceback (most recent call last)",
      "\u001b[0;32m/tmp/ipykernel_1753762/127836373.py\u001b[0m in \u001b[0;36m<module>\u001b[0;34m\u001b[0m\n\u001b[0;32m----> 1\u001b[0;31m \u001b[0my\u001b[0m\u001b[0;34m.\u001b[0m\u001b[0mdevice\u001b[0m\u001b[0;34m(\u001b[0m\u001b[0;34m)\u001b[0m\u001b[0;34m\u001b[0m\u001b[0;34m\u001b[0m\u001b[0m\n\u001b[0m",
      "\u001b[0;31mNameError\u001b[0m: name 'y' is not defined"
     ]
    }
   ],
   "source": [
    "y.device()"
   ]
  },
  {
   "cell_type": "code",
   "execution_count": 9,
   "metadata": {},
   "outputs": [
    {
     "data": {
      "text/plain": [
       "device(type='cpu')"
      ]
     },
     "execution_count": 9,
     "metadata": {},
     "output_type": "execute_result"
    }
   ],
   "source": [
    "batch.x.device"
   ]
  },
  {
   "cell_type": "code",
   "execution_count": 6,
   "metadata": {},
   "outputs": [
    {
     "name": "stdout",
     "output_type": "stream",
     "text": [
      "tensor([0.1333, 0.1800, 0.2783, 0.3440, 0.2250, 0.0714, 0.0400, 0.0000,    nan],\n",
      "       dtype=torch.float64)\n",
      "tensor([ 0.2250,  0.2250,  0.3440, -0.8200,  0.2250,  0.3440, -0.6560,  0.2250,\n",
      "         0.1800,  0.3440], dtype=torch.float64)\n",
      "tensor([4, 4, 3, 1, 4, 3, 3, 4, 1, 3])\n",
      "tensor([3, 3, 5, 1, 2, 0, 3, 3, 4, 4])\n"
     ]
    },
    {
     "name": "stderr",
     "output_type": "stream",
     "text": [
      "/tmp/ipykernel_1745211/1371237923.py:6: RuntimeWarning: invalid value encountered in true_divide\n",
      "  cm = cm.astype('float') / cm.sum(axis=1)[:, np.newaxis]\n"
     ]
    }
   ],
   "source": [
    "print(weight_vector(a, b)[0,:10])\n",
    "print(a[:10])\n",
    "print(b[:10])"
   ]
  },
  {
   "cell_type": "code",
   "execution_count": 40,
   "metadata": {},
   "outputs": [
    {
     "name": "stdout",
     "output_type": "stream",
     "text": [
      "tensor([0.1333, 0.1800, 0.2783, 0.3440, 0.2250, 0.0714, 0.0400, 0.0000,    nan],\n",
      "       dtype=torch.float64)\n"
     ]
    },
    {
     "name": "stderr",
     "output_type": "stream",
     "text": [
      "/tmp/ipykernel_1745211/1371237923.py:6: RuntimeWarning: invalid value encountered in true_divide\n",
      "  cm = cm.astype('float') / cm.sum(axis=1)[:, np.newaxis]\n"
     ]
    }
   ],
   "source": [
    "torch"
   ]
  },
  {
   "cell_type": "code",
   "execution_count": 91,
   "metadata": {},
   "outputs": [
    {
     "data": {
      "text/plain": [
       "tensor(-0.1573, dtype=torch.float64, grad_fn=<SumBackward0>)"
      ]
     },
     "execution_count": 91,
     "metadata": {},
     "output_type": "execute_result"
    }
   ],
   "source": []
  },
  {
   "cell_type": "code",
   "execution_count": 88,
   "metadata": {},
   "outputs": [
    {
     "data": {
      "text/plain": [
       "torch.Size([5])"
      ]
     },
     "execution_count": 88,
     "metadata": {},
     "output_type": "execute_result"
    }
   ],
   "source": [
    "torch.sum(torch.Tensor(10,5), dim=0).shape"
   ]
  },
  {
   "cell_type": "code",
   "execution_count": 85,
   "metadata": {},
   "outputs": [
    {
     "data": {
      "text/plain": [
       "tensor([[4.4773e-04, 3.0799e-41, 5.7232e-13, 3.0799e-41, 1.1210e-43],\n",
       "        [0.0000e+00, 8.9683e-44, 0.0000e+00, 5.0083e-04, 3.0799e-41],\n",
       "        [0.0000e+00, 0.0000e+00, 0.0000e+00, 0.0000e+00, 0.0000e+00],\n",
       "        [0.0000e+00, 0.0000e+00, 0.0000e+00, 1.4013e-45, 0.0000e+00],\n",
       "        [0.0000e+00, 0.0000e+00, 9.1084e-44, 0.0000e+00, 4.4773e-04],\n",
       "        [3.0799e-41, 5.0081e-04, 3.0799e-41, 5.8855e-44, 0.0000e+00],\n",
       "        [4.6243e-44, 0.0000e+00, 4.4790e-04, 3.0799e-41, 5.7231e-13],\n",
       "        [3.0799e-41, 2.9147e-43, 0.0000e+00, 1.1210e-43, 0.0000e+00],\n",
       "        [4.3079e-12, 3.0799e-41, 0.0000e+00, 0.0000e+00, 1.4013e-45],\n",
       "        [0.0000e+00, 0.0000e+00, 4.7851e+22, 6.1948e-04, 2.5749e-12]])"
      ]
     },
     "execution_count": 85,
     "metadata": {},
     "output_type": "execute_result"
    }
   ],
   "source": [
    "torch.Tensor(10,5)"
   ]
  },
  {
   "cell_type": "code",
   "execution_count": 73,
   "metadata": {},
   "outputs": [
    {
     "data": {
      "text/plain": [
       "tensor([[[1.0000e+00, 1.0000e-06, 7.4016e-02,  ..., 1.0000e-06,\n",
       "          1.0000e-06, 1.0000e-06],\n",
       "         [1.0000e-06, 1.0000e+00, 1.0000e-06,  ..., 1.0000e-06,\n",
       "          1.0000e-06, 1.0000e-06],\n",
       "         [7.4016e-02, 1.0000e-06, 1.0000e+00,  ..., 1.0000e-06,\n",
       "          1.0000e-06, 1.0000e-06],\n",
       "         ...,\n",
       "         [1.0000e-06, 1.0000e-06, 1.0000e-06,  ..., 1.0000e+00,\n",
       "          1.0000e-06, 1.0000e-06],\n",
       "         [1.0000e-06, 1.0000e-06, 1.0000e-06,  ..., 1.0000e-06,\n",
       "          1.0000e+00, 1.0000e-06],\n",
       "         [1.0000e-06, 1.0000e-06, 1.0000e-06,  ..., 1.0000e-06,\n",
       "          1.0000e-06, 1.0000e+00]],\n",
       "\n",
       "        [[1.0000e+00, 1.0000e+00, 1.0000e+00,  ..., 1.0000e+00,\n",
       "          1.0000e+00, 1.0000e+00],\n",
       "         [1.0000e+00, 1.0000e+00, 1.0000e+00,  ..., 1.0000e+00,\n",
       "          1.0000e+00, 1.0000e+00],\n",
       "         [1.0000e+00, 1.0000e+00, 1.0000e+00,  ..., 1.0000e+00,\n",
       "          1.0000e+00, 1.0000e+00],\n",
       "         ...,\n",
       "         [1.0000e+00, 1.0000e+00, 1.0000e+00,  ..., 1.0000e+00,\n",
       "          1.0000e+00, 1.0000e+00],\n",
       "         [1.0000e+00, 1.0000e+00, 1.0000e+00,  ..., 1.0000e+00,\n",
       "          1.0000e+00, 1.0000e+00],\n",
       "         [1.0000e+00, 1.0000e+00, 1.0000e+00,  ..., 1.0000e+00,\n",
       "          1.0000e+00, 1.0000e+00]]], grad_fn=<CatBackward0>)"
      ]
     },
     "execution_count": 73,
     "metadata": {},
     "output_type": "execute_result"
    }
   ],
   "source": [
    "probs"
   ]
  },
  {
   "cell_type": "code",
   "execution_count": 71,
   "metadata": {},
   "outputs": [
    {
     "data": {
      "text/plain": [
       "tensor([0, 0, 0,  ..., 1, 1, 1])"
      ]
     },
     "execution_count": 71,
     "metadata": {},
     "output_type": "execute_result"
    }
   ],
   "source": [
    "torch.where(maskes>0)[0]"
   ]
  },
  {
   "cell_type": "code",
   "execution_count": 72,
   "metadata": {},
   "outputs": [
    {
     "data": {
      "text/plain": [
       "tensor([[[1, 0, 0,  ..., 0, 0, 0],\n",
       "         [0, 1, 0,  ..., 0, 0, 0],\n",
       "         [0, 0, 0,  ..., 0, 0, 0],\n",
       "         ...,\n",
       "         [0, 0, 0,  ..., 0, 0, 0],\n",
       "         [0, 0, 0,  ..., 0, 0, 0],\n",
       "         [0, 0, 0,  ..., 0, 0, 0]],\n",
       "\n",
       "        [[0, 0, 0,  ..., 0, 0, 0],\n",
       "         [0, 0, 0,  ..., 0, 0, 0],\n",
       "         [0, 0, 0,  ..., 0, 0, 0],\n",
       "         ...,\n",
       "         [0, 0, 0,  ..., 0, 0, 0],\n",
       "         [0, 0, 0,  ..., 0, 1, 0],\n",
       "         [0, 0, 0,  ..., 0, 0, 0]]])"
      ]
     },
     "execution_count": 72,
     "metadata": {},
     "output_type": "execute_result"
    }
   ],
   "source": [
    "maskes"
   ]
  },
  {
   "cell_type": "code",
   "execution_count": 223,
   "metadata": {},
   "outputs": [],
   "source": [
    "def generate_matrix2(y, preds):\n",
    "    cm = confusion_matrix(y, preds)\n",
    "    cm = cm.astype('float') / cm.sum(axis=1)[:, np.newaxis]\n",
    "    class_acc = cm.diagonal()\n",
    "\n",
    "    matrix_y = y.view(1, 1, -1).repeat((1, batch.x.shape[0], 1))\n",
    "    matrix_pred = preds.view(1, 1, -1).repeat((1, batch.x.shape[0], 1))\n",
    "\n",
    "    unique_labels = torch.unique(y).view(-1, 1, 1)\n",
    "    class_acc = torch.tensor(class_acc).view(-1, 1, 1)\n",
    "    \n",
    "    class_acc = class_acc[matrix_y].view(1, batch.x.shape[0], batch.x.shape[0])\n",
    "    #matrix_y = (matrix_y == unique_labels) * class_acc\n",
    "    \n",
    "    weight_matrix = ((matrix_y == matrix_pred) * (class_acc-1) + (matrix_y != matrix_pred)*class_acc)\n",
    "\n",
    "    # matrix_pred = (matrix_pred == unique_labels) * (-1)\n",
    "    # weight_matrix = (matrix_pred + matrix_y).sum(dim=0)\n",
    "    return weight_matrix, matrix_y, class_acc"
   ]
  },
  {
   "cell_type": "code",
   "execution_count": 243,
   "metadata": {},
   "outputs": [],
   "source": [
    "def generate_matrix2(y, preds):\n",
    "    cm = confusion_matrix(y, preds)\n",
    "    cm = cm.astype('float') / cm.sum(axis=1)[:, np.newaxis]\n",
    "    class_acc = cm.diagonal()\n",
    "\n",
    "    matrix_y = y.view(1,-1)\n",
    "    matrix_pred = preds.view(1,-1)\n",
    "\n",
    "    unique_labels = torch.unique(y).view(-1, 1)\n",
    "    class_acc = torch.tensor(class_acc).view(-1, 1)\n",
    "    print(class_acc)\n",
    "    #class_acc = class_acc[matrix_y].view(1,455,455)\n",
    "    #matrix_y = (matrix_y == unique_labels) * class_acc\n",
    "    class_acc = class_acc[matrix_y]\n",
    "    weight_matrix = ((matrix_y == matrix_pred) * (class_acc-1) + (matrix_y != matrix_pred)*class_acc)\n",
    "\n",
    "    # matrix_pred = (matrix_pred == unique_labels) * (-1)\n",
    "    # weight_matrix = (matrix_pred + matrix_y).sum(dim=0)\n",
    "    return weight_matrix, matrix_y, class_acc"
   ]
  },
  {
   "cell_type": "code",
   "execution_count": 4,
   "metadata": {},
   "outputs": [],
   "source": [
    "\n",
    "    \n"
   ]
  },
  {
   "cell_type": "code",
   "execution_count": 266,
   "metadata": {},
   "outputs": [
    {
     "data": {
      "text/plain": [
       "tensor([[-0.8333,  0.1333, -0.7043,  0.1667,  0.2957,  0.0909,  0.0909,  0.2957,\n",
       "         -0.7043,  0.1667]], dtype=torch.float64)"
      ]
     },
     "execution_count": 266,
     "metadata": {},
     "output_type": "execute_result"
    }
   ],
   "source": [
    "weight_matrix[:, :10]"
   ]
  },
  {
   "cell_type": "code",
   "execution_count": 269,
   "metadata": {},
   "outputs": [
    {
     "name": "stdout",
     "output_type": "stream",
     "text": [
      "tensor([4, 6, 2, 4, 2, 1, 1, 2, 2, 4])\n",
      "tensor([4, 3, 2, 6, 5, 4, 2, 4, 2, 2])\n"
     ]
    }
   ],
   "source": [
    "print(a[:10])\n",
    "print(b[:10])"
   ]
  },
  {
   "cell_type": "code",
   "execution_count": 270,
   "metadata": {},
   "outputs": [
    {
     "data": {
      "text/plain": [
       "array([0.        , 0.09090909, 0.29565217, 0.2519685 , 0.16666667,\n",
       "       0.09756098, 0.13333333, 0.        , 0.        ])"
      ]
     },
     "execution_count": 270,
     "metadata": {},
     "output_type": "execute_result"
    }
   ],
   "source": [
    "cm.diagonal()"
   ]
  },
  {
   "cell_type": "code",
   "execution_count": 271,
   "metadata": {},
   "outputs": [
    {
     "data": {
      "text/plain": [
       "0.83333333"
      ]
     },
     "execution_count": 271,
     "metadata": {},
     "output_type": "execute_result"
    }
   ],
   "source": [
    "1 -  0.16666667"
   ]
  },
  {
   "cell_type": "code",
   "execution_count": 244,
   "metadata": {},
   "outputs": [
    {
     "name": "stdout",
     "output_type": "stream",
     "text": [
      "tensor([[0.0000],\n",
      "        [0.0909],\n",
      "        [0.2957],\n",
      "        [0.2520],\n",
      "        [0.1667],\n",
      "        [0.0976],\n",
      "        [0.1333],\n",
      "        [0.0000],\n",
      "        [0.0000]], dtype=torch.float64)\n"
     ]
    }
   ],
   "source": [
    "weight_matrix, matrix_y, class_acc = generate_matrix2(a, b)"
   ]
  },
  {
   "cell_type": "code",
   "execution_count": 245,
   "metadata": {},
   "outputs": [
    {
     "data": {
      "text/plain": [
       "tensor([[[-0.8333,  0.1667, -0.8333,  ..., -0.8333, -0.8333,  0.1667],\n",
       "         [-0.8667,  0.1333, -0.8667,  ..., -0.8667, -0.8667,  0.1333],\n",
       "         [-0.7043,  0.2957, -0.7043,  ..., -0.7043, -0.7043,  0.2957],\n",
       "         ...,\n",
       "         [-0.7043,  0.2957, -0.7043,  ..., -0.7043, -0.7043,  0.2957],\n",
       "         [-0.7043,  0.2957, -0.7043,  ..., -0.7043, -0.7043,  0.2957],\n",
       "         [-0.7043,  0.2957, -0.7043,  ..., -0.7043, -0.7043,  0.2957]]],\n",
       "       dtype=torch.float64)"
      ]
     },
     "execution_count": 245,
     "metadata": {},
     "output_type": "execute_result"
    }
   ],
   "source": [
    "weight_matrix"
   ]
  },
  {
   "cell_type": "code",
   "execution_count": 225,
   "metadata": {},
   "outputs": [
    {
     "data": {
      "text/plain": [
       "tensor([[[-0.8333,  0.1333, -0.7043,  ...,  0.2957, -0.7043,  0.1667],\n",
       "         [-0.8333,  0.1333, -0.7043,  ...,  0.2957, -0.7043,  0.1667],\n",
       "         [-0.8333,  0.1333, -0.7043,  ...,  0.2957, -0.7043,  0.1667],\n",
       "         ...,\n",
       "         [-0.8333,  0.1333, -0.7043,  ...,  0.2957, -0.7043,  0.1667],\n",
       "         [-0.8333,  0.1333, -0.7043,  ...,  0.2957, -0.7043,  0.1667],\n",
       "         [-0.8333,  0.1333, -0.7043,  ...,  0.2957, -0.7043,  0.1667]]],\n",
       "       dtype=torch.float64)"
      ]
     },
     "execution_count": 225,
     "metadata": {},
     "output_type": "execute_result"
    }
   ],
   "source": [
    "weight_matrix[:,:,:10]"
   ]
  },
  {
   "cell_type": "code",
   "execution_count": 233,
   "metadata": {},
   "outputs": [
    {
     "name": "stdout",
     "output_type": "stream",
     "text": [
      "tensor([4, 6, 2, 4, 2, 1, 1, 2, 2, 4])\n",
      "tensor([4, 3, 2, 6, 5, 4, 2, 4, 2, 2])\n"
     ]
    }
   ],
   "source": [
    "print(a[:10])\n",
    "print(b[:10])"
   ]
  },
  {
   "cell_type": "code",
   "execution_count": 222,
   "metadata": {},
   "outputs": [
    {
     "data": {
      "text/plain": [
       "tensor([[[0.1667, 0.1333, 0.2957,  ..., 0.2957, 0.2957, 0.2957],\n",
       "         [0.1667, 0.1333, 0.2957,  ..., 0.2957, 0.2957, 0.2957],\n",
       "         [0.1667, 0.1333, 0.2957,  ..., 0.2957, 0.2957, 0.2957],\n",
       "         ...,\n",
       "         [0.1667, 0.1333, 0.2957,  ..., 0.2957, 0.2957, 0.2957],\n",
       "         [0.1667, 0.1333, 0.2957,  ..., 0.2957, 0.2957, 0.2957],\n",
       "         [0.1667, 0.1333, 0.2957,  ..., 0.2957, 0.2957, 0.2957]]],\n",
       "       dtype=torch.float64)"
      ]
     },
     "execution_count": 222,
     "metadata": {},
     "output_type": "execute_result"
    }
   ],
   "source": [
    "class_acc"
   ]
  },
  {
   "cell_type": "code",
   "execution_count": 203,
   "metadata": {},
   "outputs": [
    {
     "data": {
      "text/plain": [
       "torch.Size([9, 455, 455])"
      ]
     },
     "execution_count": 203,
     "metadata": {},
     "output_type": "execute_result"
    }
   ],
   "source": [
    "wm.shape"
   ]
  },
  {
   "cell_type": "code",
   "execution_count": null,
   "metadata": {},
   "outputs": [],
   "source": []
  },
  {
   "cell_type": "code",
   "execution_count": 187,
   "metadata": {},
   "outputs": [
    {
     "data": {
      "text/plain": [
       "tensor([[-0.7480,  0.2520, -0.7480,  ..., -0.7480, -0.7480,  0.2520],\n",
       "        [-0.7480,  0.2520, -0.7480,  ..., -0.7480, -0.7480,  0.2520],\n",
       "        [-0.7480,  0.2520, -0.7480,  ..., -0.7480, -0.7480,  0.2520],\n",
       "        ...,\n",
       "        [-0.7480,  0.2520, -0.7480,  ..., -0.7480, -0.7480,  0.2520],\n",
       "        [-0.7480,  0.2520, -0.7480,  ..., -0.7480, -0.7480,  0.2520],\n",
       "        [-0.7480,  0.2520, -0.7480,  ..., -0.7480, -0.7480,  0.2520]],\n",
       "       dtype=torch.float64)"
      ]
     },
     "execution_count": 187,
     "metadata": {},
     "output_type": "execute_result"
    }
   ],
   "source": [
    "generate_matrix2(a, b)[3]"
   ]
  },
  {
   "cell_type": "code",
   "execution_count": 84,
   "metadata": {},
   "outputs": [],
   "source": [
    "def generate_mask(y, preds):\n",
    "    \n",
    "    cm = confusion_matrix(y, preds)\n",
    "    cm = cm.astype('float') / cm.sum(axis=1)[:, np.newaxis]\n",
    "    class_acc = cm.diagonal()\n",
    "    print(class_acc)\n",
    "\n",
    "    class_mask = y.unsqueeze(0).repeat((batch.x.shape[0],1))\n",
    "    pred_mask = preds.unsqueeze(0).repeat((batch.x.shape[0],1)) \n",
    "    final_mask = torch.zeros((batch.x.shape[0], batch.x.shape[0]))\n",
    "    for cl in range(len(class_acc)):\n",
    "        class_mask_temp = (class_mask == cl) * class_acc[cl]\n",
    "        pred_mask_temp = (pred_mask == cl) * (-1)\n",
    "        final_mask += class_mask_temp + pred_mask_temp\n",
    "    return final_mask\n",
    "\n",
    "    "
   ]
  },
  {
   "cell_type": "code",
   "execution_count": 179,
   "metadata": {},
   "outputs": [
    {
     "data": {
      "text/plain": [
       "tensor([[-7.9639,  1.0361, -7.9639,  ..., -7.9639, -7.9639,  1.0361],\n",
       "        [-7.9639,  1.0361, -7.9639,  ..., -7.9639, -7.9639,  1.0361],\n",
       "        [-7.9639,  1.0361, -7.9639,  ..., -7.9639, -7.9639,  1.0361],\n",
       "        ...,\n",
       "        [-7.9639,  1.0361, -7.9639,  ..., -7.9639, -7.9639,  1.0361],\n",
       "        [-7.9639,  1.0361, -7.9639,  ..., -7.9639, -7.9639,  1.0361],\n",
       "        [-7.9639,  1.0361, -7.9639,  ..., -7.9639, -7.9639,  1.0361]],\n",
       "       dtype=torch.float64)"
      ]
     },
     "execution_count": 179,
     "metadata": {},
     "output_type": "execute_result"
    }
   ],
   "source": [
    "generate_matrix2(a, b)"
   ]
  },
  {
   "cell_type": "code",
   "execution_count": 178,
   "metadata": {},
   "outputs": [
    {
     "name": "stdout",
     "output_type": "stream",
     "text": [
      "[0.         0.09090909 0.29565217 0.2519685  0.16666667 0.09756098\n",
      " 0.13333333 0.         0.        ]\n"
     ]
    },
    {
     "data": {
      "text/plain": [
       "tensor([[-0.8333, -0.8667, -0.7043,  ..., -0.7043, -0.7043, -0.7043],\n",
       "        [-0.8333, -0.8667, -0.7043,  ..., -0.7043, -0.7043, -0.7043],\n",
       "        [-0.8333, -0.8667, -0.7043,  ..., -0.7043, -0.7043, -0.7043],\n",
       "        ...,\n",
       "        [-0.8333, -0.8667, -0.7043,  ..., -0.7043, -0.7043, -0.7043],\n",
       "        [-0.8333, -0.8667, -0.7043,  ..., -0.7043, -0.7043, -0.7043],\n",
       "        [-0.8333, -0.8667, -0.7043,  ..., -0.7043, -0.7043, -0.7043]])"
      ]
     },
     "execution_count": 178,
     "metadata": {},
     "output_type": "execute_result"
    }
   ],
   "source": [
    "a = torch.tensor(np.random.binomial(10, 0.3, 455)) #torch.bernoulli(torch.ones(455)-0.5)\n",
    "b = torch.tensor(np.random.binomial(10, 0.3, 455)) #torch.bernoulli(torch.ones(455)-0.5)\n",
    "generate_mask(a, b)"
   ]
  },
  {
   "cell_type": "code",
   "execution_count": 173,
   "metadata": {},
   "outputs": [
    {
     "name": "stdout",
     "output_type": "stream",
     "text": [
      "tensor([2, 3, 3, 2, 3, 3, 2, 3, 3, 5])\n",
      "tensor([5, 3, 3, 5, 3, 2, 2, 6, 4, 3])\n"
     ]
    }
   ],
   "source": [
    "print(a[:10])\n",
    "print(b[:10])"
   ]
  },
  {
   "cell_type": "code",
   "execution_count": 159,
   "metadata": {},
   "outputs": [
    {
     "data": {
      "text/plain": [
       "array([2, 5, 3, 3, 4, 3, 5, 1, 1, 1, 7, 7, 2, 3, 2, 8, 3, 3, 3, 4, 2, 3,\n",
       "       5, 2, 3, 0, 2, 4, 2, 2, 2, 2, 4, 2, 4, 2, 4, 4, 2, 3, 1, 6, 4, 2,\n",
       "       2, 1, 4, 0, 2, 0, 4, 3, 3, 5, 7, 2, 3, 3, 1, 5, 4, 6, 4, 1, 3, 2,\n",
       "       1, 1, 4, 3, 1, 3, 4, 2, 1, 4, 6, 2, 5, 3, 2, 6, 6, 2, 5, 3, 4, 3,\n",
       "       4, 2, 5, 2, 7, 2, 6, 4, 4, 2, 2, 5, 3, 5, 2, 3, 4, 1, 3, 5, 4, 1,\n",
       "       5, 2, 3, 1, 2, 3, 3, 3, 5, 3, 3, 3, 3, 4, 4, 5, 2, 5, 4, 5, 3, 5,\n",
       "       3, 3, 0, 3, 1, 2, 2, 1, 5, 2, 5, 2, 2, 4, 2, 2, 1, 5, 3, 4, 3, 1,\n",
       "       2, 8, 3, 2, 3, 2, 3, 1, 4, 4, 2, 3, 3, 7, 3, 7, 2, 3, 2, 2, 3, 4,\n",
       "       2, 3, 2, 3, 4, 3, 4, 3, 2, 2, 1, 3, 5, 2, 1, 1, 2, 3, 4, 4, 3, 2,\n",
       "       2, 4, 2, 1, 4, 0, 3, 2, 1, 2, 2, 4, 3, 9, 2, 4, 3, 1, 2, 3, 4, 2,\n",
       "       4, 2, 2, 2, 3, 3, 4, 4, 2, 3, 5, 3, 3, 4, 2, 6, 4, 6, 2, 4, 4, 1,\n",
       "       4, 4, 2, 1, 1, 4, 3, 4, 4, 3, 3, 3, 3, 7, 1, 5, 1, 1, 4, 3, 4, 4,\n",
       "       4, 4, 1, 2, 2, 5, 3, 9, 1, 1, 4, 1, 4, 3, 3, 1, 2, 1, 4, 3, 3, 4,\n",
       "       2, 3, 2, 1, 2, 4, 2, 3, 3, 2, 4, 5, 1, 1, 4, 2, 1, 4, 2, 0, 1, 3,\n",
       "       2, 4, 2, 4, 3, 2, 1, 3, 4, 2, 4, 2, 5, 3, 4, 2, 6, 4, 0, 1, 3, 2,\n",
       "       4, 6, 4, 3, 4, 3, 3, 2, 4, 4, 3, 4, 1, 3, 4, 1, 2, 3, 1, 4, 4, 3,\n",
       "       4, 4, 4, 1, 4, 2, 4, 4, 2, 0, 3, 3, 2, 4, 3, 2, 3, 3, 2, 2, 3, 3,\n",
       "       3, 3, 1, 3, 2, 3, 3, 9, 2, 5, 5, 1, 2, 4, 3, 1, 5, 4, 1, 4, 1, 2,\n",
       "       5, 7, 3, 3, 5, 3, 3, 1, 3, 5, 3, 4, 4, 3, 3, 3, 2, 5, 1, 2, 3, 4,\n",
       "       3, 1, 1, 1, 0, 0, 2, 2, 2, 4, 3, 4, 5, 3, 2, 2, 3, 2, 5, 5, 3, 3,\n",
       "       3, 3, 5, 4, 5, 1, 4, 3, 1, 2, 2, 3, 3, 4, 1])"
      ]
     },
     "execution_count": 159,
     "metadata": {},
     "output_type": "execute_result"
    }
   ],
   "source": []
  },
  {
   "cell_type": "code",
   "execution_count": 5,
   "metadata": {},
   "outputs": [],
   "source": [
    "probs = model_dcg.model.model[-1].edge_conv.probs\n",
    "mask = model_dcg.model.model[-1].edge_conv.mask*1\n"
   ]
  },
  {
   "cell_type": "code",
   "execution_count": 21,
   "metadata": {},
   "outputs": [
    {
     "data": {
      "text/plain": [
       "torch.Size([910])"
      ]
     },
     "execution_count": 21,
     "metadata": {},
     "output_type": "execute_result"
    }
   ],
   "source": [
    "mask[model_dcg.model.model[-1].edge_conv.edge_index[0],model_dcg.model.model[-1].edge_conv.edge_index[1]].shape"
   ]
  },
  {
   "cell_type": "code",
   "execution_count": 28,
   "metadata": {},
   "outputs": [
    {
     "data": {
      "text/plain": [
       "tensor([2, 2, 2, 2, 2, 2, 2, 2, 2, 2, 2, 2, 2, 2, 2, 2, 2, 2, 2, 2, 2, 2, 2, 2,\n",
       "        2, 2, 2, 2, 2, 2, 2, 2, 2, 2, 2, 2, 2, 2, 2, 2, 2, 2, 2, 2, 2, 2, 2, 2,\n",
       "        2, 2, 2, 2, 2, 2, 2, 2, 2, 2, 2, 2, 2, 2, 2, 2, 2, 2, 2, 2, 2, 2, 2, 2,\n",
       "        2, 2, 2, 2, 2, 2, 2, 2, 2, 2, 2, 2, 2, 2, 2, 2, 2, 2, 2, 2, 2, 2, 2, 2,\n",
       "        2, 2, 2, 2, 2, 2, 2, 2, 2, 2, 2, 2, 2, 2, 2, 2, 2, 2, 2, 2, 2, 2, 2, 2,\n",
       "        2, 2, 2, 2, 2, 2, 2, 2, 2, 2, 2, 2, 2, 2, 2, 2, 2, 2, 2, 2, 2, 2, 2, 2,\n",
       "        2, 2, 2, 2, 2, 2, 2, 2, 2, 2, 2, 2, 2, 2, 2, 2, 2, 2, 2, 2, 2, 2, 2, 2,\n",
       "        2, 2, 2, 2, 2, 2, 2, 2, 2, 2, 2, 2, 2, 2, 2, 2, 2, 2, 2, 2, 2, 2, 2, 2,\n",
       "        2, 2, 2, 2, 2, 2, 2, 2, 2, 2, 2, 2, 2, 2, 2, 2, 2, 2, 2, 2, 2, 2, 2, 2,\n",
       "        2, 2, 2, 2, 2, 2, 2, 2, 2, 2, 2, 2, 2, 2, 2, 2, 2, 2, 2, 2, 2, 2, 2, 2,\n",
       "        2, 2, 2, 2, 2, 2, 2, 2, 2, 2, 2, 2, 2, 2, 2, 2, 2, 2, 2, 2, 2, 2, 2, 2,\n",
       "        2, 2, 2, 2, 2, 2, 2, 2, 2, 2, 2, 2, 2, 2, 2, 2, 2, 2, 2, 2, 2, 2, 2, 2,\n",
       "        2, 2, 2, 2, 2, 2, 2, 2, 2, 2, 2, 2, 2, 2, 2, 2, 2, 2, 2, 2, 2, 2, 2, 2,\n",
       "        2, 2, 2, 2, 2, 2, 2, 2, 2, 2, 2, 2, 2, 2, 2, 2, 2, 2, 2, 2, 2, 2, 2, 2,\n",
       "        2, 2, 2, 2, 2, 2, 2, 2, 2, 2, 2, 2, 2, 2, 2, 2, 2, 2, 2, 2, 2, 2, 2, 2,\n",
       "        2, 2, 2, 2, 2, 2, 2, 2, 2, 2, 2, 2, 2, 2, 2, 2, 2, 2, 2, 2, 2, 2, 2, 2,\n",
       "        2, 2, 2, 2, 2, 2, 2, 2, 2, 2, 2, 2, 2, 2, 2, 2, 2, 2, 2, 2, 2, 2, 2, 2,\n",
       "        2, 2, 2, 2, 2, 2, 2, 2, 2, 2, 2, 2, 2, 2, 2, 2, 2, 2, 2, 2, 2, 2, 2, 2,\n",
       "        2, 2, 2, 2, 2, 2, 2, 2, 2, 2, 2, 2, 2, 2, 2, 2, 2, 2, 2, 2, 2, 2, 2])"
      ]
     },
     "execution_count": 28,
     "metadata": {},
     "output_type": "execute_result"
    }
   ],
   "source": [
    "mask.sum(dim=0)\n"
   ]
  },
  {
   "cell_type": "code",
   "execution_count": 36,
   "metadata": {},
   "outputs": [
    {
     "data": {
      "text/plain": [
       "tensor([[0, 0, 0,  ..., 0, 0, 0],\n",
       "        [0, 0, 0,  ..., 0, 0, 0],\n",
       "        [0, 0, 0,  ..., 0, 0, 0],\n",
       "        ...,\n",
       "        [0, 0, 0,  ..., 0, 0, 0],\n",
       "        [0, 0, 0,  ..., 0, 0, 0],\n",
       "        [0, 0, 0,  ..., 0, 0, 0]])"
      ]
     },
     "execution_count": 36,
     "metadata": {},
     "output_type": "execute_result"
    }
   ],
   "source": [
    "mask"
   ]
  },
  {
   "cell_type": "code",
   "execution_count": 7,
   "metadata": {},
   "outputs": [
    {
     "data": {
      "text/plain": [
       "array([1.        , 0.        , 0.66666667])"
      ]
     },
     "execution_count": 7,
     "metadata": {},
     "output_type": "execute_result"
    }
   ],
   "source": [
    "from sklearn.metrics import confusion_matrix\n",
    "\n",
    "import numpy as np\n",
    "\n",
    "y_true = [0, 1, 2, 2, 2]\n",
    "\n",
    "y_pred = [0, 0, 2, 2, 1]\n",
    "\n",
    "\n",
    "\n",
    "\n",
    "\n",
    "cm = confusion_matrix(y_true, y_pred)\n",
    "cm = cm.astype('float') / cm.sum(axis=1)[:, np.newaxis]\n",
    "cm.diagonal()\n",
    "\n",
    "#array([1.        , 0.        , 0.66666667])"
   ]
  },
  {
   "cell_type": "code",
   "execution_count": null,
   "metadata": {},
   "outputs": [
    {
     "name": "stdout",
     "output_type": "stream",
     "text": [
      "name=model.0.edge_conv.mlp.0.weight, shape = torch.Size([2, 60])\n",
      "name=model.0.edge_conv.mlp.0.bias, shape = torch.Size([2])\n",
      "name=model.0.edge_conv.mlp.2.weight, shape = torch.Size([2, 2])\n",
      "name=model.0.edge_conv.mlp.2.bias, shape = torch.Size([2])\n",
      "name=model.1.edge_conv.mlp.0.weight, shape = torch.Size([2, 4])\n",
      "name=model.1.edge_conv.mlp.0.bias, shape = torch.Size([2])\n",
      "name=model.1.edge_conv.mlp.2.weight, shape = torch.Size([2, 2])\n",
      "name=model.1.edge_conv.mlp.2.bias, shape = torch.Size([2])\n"
     ]
    }
   ],
   "source": [
    "# for name,i in model_classic.model.named_parameters():\n",
    "#     if i.grad is not None:\n",
    "#         shape = i.grad.shape\n",
    "#     else:\n",
    "#         shape='None'\n",
    "    \n",
    "#     print(f\"name={name}, shape = {shape}\")\n",
    "\n",
    "    \n",
    "    "
   ]
  },
  {
   "cell_type": "code",
   "execution_count": 5,
   "metadata": {},
   "outputs": [
    {
     "name": "stdout",
     "output_type": "stream",
     "text": [
      "name=model.0.edge_conv.temperature, shape = torch.Size([1])\n",
      "name=model.0.edge_conv.temperature, shape = tensor([18.3348])\n",
      "name=model.0.edge_conv.mlp.0.weight, shape = torch.Size([2, 60])\n",
      "name=model.0.edge_conv.mlp.0.bias, shape = torch.Size([2])\n",
      "name=model.0.edge_conv.mlp.2.weight, shape = torch.Size([2, 2])\n",
      "name=model.0.edge_conv.mlp.2.bias, shape = torch.Size([2])\n",
      "name=model.0.edge_conv.mlp_t.0.weight, shape = torch.Size([30, 30])\n",
      "name=model.0.edge_conv.mlp_t.0.bias, shape = torch.Size([30])\n",
      "name=model.1.edge_conv.temperature, shape = torch.Size([1])\n",
      "name=model.1.edge_conv.temperature, shape = tensor([-2186.8000])\n",
      "name=model.1.edge_conv.mlp.0.weight, shape = torch.Size([2, 4])\n",
      "name=model.1.edge_conv.mlp.0.bias, shape = torch.Size([2])\n",
      "name=model.1.edge_conv.mlp.2.weight, shape = torch.Size([2, 2])\n",
      "name=model.1.edge_conv.mlp.2.bias, shape = torch.Size([2])\n",
      "name=model.1.edge_conv.mlp_t.0.weight, shape = torch.Size([2, 2])\n",
      "name=model.1.edge_conv.mlp_t.0.bias, shape = torch.Size([2])\n"
     ]
    }
   ],
   "source": [
    "for name,i in model_dcg.model.named_parameters():\n",
    "    if i.grad is not None:\n",
    "        shape = i.grad.shape\n",
    "    else:\n",
    "        shape='None'\n",
    "    \n",
    "    print(f\"name={name}, shape = {shape}\")\n",
    "    if \"temperature\" in name:\n",
    "        print(f\"name={name}, shape = {i.grad}\")"
   ]
  },
  {
   "cell_type": "code",
   "execution_count": 55,
   "metadata": {},
   "outputs": [
    {
     "name": "stdout",
     "output_type": "stream",
     "text": [
      "mlp.0.weight\n",
      "True\n",
      "tensor([[0., 0., 0., 0., 0., 0., 0., 0., 0., 0., 0., 0., 0., 0., 0., 0., 0., 0., 0., 0.]])\n",
      "mlp.0.bias\n",
      "True\n",
      "tensor([0.])\n",
      "mlp.2.weight\n",
      "True\n",
      "tensor([[0.]])\n",
      "mlp.2.bias\n",
      "True\n",
      "tensor([-10.])\n"
     ]
    }
   ],
   "source": [
    "import torch\n",
    "import torch_cluster\n",
    "from torch_geometric.nn import MessagePassing\n",
    "from torch.nn import Sequential as Seq, Linear, ReLU\n",
    "\n",
    "class EdgeConv(MessagePassing):\n",
    "    def __init__(self, in_channels, out_channels):\n",
    "        super().__init__(aggr='mean') #  \"Max\" aggregation.\n",
    "        self.mlp = Seq(Linear(2 * in_channels, out_channels),\n",
    "                       ReLU(),\n",
    "                       Linear(out_channels, out_channels))\n",
    "\n",
    "        # self.mlp_k0 = Seq(Linear(in_channels, out_channels),\n",
    "        #                ReLU(),\n",
    "        #                Linear(out_channels, out_channels))\n",
    "\n",
    "    def forward(self, x, edge_index):\n",
    "        # x has shape [N, in_channels]\n",
    "        # edge_index has shape [2, E]\n",
    "        \n",
    "        return self.propagate(edge_index, x=x)\n",
    "\n",
    "    def message(self, x_i, x_j):\n",
    "        # x_i has shape [E, in_channels]\n",
    "        # x_j has shape [E, in_channels] \n",
    "        # Workout the case when k=0, hence one node\n",
    "        # if torch.all(x_j == x_i):\n",
    "        #     return self.mlp_k0(x_i)\n",
    "\n",
    "        tmp = torch.cat([x_i, x_j - x_i], dim=1)  # tmp has shape [E, 2 * in_channels]\n",
    "        return self.mlp(tmp)\n",
    "\n",
    "\n",
    "ec = EdgeConv(10,1)\n",
    "\n",
    "a = torch.ones(10,10)*13\n",
    "edge_index = torch.Tensor([[0,1,2,3,4,5,6,7,8,9], [0,1,2,3,4,5,6,7,8,9]]).to(torch.long)\n",
    "res = ec(a, edge_index)\n",
    "torch.sum(torch.ones(res.shape) - res).backward()\n",
    "\n",
    "for name,i in ec.named_parameters():\n",
    "    print(name)\n",
    "    print(i.requires_grad)\n",
    "    print(i.grad)"
   ]
  },
  {
   "cell_type": "code",
   "execution_count": null,
   "metadata": {},
   "outputs": [],
   "source": [
    "\n",
    "\n"
   ]
  },
  {
   "cell_type": "code",
   "execution_count": 21,
   "metadata": {},
   "outputs": [
    {
     "data": {
      "text/plain": [
       "torch.Size([10, 1])"
      ]
     },
     "execution_count": 21,
     "metadata": {},
     "output_type": "execute_result"
    }
   ],
   "source": []
  },
  {
   "cell_type": "code",
   "execution_count": null,
   "metadata": {},
   "outputs": [],
   "source": []
  },
  {
   "cell_type": "code",
   "execution_count": null,
   "metadata": {},
   "outputs": [],
   "source": []
  },
  {
   "cell_type": "code",
   "execution_count": null,
   "metadata": {},
   "outputs": [],
   "source": []
  },
  {
   "cell_type": "code",
   "execution_count": null,
   "metadata": {},
   "outputs": [],
   "source": []
  },
  {
   "cell_type": "code",
   "execution_count": null,
   "metadata": {},
   "outputs": [],
   "source": []
  },
  {
   "cell_type": "code",
   "execution_count": null,
   "metadata": {},
   "outputs": [],
   "source": []
  },
  {
   "cell_type": "code",
   "execution_count": 3,
   "metadata": {},
   "outputs": [
    {
     "name": "stdout",
     "output_type": "stream",
     "text": [
      "i 0\n",
      "torch.Size([2, 455])\n",
      "k_degree 0\n",
      "torch.Size([455])\n",
      "torch.Size([455])\n",
      "i 1\n",
      "torch.Size([2, 455])\n",
      "k_degree 1\n",
      "torch.Size([323])\n",
      "torch.Size([455])\n",
      "i 2\n",
      "torch.Size([2, 910])\n",
      "k_degree 2\n",
      "torch.Size([423])\n",
      "torch.Size([455])\n",
      "i 3\n",
      "torch.Size([2, 1365])\n",
      "k_degree 3\n",
      "torch.Size([441])\n",
      "torch.Size([455])\n",
      "i 4\n",
      "torch.Size([2, 1820])\n",
      "k_degree 4\n",
      "torch.Size([447])\n",
      "torch.Size([455])\n",
      "------\n",
      "i 0\n",
      "torch.Size([2, 455])\n",
      "k_degree 1\n",
      "torch.Size([419])\n",
      "torch.Size([455])\n",
      "i 1\n",
      "torch.Size([2, 455])\n",
      "k_degree 1\n",
      "torch.Size([313])\n",
      "torch.Size([455])\n",
      "i 2\n",
      "torch.Size([2, 910])\n",
      "k_degree 2\n",
      "torch.Size([399])\n",
      "torch.Size([455])\n",
      "i 3\n",
      "torch.Size([2, 1365])\n",
      "k_degree 3\n",
      "torch.Size([424])\n",
      "torch.Size([455])\n",
      "i 4\n",
      "torch.Size([2, 1820])\n",
      "k_degree 4\n",
      "torch.Size([446])\n",
      "torch.Size([455])\n"
     ]
    }
   ],
   "source": [
    "def check(model):\n",
    "    for i in range(len(model.model.model)):\n",
    "        print('i', i)\n",
    "        nodes = model.model.model[i].edge_conv.edge_index\n",
    "        print(nodes.shape)\n",
    "        print(\"k_degree\", model.model.model[i].edge_conv.k_degree)\n",
    "        print(torch.unique(nodes[0]).shape)\n",
    "        print(torch.unique(nodes[1]).shape)\n",
    "\n",
    "\n",
    "check(model_classic)\n",
    "print('------')\n",
    "check(model_dcg)"
   ]
  },
  {
   "cell_type": "code",
   "execution_count": 5,
   "metadata": {},
   "outputs": [
    {
     "data": {
      "text/plain": [
       "{'loss': tensor(0.6780, grad_fn=<NllLossBackward0>),\n",
       " 'accuracy': tensor(0.6286),\n",
       " 'f1': 0.7719298245614035,\n",
       " 'avr_precision': tensor(0.3953),\n",
       " 'aucroc': tensor(0.2922),\n",
       " 'temperatue_0': tensor([1.]),\n",
       " 'temperatue_1': tensor([1.]),\n",
       " 'temperatue_2': tensor([1.]),\n",
       " 'temperatue_3': tensor([1.]),\n",
       " 'temperatue_4': tensor([1.])}"
      ]
     },
     "execution_count": 5,
     "metadata": {},
     "output_type": "execute_result"
    }
   ],
   "source": [
    "res_dcg"
   ]
  },
  {
   "cell_type": "code",
   "execution_count": 23,
   "metadata": {},
   "outputs": [
    {
     "name": "stdout",
     "output_type": "stream",
     "text": [
      "tensor([-20079384.])\n",
      "tensor([-0.1329])\n",
      "None\n",
      "None\n"
     ]
    },
    {
     "name": "stderr",
     "output_type": "stream",
     "text": [
      "/opt/anaconda3/envs/lev_eg/lib/python3.9/site-packages/torch/_tensor.py:1013: UserWarning: The .grad attribute of a Tensor that is not a leaf Tensor is being accessed. Its .grad attribute won't be populated during autograd.backward(). If you indeed want the .grad field to be populated for a non-leaf Tensor, use .retain_grad() on the non-leaf Tensor. If you access the non-leaf Tensor by mistake, make sure you access the leaf Tensor instead. See github.com/pytorch/pytorch/pull/30531 for more informations. (Triggered internally at  /opt/conda/conda-bld/pytorch_1634272068185/work/build/aten/src/ATen/core/TensorBody.h:417.)\n",
      "  return self._grad\n"
     ]
    }
   ],
   "source": []
  },
  {
   "cell_type": "code",
   "execution_count": 13,
   "metadata": {},
   "outputs": [
    {
     "data": {
      "text/plain": [
       "tensor(0.2233)"
      ]
     },
     "execution_count": 13,
     "metadata": {},
     "output_type": "execute_result"
    }
   ],
   "source": [
    "torch.Tensor([0.2233123123123121])[0]"
   ]
  },
  {
   "cell_type": "code",
   "execution_count": 4,
   "metadata": {},
   "outputs": [
    {
     "data": {
      "text/plain": [
       "tensor([[330, 282,   0, 223, 128,   1,   2,  45,  78,   3],\n",
       "        [  0,   0,   0,   1,   1,   1,   2,   2,   2,   3]])"
      ]
     },
     "execution_count": 4,
     "metadata": {},
     "output_type": "execute_result"
    }
   ],
   "source": [
    "idx = 3\n",
    "a = model_dcg.model.model[idx].edge_conv.edge_index[:, torch.argsort(model_dcg.model.model[idx].edge_conv.edge_index[1])]\n",
    "a[:,:10]"
   ]
  },
  {
   "cell_type": "code",
   "execution_count": 5,
   "metadata": {},
   "outputs": [
    {
     "data": {
      "text/plain": [
       "tensor([[1.0000e+00, 1.0000e-06, 1.0000e-06,  ..., 1.0000e-06, 1.0000e-06,\n",
       "         1.0000e-06],\n",
       "        [1.0000e-06, 1.0000e+00, 1.0000e-06,  ..., 1.0000e-06, 1.0000e-06,\n",
       "         1.0000e-06],\n",
       "        [1.0000e-06, 1.0000e-06, 1.0000e+00,  ..., 1.0000e-06, 1.0000e-06,\n",
       "         1.0000e-06],\n",
       "        ...,\n",
       "        [1.0000e-06, 1.0000e-06, 1.0000e-06,  ..., 1.0000e+00, 1.0000e-06,\n",
       "         1.0000e-06],\n",
       "        [1.0000e-06, 1.0000e-06, 1.0000e-06,  ..., 1.0000e-06, 1.0000e+00,\n",
       "         1.0000e-06],\n",
       "        [1.0000e-06, 1.0000e-06, 1.0000e-06,  ..., 1.0000e-06, 1.0000e-06,\n",
       "         1.0000e+00]], grad_fn=<AddBackward0>)"
      ]
     },
     "execution_count": 5,
     "metadata": {},
     "output_type": "execute_result"
    }
   ],
   "source": [
    "model_dcg.model.model[idx].edge_conv.probs"
   ]
  },
  {
   "cell_type": "code",
   "execution_count": 12,
   "metadata": {},
   "outputs": [],
   "source": [
    "\n",
    "    "
   ]
  },
  {
   "cell_type": "code",
   "execution_count": 13,
   "metadata": {},
   "outputs": [
    {
     "ename": "AttributeError",
     "evalue": "'DynamicEdgeConv_DCG' object has no attribute 'e'",
     "output_type": "error",
     "traceback": [
      "\u001b[0;31m---------------------------------------------------------------------------\u001b[0m",
      "\u001b[0;31mAttributeError\u001b[0m                            Traceback (most recent call last)",
      "\u001b[0;32m/tmp/ipykernel_1678620/3509137280.py\u001b[0m in \u001b[0;36m<module>\u001b[0;34m\u001b[0m\n\u001b[0;32m----> 1\u001b[0;31m \u001b[0mmodel_dcg\u001b[0m\u001b[0;34m.\u001b[0m\u001b[0mmodel\u001b[0m\u001b[0;34m.\u001b[0m\u001b[0mmodel\u001b[0m\u001b[0;34m[\u001b[0m\u001b[0midx\u001b[0m\u001b[0;34m]\u001b[0m\u001b[0;34m.\u001b[0m\u001b[0medge_conv\u001b[0m\u001b[0;34m.\u001b[0m\u001b[0me\u001b[0m\u001b[0;34m\u001b[0m\u001b[0;34m\u001b[0m\u001b[0m\n\u001b[0m",
      "\u001b[0;32m/opt/anaconda3/envs/lev_eg/lib/python3.9/site-packages/torch/nn/modules/module.py\u001b[0m in \u001b[0;36m__getattr__\u001b[0;34m(self, name)\u001b[0m\n\u001b[1;32m   1175\u001b[0m             \u001b[0;32mif\u001b[0m \u001b[0mname\u001b[0m \u001b[0;32min\u001b[0m \u001b[0mmodules\u001b[0m\u001b[0;34m:\u001b[0m\u001b[0;34m\u001b[0m\u001b[0;34m\u001b[0m\u001b[0m\n\u001b[1;32m   1176\u001b[0m                 \u001b[0;32mreturn\u001b[0m \u001b[0mmodules\u001b[0m\u001b[0;34m[\u001b[0m\u001b[0mname\u001b[0m\u001b[0;34m]\u001b[0m\u001b[0;34m\u001b[0m\u001b[0;34m\u001b[0m\u001b[0m\n\u001b[0;32m-> 1177\u001b[0;31m         raise AttributeError(\"'{}' object has no attribute '{}'\".format(\n\u001b[0m\u001b[1;32m   1178\u001b[0m             type(self).__name__, name))\n\u001b[1;32m   1179\u001b[0m \u001b[0;34m\u001b[0m\u001b[0m\n",
      "\u001b[0;31mAttributeError\u001b[0m: 'DynamicEdgeConv_DCG' object has no attribute 'e'"
     ]
    }
   ],
   "source": [
    "\n"
   ]
  },
  {
   "cell_type": "code",
   "execution_count": 4,
   "metadata": {},
   "outputs": [
    {
     "data": {
      "text/plain": [
       "Parameter containing:\n",
       "tensor([1.], requires_grad=True)"
      ]
     },
     "execution_count": 4,
     "metadata": {},
     "output_type": "execute_result"
    }
   ],
   "source": [
    "model_dcg.model.model[0].edge_conv.temperature"
   ]
  },
  {
   "cell_type": "code",
   "execution_count": 6,
   "metadata": {},
   "outputs": [],
   "source": [
    "nodes_emb = model_dcg.model.model[idx].edge_conv.nodes_emb"
   ]
  },
  {
   "cell_type": "code",
   "execution_count": 7,
   "metadata": {},
   "outputs": [
    {
     "data": {
      "text/plain": [
       "tensor([[1.0000e+00, 0.0000e+00, 2.7640e-13,  ..., 0.0000e+00, 0.0000e+00,\n",
       "         0.0000e+00],\n",
       "        [0.0000e+00, 1.0000e+00, 0.0000e+00,  ..., 0.0000e+00, 0.0000e+00,\n",
       "         0.0000e+00],\n",
       "        [2.7640e-13, 0.0000e+00, 1.0000e+00,  ..., 0.0000e+00, 0.0000e+00,\n",
       "         0.0000e+00],\n",
       "        ...,\n",
       "        [0.0000e+00, 0.0000e+00, 0.0000e+00,  ..., 1.0000e+00, 0.0000e+00,\n",
       "         0.0000e+00],\n",
       "        [0.0000e+00, 0.0000e+00, 0.0000e+00,  ..., 0.0000e+00, 1.0000e+00,\n",
       "         0.0000e+00],\n",
       "        [0.0000e+00, 0.0000e+00, 0.0000e+00,  ..., 0.0000e+00, 0.0000e+00,\n",
       "         1.0000e+00]])"
      ]
     },
     "execution_count": 7,
     "metadata": {},
     "output_type": "execute_result"
    }
   ],
   "source": [
    "torch.exp(-1 * torch.sum(nodes_emb - nodes_emb.unsqueeze(1), dim=-1)**2)"
   ]
  },
  {
   "cell_type": "code",
   "execution_count": 28,
   "metadata": {},
   "outputs": [
    {
     "data": {
      "text/plain": [
       "[Sequential(\n",
       "   (0): Linear(in_features=1, out_features=1, bias=True)\n",
       "   (conv_1): Linear(in_features=1, out_features=1, bias=True)\n",
       " ),\n",
       " Sequential(\n",
       "   (0): Linear(in_features=1, out_features=1, bias=True)\n",
       "   (conv_1): Linear(in_features=1, out_features=1, bias=True)\n",
       " )]"
      ]
     },
     "execution_count": 28,
     "metadata": {},
     "output_type": "execute_result"
    }
   ],
   "source": [
    "modules"
   ]
  },
  {
   "cell_type": "code",
   "execution_count": null,
   "metadata": {},
   "outputs": [],
   "source": []
  }
 ],
 "metadata": {
  "interpreter": {
   "hash": "55db34e3eb0b8f7fada3c1fa43b3f8bb963768f76ac17b05bae42770a05cca3f"
  },
  "kernelspec": {
   "display_name": "Python 3.6.15 64-bit ('edge_generation': conda)",
   "language": "python",
   "name": "python3"
  },
  "language_info": {
   "codemirror_mode": {
    "name": "ipython",
    "version": 3
   },
   "file_extension": ".py",
   "mimetype": "text/x-python",
   "name": "python",
   "nbconvert_exporter": "python",
   "pygments_lexer": "ipython3",
   "version": "3.9.7"
  },
  "orig_nbformat": 4
 },
 "nbformat": 4,
 "nbformat_minor": 2
}
