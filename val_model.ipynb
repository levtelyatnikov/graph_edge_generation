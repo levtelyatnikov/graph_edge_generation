{
 "cells": [
  {
   "cell_type": "code",
   "execution_count": 1,
   "metadata": {},
   "outputs": [
    {
     "data": {
      "text/plain": [
       "hydra.initialize()"
      ]
     },
     "execution_count": 1,
     "metadata": {},
     "output_type": "execute_result"
    }
   ],
   "source": [
    "import sys\n",
    "sys.path.append('/home/lev/object-centric/edge-generation/models/')\n",
    "import torch_geometric\n",
    "import torch\n",
    "from omegaconf import OmegaConf\n",
    "from dataloader import PL_DataModule\n",
    "from models.model import Network\n",
    "import matplotlib.pyplot as plt\n",
    "import hydra\n",
    "import matplotlib.pyplot as plt\n",
    "\n",
    "from hydra import compose, initialize\n",
    "from omegaconf import OmegaConf\n",
    "from sklearn.metrics import confusion_matrix\n",
    "import numpy as np\n",
    "# own modules\n",
    "from dataloader import PL_DataModule\n",
    "from method import LitModel\n",
    "\n",
    "initialize(config_path='outputs/2022-02-11/10-36-18/.hydra/', job_name=\"test_app\")\n"
   ]
  },
  {
   "cell_type": "code",
   "execution_count": 2,
   "metadata": {},
   "outputs": [],
   "source": [
    "def get_dataloader(cfg):\n",
    "    return PL_DataModule(cfg.dataloader)\n",
    "    \n",
    "def get_model_loaders(weights_path):\n",
    "    cfg = compose(config_name=\"config\")\n",
    "    print(cfg)\n",
    "    # Setup dataloader and model\n",
    "    datamodule = get_dataloader(cfg)\n",
    "\n",
    "    # Obtain feature sizes and number of labels\n",
    "    batch = next(iter(datamodule.train_dataloader()))\n",
    "    cfg.model.opt.loader_batches = len(datamodule.train_dataloader())\n",
    "    cfg.model.insize ,cfg.model.outsize = batch.x.shape[1], torch.unique(batch.y).shape[0]\n",
    "    model = LitModel(cfg=cfg)\n",
    "    # upload weights\n",
    "    state_dict = torch.load(weights_path)['state_dict']\n",
    "    model.load_state_dict(state_dict)\n",
    "    return model, datamodule\n"
   ]
  },
  {
   "cell_type": "code",
   "execution_count": 3,
   "metadata": {},
   "outputs": [
    {
     "name": "stdout",
     "output_type": "stream",
     "text": [
      "{'trainer': {'cuda_number': '2', 'gpus': 1, 'is_logger_enabled': False, 'num_sanity_val_steps': 5, 'check_val_every_n_epoch': 25, 'log_every_n_steps': 25}, 'wadb': {'logger_project_name': 'edge_generation_baselines', 'logger_name': 'None', 'entity': 'edge_generation'}, 'seed_everything': 1, 'dataloader': {'dataset_type': 'CustomDataset', 'dataset_name': 'molec-biol-splice', 'val_size': 0.3, 'data_seed': 223, 'graph_size': 'None', 'n_batches': 1, 'train_batch_size': 1, 'val_batch_size': 1, 'num_workers': 4, 'precompute_graph': 'None', 'precompute_graph_k': 3, 'graph_seed': 0, 'inter_class_k': 0, 'f1_svm': 0.0, 'acc_svm': 0.0}, 'model': {'type': 'EdgeNet', 'edge_generation_type': 'DynamicEdgeConv_DGM', 'in_channels': [60], 'out_channels': [60], 'insize': 'None', 'outsize': 'None', 'k': [3, 5], 'prob_reg': 0.0001, 'opt': {'lr': 0.004, 'warmup_steps_pct': 0.02, 'decay_steps_pct': 0.9, 'weight_decay': 0.0, 'max_epochs': 1000, 'scheduler_gamma': 0.5, 'loader_batches': 'None'}}, 'stat': {'image_folder': '/home/lev/object-centric/edge-generation/images'}}\n",
      "Class-counts: \n",
      " 2    1655\n",
      "1     768\n",
      "0     767\n",
      "Name: clase, dtype: int64\n",
      "train set shape torch.Size([2233, 60])\n",
      "Class-counts: \n",
      " 2    1655\n",
      "1     768\n",
      "0     767\n",
      "Name: clase, dtype: int64\n",
      "val set shape torch.Size([957, 60])\n"
     ]
    },
    {
     "name": "stderr",
     "output_type": "stream",
     "text": [
      "Global seed set to 1\n",
      "/opt/anaconda3/envs/lev_eg/lib/python3.9/site-packages/torchmetrics/utilities/prints.py:36: UserWarning: Metric `AveragePrecision` will save all targets and predictions in buffer. For large datasets this may lead to large memory footprint.\n",
      "  warnings.warn(*args, **kwargs)\n",
      "/opt/anaconda3/envs/lev_eg/lib/python3.9/site-packages/torchmetrics/utilities/prints.py:36: UserWarning: Metric `AUROC` will save all targets and predictions in buffer. For large datasets this may lead to large memory footprint.\n",
      "  warnings.warn(*args, **kwargs)\n"
     ]
    },
    {
     "data": {
      "text/plain": [
       "{'loss': tensor(1.4401, dtype=torch.float64, grad_fn=<AddBackward0>),\n",
       " 'cross_entrop': tensor(0.9059, grad_fn=<NllLossBackward0>),\n",
       " 'accuracy': tensor(0.6691),\n",
       " 'f1': tensor([0.6670]),\n",
       " 'avr_precision': tensor(0.7262),\n",
       " 'aucroc': tensor(0.8342),\n",
       " 'f1_svm': tensor(0.),\n",
       " 'acc_svm': tensor(0.),\n",
       " 'temperatue_0': tensor(0.0369),\n",
       " 'temperatue_1': tensor(0.0335),\n",
       " 'loss_prob': tensor(0.5341, dtype=torch.float64, grad_fn=<MulBackward0>)}"
      ]
     },
     "execution_count": 3,
     "metadata": {},
     "output_type": "execute_result"
    }
   ],
   "source": [
    "weights_path = '/home/lev/object-centric/edge-generation/outputs/2022-02-11/10-36-18/checkpoints/epoch=24-step=24.ckpt'\n",
    "\n",
    "model, datamodule = get_model_loaders(weights_path)\n",
    "\n",
    "batch = next(iter(datamodule.train_dataloader()))\n",
    "model.model.loss_function(batch)"
   ]
  },
  {
   "cell_type": "code",
   "execution_count": 10,
   "metadata": {},
   "outputs": [],
   "source": [
    "import os\n",
    "import glob\n",
    "import torch\n",
    "import matplotlib.pyplot as plt\n",
    "from PIL import Image\n",
    "import sys\n",
    "from PIL import Image\n",
    "sys.path.append('/home/lev/')\n",
    "\n",
    "class analize_dgm():\n",
    "    def __init__(self):\n",
    "        self.image_folder = '/home/lev/object-centric/edge-generation/images'\n",
    "        self.workimage = WorkWithImage(image_folder = self.image_folder)\n",
    "    \n",
    "    def process(self, model, **args):\n",
    "        self.model, self.d = model.model.model.model, {}\n",
    "\n",
    "        clean_folder(folder=self.image_folder)\n",
    "        self.temperature_stat()\n",
    "        self.save_adj(args['batch'])\n",
    "        self.save_edgeconv_probs()\n",
    "        self.concat_img()\n",
    "        \n",
    "\n",
    "    def temperature_stat(self):\n",
    "        self.d = {}\n",
    "        for idx in range(len(self.model)):\n",
    "            self.d[f\"temperatue_{idx}\"] =  self.model[idx].edge_conv.temperature.clone().detach()[0]\n",
    "\n",
    "    def save_adj(self, batch):\n",
    "        self.idxs = torch.argsort(batch.y)\n",
    "\n",
    "        # Adj matrix\n",
    "        probs = (batch.y.unsqueeze(0) == batch.y.unsqueeze(1)) * 1\n",
    "        probs = permute_matrix(probs, self.idxs)\n",
    "        self.workimage.save_heatmap(probs, name='adj.png', title=f'Adjacency')\n",
    "\n",
    "    def save_edgeconv_probs(self):\n",
    "        for idx in range(len(self.model)):\n",
    "            probs = self.model[idx].edge_conv.probs.clone().detach().cpu()\n",
    "            probs = permute_matrix(probs, self.idxs)\n",
    "            self.workimage.save_heatmap(probs, name=f'prob_L{idx}.png', title=f'prob_L{idx}')\n",
    "\n",
    "            mask = self.model[idx].edge_conv.mask.clone().detach().cpu()\n",
    "            mask = permute_matrix(mask, self.idxs)\n",
    "            self.workimage.save_heatmap(mask, name=f'mask_L{idx}.png', title=f'mask_L{idx}')\n",
    "\n",
    "\n",
    "\n",
    "    \n",
    "    def concat_img(self):\n",
    "        paths = sorted(glob.glob( os.path.join(self.image_folder,'*.png')))\n",
    "        adj = self.workimage.load(paths[0])\n",
    "\n",
    "        for path in paths[1:]:\n",
    "            adj = self.workimage.get_concat_h(adj, self.workimage.load(path))\n",
    "        \n",
    "        self.workimage.pil_save(im=adj, name='final.png')\n",
    "        return adj\n",
    "\n",
    "class WorkWithImage():\n",
    "    def __init__(self, image_folder):\n",
    "        self.image_folder = image_folder\n",
    "        pass\n",
    "    \n",
    "    def load(self, path):\n",
    "        return Image.open(path)\n",
    "\n",
    "    def save_heatmap(self, data, name, title):\n",
    "        self.heatmap(data,\n",
    "                     image_folder=self.image_folder,\n",
    "                     im_name=name, title=title,\n",
    "                     cmap='hot', interpolation='nearest')\n",
    "    \n",
    "    def pil_save(self, im, name):\n",
    "        self.pil_save_(im,\n",
    "                       image_folder=self.image_folder,\n",
    "                       name=name)\n",
    "\n",
    "\n",
    "    @staticmethod\n",
    "    def get_concat_h(im1, im2):\n",
    "        dst = Image.new('RGB', (im1.width + im2.width, im1.height))\n",
    "        dst.paste(im1, (0, 0))\n",
    "        dst.paste(im2, (im1.width, 0))\n",
    "        return dst\n",
    "\n",
    "    @staticmethod\n",
    "    def heatmap(data, image_folder, im_name, title='', **kwargs):\n",
    "        \"\"\"\n",
    "        Create a heatmap from a numpy array and two lists of labels.\n",
    "\n",
    "        Parameters\n",
    "        ----------\n",
    "        data\n",
    "            A 2D numpy array of shape (M, N).\n",
    "        cbar_kw\n",
    "            A dictionary with arguments to `matplotlib.Figure.colorbar`.  Optional.\n",
    "        **kwargs\n",
    "            All other arguments are forwarded to `imshow`.\n",
    "        \"\"\"\n",
    "        fig, ax = plt.subplots( nrows=1, ncols=1, dpi=100)\n",
    "        \n",
    "        # Plot the heatmap\n",
    "        im = ax.imshow(data, **kwargs)\n",
    "        # Create colorbar\n",
    "        cbar = ax.figure.colorbar(im, ax=ax)\n",
    "\n",
    "        path = os.path.join(image_folder, im_name)\n",
    "        ax.set_title(title)\n",
    "        #fig.savefig(path)\n",
    "\n",
    "        #plt.close(fig) \n",
    "        return fig\n",
    "\n",
    "    @staticmethod\n",
    "    def pil_save_(im, image_folder, name):\n",
    "        path = os.path.join(image_folder, name)\n",
    "        im.save(path)\n",
    "\n",
    "def clean_folder(folder):\n",
    "    files = glob.glob(os.path.join(folder, '*'))\n",
    "    for f in files:\n",
    "        os.remove(f)\n",
    "\n",
    "\n",
    "\n",
    "def check_if_file_exist(path): \n",
    "    return os.path.isfile(path) \n",
    "\n",
    "def permute_matrix(M, idx):\n",
    "    M = M[idx, :]\n",
    "    M = M[:, idx]\n",
    "    return M\n",
    "\n",
    "def cat_dicts(a, b):\n",
    "    return dict(list(a.items()) + list(b.items()))"
   ]
  },
  {
   "cell_type": "code",
   "execution_count": 11,
   "metadata": {},
   "outputs": [],
   "source": [
    "analize = analize_dgm()"
   ]
  },
  {
   "cell_type": "code",
   "execution_count": 9,
   "metadata": {},
   "outputs": [],
   "source": [
    "analize.process(model=model, batch=batch)"
   ]
  },
  {
   "cell_type": "code",
   "execution_count": 14,
   "metadata": {},
   "outputs": [
    {
     "data": {
      "image/png": "[encoded data removed]",
      "text/plain": [
       "<Figure size 600x400 with 2 Axes>"
      ]
     },
     "metadata": {
      "needs_background": "light"
     },
     "output_type": "display_data"
    }
   ],
   "source": [
    "image_folder = '/home/lev/object-centric/edge-generation/images'\n",
    "ww = WorkWithImage('/home/lev/object-centric/edge-generation/images')\n",
    "f =  ww.heatmap(data = model.model.model.model[0].edge_conv.mask, image_folder=image_folder, im_name='a')"
   ]
  },
  {
   "cell_type": "code",
   "execution_count": 36,
   "metadata": {},
   "outputs": [
    {
     "data": {
      "text/plain": [
       "<matplotlib.image.AxesImage at 0x7f606c094100>"
      ]
     },
     "execution_count": 36,
     "metadata": {},
     "output_type": "execute_result"
    },
    {
     "data": {
      "image/png": "[encoded data removed]",
      "text/plain": [
       "<Figure size 432x288 with 1 Axes>"
      ]
     },
     "metadata": {
      "needs_background": "light"
     },
     "output_type": "display_data"
    }
   ],
   "source": [
    "plt.imshow(image.reshape(2233,2233,-1), cmap='hot', interpolation='nearest')\n"
   ]
  },
  {
   "cell_type": "code",
   "execution_count": 153,
   "metadata": {},
   "outputs": [],
   "source": [
    "probs = torch.nn.functional.pad(probs, (5,5), mode='constant', value=0.7)"
   ]
  },
  {
   "cell_type": "code",
   "execution_count": 154,
   "metadata": {},
   "outputs": [
    {
     "data": {
      "text/plain": [
       "torch.Size([1, 2233, 2255])"
      ]
     },
     "execution_count": 154,
     "metadata": {},
     "output_type": "execute_result"
    }
   ],
   "source": [
    "probs.shape"
   ]
  },
  {
   "cell_type": "code",
   "execution_count": 37,
   "metadata": {},
   "outputs": [
    {
     "data": {
      "text/plain": [
       "<matplotlib.image.AxesImage at 0x7f606c0122b0>"
      ]
     },
     "execution_count": 37,
     "metadata": {},
     "output_type": "execute_result"
    },
    {
     "data": {
      "image/png": "[encoded data removed]",
      "text/plain": [
       "<Figure size 432x288 with 1 Axes>"
      ]
     },
     "metadata": {
      "needs_background": "light"
     },
     "output_type": "display_data"
    }
   ],
   "source": [
    "\n",
    "plt.imshow(model.model.model.model[0].edge_conv.mask, cmap='hot', interpolation='nearest')"
   ]
  },
  {
   "cell_type": "code",
   "execution_count": 38,
   "metadata": {},
   "outputs": [],
   "source": [
    "mask = model.model.model.model[0].edge_conv.mask"
   ]
  },
  {
   "cell_type": "code",
   "execution_count": 46,
   "metadata": {},
   "outputs": [],
   "source": []
  },
  {
   "cell_type": "markdown",
   "metadata": {},
   "source": [
    "### LOG as slot-attention"
   ]
  },
  {
   "cell_type": "code",
   "execution_count": 87,
   "metadata": {},
   "outputs": [],
   "source": [
    "# C, H, W\n",
    "mask = model.model.model.model[0].edge_conv.mask.unsqueeze(0)\n",
    "\n",
    "# C, H, W\n",
    "adj = ((batch.y == batch.y.unsqueeze(1))*1).unsqueeze(0)\n",
    "\n",
    "idx = torch.argsort(batch.y)\n",
    "mask = mask[:, idx, :]\n",
    "mask = mask[:, :, idx]\n",
    "\n",
    "adj = adj[:, idx, :]\n",
    "adj = adj[:, :, idx]\n",
    "\n",
    "out = torch.cat([mask.unsqueeze(0), adj.unsqueeze(0)], dim=0)\n",
    "\n",
    "images = vutils.make_grid(out.cpu(), normalize=False, nrow=2)"
   ]
  },
  {
   "cell_type": "code",
   "execution_count": 134,
   "metadata": {},
   "outputs": [],
   "source": [
    "idx = torch.argsort(batch.y)\n",
    "\n",
    "\n"
   ]
  },
  {
   "cell_type": "code",
   "execution_count": 137,
   "metadata": {},
   "outputs": [],
   "source": [
    "\n",
    "def permute_CHW(M, idx):\n",
    "    M = M[:, idx, :]\n",
    "    M = M[:, :, idx]\n",
    "    return M\n",
    "\n",
    "m = model.model.model.model\n",
    "adj = permute_CHW(((batch.y == batch.y.unsqueeze(1)) * 1).unsqueeze(0), idx)\n",
    "\n",
    "out = [adj*0.5]\n",
    "for i in range(len(m)):\n",
    "    probs = permute_CHW(m[i].edge_conv.probs.unsqueeze(0), idx=idx)\n",
    "    masks = permute_CHW(m[i].edge_conv.mask.unsqueeze(0), idx=idx)\n",
    "\n",
    "    out.extend([probs,\n",
    "                masks])\n",
    "\n",
    "out = torch.cat(out, dim=0).unsqueeze(1)\n",
    "images = vutils.make_grid(out.cpu(), normalize=False, nrow=1)\n",
    "images = torch.swapaxes(images,2,1)"
   ]
  },
  {
   "cell_type": "code",
   "execution_count": 141,
   "metadata": {},
   "outputs": [],
   "source": [
    "from pytorch_lightning import Callback"
   ]
  },
  {
   "cell_type": "code",
   "execution_count": 144,
   "metadata": {},
   "outputs": [
    {
     "data": {
      "text/plain": [
       "LitModel(\n",
       "  (model): Network(\n",
       "    (model): EdgeNet(\n",
       "      (model): Sequential(\n",
       "        (0): Sequential(\n",
       "          (edge_conv): DynamicEdgeConv_DGM()\n",
       "          (act): ReLU()\n",
       "        )\n",
       "        (1): Sequential(\n",
       "          (edge_conv): DynamicEdgeConv_DGM()\n",
       "        )\n",
       "      )\n",
       "    )\n",
       "    (crossentropy): CrossEntropyLoss()\n",
       "    (acc): Accuracy()\n",
       "    (avr_precision): AveragePrecision()\n",
       "    (aucroc): AUROC()\n",
       "  )\n",
       ")"
      ]
     },
     "execution_count": 144,
     "metadata": {},
     "output_type": "execute_result"
    }
   ],
   "source": [
    "model"
   ]
  },
  {
   "cell_type": "markdown",
   "metadata": {},
   "source": [
    "import wandb\n",
    "import random\n",
    "\n",
    "\n",
    "from torchvision import utils as vutils\n",
    "\n",
    "\n",
    "random.seed(1)\n",
    "wandb.init()\n",
    "# define a metric we are interested in the minimum of\n",
    "wandb.define_metric(\"loss\", summary=\"min\")\n",
    "# define a metric we are interested in the maximum of\n",
    "wandb.define_metric(\"acc\", summary=\"max\")\n",
    "for i in range(1):\n",
    "  log_dict = {\n",
    "      \"loss\": random.uniform(0,1/(i+1)),\n",
    "      \"acc\": random.uniform(1/(i+1),1),\n",
    "      \"im\": wandb.Image(images)\n",
    "  }\n",
    "  wandb.log(log_dict)"
   ]
  },
  {
   "cell_type": "code",
   "execution_count": 103,
   "metadata": {},
   "outputs": [
    {
     "data": {
      "text/plain": [
       "[Sequential(\n",
       "   (edge_conv): DynamicEdgeConv_DGM()\n",
       " ),\n",
       " DynamicEdgeConv_DGM(),\n",
       " Sequential(\n",
       "   (0): Linear(in_features=120, out_features=3, bias=True)\n",
       "   (1): ReLU()\n",
       "   (2): Linear(in_features=3, out_features=3, bias=True)\n",
       " ),\n",
       " Linear(in_features=120, out_features=3, bias=True),\n",
       " ReLU(),\n",
       " Linear(in_features=3, out_features=3, bias=True),\n",
       " Sequential(\n",
       "   (0): Linear(in_features=60, out_features=60, bias=True)\n",
       "   (1): ReLU()\n",
       "   (2): Linear(in_features=60, out_features=60, bias=True)\n",
       " ),\n",
       " Linear(in_features=60, out_features=60, bias=True),\n",
       " ReLU(),\n",
       " Linear(in_features=60, out_features=60, bias=True)]"
      ]
     },
     "execution_count": 103,
     "metadata": {},
     "output_type": "execute_result"
    }
   ],
   "source": []
  },
  {
   "cell_type": "code",
   "execution_count": 78,
   "metadata": {},
   "outputs": [
    {
     "data": {
      "text/html": [
       "Finishing last run (ID:1bmf6z7j) before initializing another..."
      ],
      "text/plain": [
       "<IPython.core.display.HTML object>"
      ]
     },
     "metadata": {},
     "output_type": "display_data"
    },
    {
     "data": {
      "text/html": [
       "<br/>Waiting for W&B process to finish, PID 3452746<br/>Program ended successfully."
      ],
      "text/plain": [
       "<IPython.core.display.HTML object>"
      ]
     },
     "metadata": {},
     "output_type": "display_data"
    },
    {
     "data": {
      "application/vnd.jupyter.widget-view+json": {
       "model_id": "3f4acf81468e4a96af2f79b49b74e47f",
       "version_major": 2,
       "version_minor": 0
      },
      "text/plain": [
       "VBox(children=(Label(value=' 1.02MB of 1.02MB uploaded (0.00MB deduped)\\r'), FloatProgress(value=1.0, max=1.0)…"
      ]
     },
     "metadata": {},
     "output_type": "display_data"
    },
    {
     "data": {
      "text/html": [
       "Find user logs for this run at: <code>/home/lev/object-centric/edge-generation/wandb/run-20220211_112314-1bmf6z7j/logs/debug.log</code>"
      ],
      "text/plain": [
       "<IPython.core.display.HTML object>"
      ]
     },
     "metadata": {},
     "output_type": "display_data"
    },
    {
     "data": {
      "text/html": [
       "Find internal logs for this run at: <code>/home/lev/object-centric/edge-generation/wandb/run-20220211_112314-1bmf6z7j/logs/debug-internal.log</code>"
      ],
      "text/plain": [
       "<IPython.core.display.HTML object>"
      ]
     },
     "metadata": {},
     "output_type": "display_data"
    },
    {
     "data": {
      "text/html": [
       "<h3>Run summary:</h3><br/><style>\n",
       "    table.wandb td:nth-child(1) { padding: 0 10px; text-align: right }\n",
       "    </style><table class=\"wandb\">\n",
       "<tr><td>_runtime</td><td>13</td></tr><tr><td>_timestamp</td><td>1644575012</td></tr><tr><td>_step</td><td>9</td></tr></table>"
      ],
      "text/plain": [
       "<IPython.core.display.HTML object>"
      ]
     },
     "metadata": {},
     "output_type": "display_data"
    },
    {
     "data": {
      "text/html": [
       "<h3>Run history:</h3><br/><style>\n",
       "    table.wandb td:nth-child(1) { padding: 0 10px; text-align: right }\n",
       "    </style><table class=\"wandb\">\n",
       "<tr><td>loss</td><td>▃█▄▄▁▃▃▂▁▂</td></tr><tr><td>acc</td><td>█▅▅▇▂▄▁▆█▁</td></tr><tr><td>_runtime</td><td>▁▂▃▄▄▅▆▇██</td></tr><tr><td>_timestamp</td><td>▁▂▃▄▄▅▆▇██</td></tr><tr><td>_step</td><td>▁▂▃▃▄▅▆▆▇█</td></tr></table><br/>"
      ],
      "text/plain": [
       "<IPython.core.display.HTML object>"
      ]
     },
     "metadata": {},
     "output_type": "display_data"
    },
    {
     "data": {
      "text/html": [
       "Synced 4 W&B file(s), 10 media file(s), 0 artifact file(s) and 0 other file(s)"
      ],
      "text/plain": [
       "<IPython.core.display.HTML object>"
      ]
     },
     "metadata": {},
     "output_type": "display_data"
    },
    {
     "data": {
      "text/html": [
       "\n",
       "                    <br/>Synced <strong style=\"color:#cdcd00\">vivid-lion-12</strong>: <a href=\"https://wandb.ai/telyatnikov_sap/edge-generation/runs/1bmf6z7j\" target=\"_blank\">https://wandb.ai/telyatnikov_sap/edge-generation/runs/1bmf6z7j</a><br/>\n",
       "                "
      ],
      "text/plain": [
       "<IPython.core.display.HTML object>"
      ]
     },
     "metadata": {},
     "output_type": "display_data"
    },
    {
     "data": {
      "text/html": [
       "...Successfully finished last run (ID:1bmf6z7j). Initializing new run:<br/><br/>"
      ],
      "text/plain": [
       "<IPython.core.display.HTML object>"
      ]
     },
     "metadata": {},
     "output_type": "display_data"
    },
    {
     "name": "stderr",
     "output_type": "stream",
     "text": [
      "\u001b[34m\u001b[1mwandb\u001b[0m: wandb version 0.12.10 is available!  To upgrade, please run:\n",
      "\u001b[34m\u001b[1mwandb\u001b[0m:  $ pip install wandb --upgrade\n",
      "\n",
      "InvalidVersionSpec: Invalid version '2.3.0>=2.1.0': invalid character(s)\n",
      "\n"
     ]
    },
    {
     "data": {
      "text/html": [
       "\n",
       "                Tracking run with wandb version 0.12.1<br/>\n",
       "                Syncing run <strong style=\"color:#cdcd00\">summer-pond-13</strong> to <a href=\"https://wandb.ai\" target=\"_blank\">Weights & Biases</a> <a href=\"https://docs.wandb.com/integrations/jupyter.html\" target=\"_blank\">(Documentation)</a>.<br/>\n",
       "                Project page: <a href=\"https://wandb.ai/telyatnikov_sap/edge-generation\" target=\"_blank\">https://wandb.ai/telyatnikov_sap/edge-generation</a><br/>\n",
       "                Run page: <a href=\"https://wandb.ai/telyatnikov_sap/edge-generation/runs/1om4dn4t\" target=\"_blank\">https://wandb.ai/telyatnikov_sap/edge-generation/runs/1om4dn4t</a><br/>\n",
       "                Run data is saved locally in <code>/home/lev/object-centric/edge-generation/wandb/run-20220211_112509-1om4dn4t</code><br/><br/>\n",
       "            "
      ],
      "text/plain": [
       "<IPython.core.display.HTML object>"
      ]
     },
     "metadata": {},
     "output_type": "display_data"
    }
   ],
   "source": [
    "import wandb\n",
    "import random\n",
    "\n",
    "\n",
    "from torchvision import utils as vutils\n",
    "#image = vutils.make_grid(model.model.model.model[0].edge_conv.mask)\n",
    "\n",
    "random.seed(1)\n",
    "wandb.init()\n",
    "# define a metric we are interested in the minimum of\n",
    "wandb.define_metric(\"loss\", summary=\"min\")\n",
    "# define a metric we are interested in the maximum of\n",
    "wandb.define_metric(\"acc\", summary=\"max\")\n",
    "for i in range(1):\n",
    "  log_dict = {\n",
    "      \"loss\": random.uniform(0,1/(i+1)),\n",
    "      \"acc\": random.uniform(1/(i+1),1),\n",
    "      \"im\": wandb.Image(images)\n",
    "  }\n",
    "  wandb.log(log_dict)"
   ]
  },
  {
   "cell_type": "code",
   "execution_count": null,
   "metadata": {},
   "outputs": [],
   "source": []
  },
  {
   "cell_type": "code",
   "execution_count": 59,
   "metadata": {},
   "outputs": [],
   "source": [
    "idx = torch.argsort(batch.y)\n",
    "mask = mask[idx, :]\n",
    "mask = mask[:, idx]\n",
    "\n",
    "adj = (batch.y == batch.y.unsqueeze(1)) * 1\n",
    "adj = adj[idx, :]\n",
    "adj = adj[:, idx]\n",
    "\n",
    "\n",
    "\n"
   ]
  },
  {
   "cell_type": "code",
   "execution_count": 60,
   "metadata": {},
   "outputs": [
    {
     "data": {
      "text/plain": [
       "<matplotlib.image.AxesImage at 0x7f60ac9c8130>"
      ]
     },
     "execution_count": 60,
     "metadata": {},
     "output_type": "execute_result"
    },
    {
     "data": {
      "image/png": "[encoded data removed]",
      "text/plain": [
       "<Figure size 432x288 with 1 Axes>"
      ]
     },
     "metadata": {
      "needs_background": "light"
     },
     "output_type": "display_data"
    }
   ],
   "source": [
    "plt.imshow(adj)"
   ]
  },
  {
   "cell_type": "code",
   "execution_count": 61,
   "metadata": {},
   "outputs": [],
   "source": [
    "log = torch.cat([mask.unsqueeze(0), adj.unsqueeze(0)],dim=0)"
   ]
  },
  {
   "cell_type": "code",
   "execution_count": 76,
   "metadata": {},
   "outputs": [
    {
     "data": {
      "text/html": [
       "Finishing last run (ID:dyopqx1o) before initializing another..."
      ],
      "text/plain": [
       "<IPython.core.display.HTML object>"
      ]
     },
     "metadata": {},
     "output_type": "display_data"
    },
    {
     "data": {
      "text/html": [
       "<br/>Waiting for W&B process to finish, PID 3450670<br/>Program ended successfully."
      ],
      "text/plain": [
       "<IPython.core.display.HTML object>"
      ]
     },
     "metadata": {},
     "output_type": "display_data"
    },
    {
     "data": {
      "application/vnd.jupyter.widget-view+json": {
       "model_id": "77fbbb796af342b197de0586d245c13a",
       "version_major": 2,
       "version_minor": 0
      },
      "text/plain": [
       "VBox(children=(Label(value=' 0.77MB of 0.77MB uploaded (0.00MB deduped)\\r'), FloatProgress(value=1.0, max=1.0)…"
      ]
     },
     "metadata": {},
     "output_type": "display_data"
    },
    {
     "data": {
      "text/html": [
       "Find user logs for this run at: <code>/home/lev/object-centric/edge-generation/wandb/run-20220211_111442-dyopqx1o/logs/debug.log</code>"
      ],
      "text/plain": [
       "<IPython.core.display.HTML object>"
      ]
     },
     "metadata": {},
     "output_type": "display_data"
    },
    {
     "data": {
      "text/html": [
       "Find internal logs for this run at: <code>/home/lev/object-centric/edge-generation/wandb/run-20220211_111442-dyopqx1o/logs/debug-internal.log</code>"
      ],
      "text/plain": [
       "<IPython.core.display.HTML object>"
      ]
     },
     "metadata": {},
     "output_type": "display_data"
    },
    {
     "data": {
      "text/html": [
       "<h3>Run summary:</h3><br/><style>\n",
       "    table.wandb td:nth-child(1) { padding: 0 10px; text-align: right }\n",
       "    </style><table class=\"wandb\">\n",
       "<tr><td>_runtime</td><td>8</td></tr><tr><td>_timestamp</td><td>1644574494</td></tr><tr><td>_step</td><td>9</td></tr></table>"
      ],
      "text/plain": [
       "<IPython.core.display.HTML object>"
      ]
     },
     "metadata": {},
     "output_type": "display_data"
    },
    {
     "data": {
      "text/html": [
       "<h3>Run history:</h3><br/><style>\n",
       "    table.wandb td:nth-child(1) { padding: 0 10px; text-align: right }\n",
       "    </style><table class=\"wandb\">\n",
       "<tr><td>loss</td><td>▃█▄▄▁▃▃▂▁▂</td></tr><tr><td>acc</td><td>█▅▅▇▂▄▁▆█▁</td></tr><tr><td>_runtime</td><td>▁▁▁▁▅▅▅▅██</td></tr><tr><td>_timestamp</td><td>▁▁▁▁▅▅▅▅██</td></tr><tr><td>_step</td><td>▁▂▃▃▄▅▆▆▇█</td></tr></table><br/>"
      ],
      "text/plain": [
       "<IPython.core.display.HTML object>"
      ]
     },
     "metadata": {},
     "output_type": "display_data"
    },
    {
     "data": {
      "text/html": [
       "Synced 4 W&B file(s), 10 media file(s), 0 artifact file(s) and 0 other file(s)"
      ],
      "text/plain": [
       "<IPython.core.display.HTML object>"
      ]
     },
     "metadata": {},
     "output_type": "display_data"
    },
    {
     "data": {
      "text/html": [
       "\n",
       "                    <br/>Synced <strong style=\"color:#cdcd00\">dazzling-pyramid-11</strong>: <a href=\"https://wandb.ai/telyatnikov_sap/edge-generation/runs/dyopqx1o\" target=\"_blank\">https://wandb.ai/telyatnikov_sap/edge-generation/runs/dyopqx1o</a><br/>\n",
       "                "
      ],
      "text/plain": [
       "<IPython.core.display.HTML object>"
      ]
     },
     "metadata": {},
     "output_type": "display_data"
    },
    {
     "data": {
      "text/html": [
       "...Successfully finished last run (ID:dyopqx1o). Initializing new run:<br/><br/>"
      ],
      "text/plain": [
       "<IPython.core.display.HTML object>"
      ]
     },
     "metadata": {},
     "output_type": "display_data"
    },
    {
     "name": "stderr",
     "output_type": "stream",
     "text": [
      "\u001b[34m\u001b[1mwandb\u001b[0m: wandb version 0.12.10 is available!  To upgrade, please run:\n",
      "\u001b[34m\u001b[1mwandb\u001b[0m:  $ pip install wandb --upgrade\n",
      "\n",
      "InvalidVersionSpec: Invalid version '2.3.0>=2.1.0': invalid character(s)\n",
      "\n"
     ]
    },
    {
     "data": {
      "text/html": [
       "\n",
       "                Tracking run with wandb version 0.12.1<br/>\n",
       "                Syncing run <strong style=\"color:#cdcd00\">vivid-lion-12</strong> to <a href=\"https://wandb.ai\" target=\"_blank\">Weights & Biases</a> <a href=\"https://docs.wandb.com/integrations/jupyter.html\" target=\"_blank\">(Documentation)</a>.<br/>\n",
       "                Project page: <a href=\"https://wandb.ai/telyatnikov_sap/edge-generation\" target=\"_blank\">https://wandb.ai/telyatnikov_sap/edge-generation</a><br/>\n",
       "                Run page: <a href=\"https://wandb.ai/telyatnikov_sap/edge-generation/runs/1bmf6z7j\" target=\"_blank\">https://wandb.ai/telyatnikov_sap/edge-generation/runs/1bmf6z7j</a><br/>\n",
       "                Run data is saved locally in <code>/home/lev/object-centric/edge-generation/wandb/run-20220211_112314-1bmf6z7j</code><br/><br/>\n",
       "            "
      ],
      "text/plain": [
       "<IPython.core.display.HTML object>"
      ]
     },
     "metadata": {},
     "output_type": "display_data"
    }
   ],
   "source": [
    "import wandb\n",
    "import random\n",
    "\n",
    "\n",
    "from torchvision import utils as vutils\n",
    "#image = vutils.make_grid(model.model.model.model[0].edge_conv.mask)\n",
    "\n",
    "random.seed(1)\n",
    "wandb.init()\n",
    "# define a metric we are interested in the minimum of\n",
    "wandb.define_metric(\"loss\", summary=\"min\")\n",
    "# define a metric we are interested in the maximum of\n",
    "wandb.define_metric(\"acc\", summary=\"max\")\n",
    "for i in range(1):\n",
    "  log_dict = {\n",
    "      \"loss\": random.uniform(0,1/(i+1)),\n",
    "      \"acc\": random.uniform(1/(i+1),1),\n",
    "      \"im\": wandb.Image(images)\n",
    "  }\n",
    "  wandb.log(log_dict)"
   ]
  },
  {
   "cell_type": "code",
   "execution_count": null,
   "metadata": {},
   "outputs": [],
   "source": []
  },
  {
   "cell_type": "code",
   "execution_count": null,
   "metadata": {},
   "outputs": [],
   "source": []
  },
  {
   "cell_type": "code",
   "execution_count": null,
   "metadata": {},
   "outputs": [],
   "source": []
  },
  {
   "cell_type": "code",
   "execution_count": 18,
   "metadata": {},
   "outputs": [
    {
     "data": {
      "text/plain": [
       "(600, 400)"
      ]
     },
     "execution_count": 18,
     "metadata": {},
     "output_type": "execute_result"
    }
   ],
   "source": []
  },
  {
   "cell_type": "code",
   "execution_count": 16,
   "metadata": {},
   "outputs": [
    {
     "ename": "AttributeError",
     "evalue": "'Figure' object has no attribute 'width'",
     "output_type": "error",
     "traceback": [
      "\u001b[0;31m---------------------------------------------------------------------------\u001b[0m",
      "\u001b[0;31mAttributeError\u001b[0m                            Traceback (most recent call last)",
      "\u001b[0;32m/tmp/ipykernel_3444689/1747148976.py\u001b[0m in \u001b[0;36m<module>\u001b[0;34m\u001b[0m\n\u001b[0;32m----> 1\u001b[0;31m \u001b[0mww\u001b[0m\u001b[0;34m.\u001b[0m\u001b[0mget_concat_h\u001b[0m\u001b[0;34m(\u001b[0m\u001b[0mf\u001b[0m\u001b[0;34m,\u001b[0m\u001b[0mf\u001b[0m\u001b[0;34m)\u001b[0m\u001b[0;34m\u001b[0m\u001b[0;34m\u001b[0m\u001b[0m\n\u001b[0m",
      "\u001b[0;32m/tmp/ipykernel_3444689/1097681162.py\u001b[0m in \u001b[0;36mget_concat_h\u001b[0;34m(im1, im2)\u001b[0m\n\u001b[1;32m     81\u001b[0m     \u001b[0;34m@\u001b[0m\u001b[0mstaticmethod\u001b[0m\u001b[0;34m\u001b[0m\u001b[0;34m\u001b[0m\u001b[0m\n\u001b[1;32m     82\u001b[0m     \u001b[0;32mdef\u001b[0m \u001b[0mget_concat_h\u001b[0m\u001b[0;34m(\u001b[0m\u001b[0mim1\u001b[0m\u001b[0;34m,\u001b[0m \u001b[0mim2\u001b[0m\u001b[0;34m)\u001b[0m\u001b[0;34m:\u001b[0m\u001b[0;34m\u001b[0m\u001b[0;34m\u001b[0m\u001b[0m\n\u001b[0;32m---> 83\u001b[0;31m         \u001b[0mdst\u001b[0m \u001b[0;34m=\u001b[0m \u001b[0mImage\u001b[0m\u001b[0;34m.\u001b[0m\u001b[0mnew\u001b[0m\u001b[0;34m(\u001b[0m\u001b[0;34m'RGB'\u001b[0m\u001b[0;34m,\u001b[0m \u001b[0;34m(\u001b[0m\u001b[0mim1\u001b[0m\u001b[0;34m.\u001b[0m\u001b[0mwidth\u001b[0m \u001b[0;34m+\u001b[0m \u001b[0mim2\u001b[0m\u001b[0;34m.\u001b[0m\u001b[0mwidth\u001b[0m\u001b[0;34m,\u001b[0m \u001b[0mim1\u001b[0m\u001b[0;34m.\u001b[0m\u001b[0mheight\u001b[0m\u001b[0;34m)\u001b[0m\u001b[0;34m)\u001b[0m\u001b[0;34m\u001b[0m\u001b[0;34m\u001b[0m\u001b[0m\n\u001b[0m\u001b[1;32m     84\u001b[0m         \u001b[0mdst\u001b[0m\u001b[0;34m.\u001b[0m\u001b[0mpaste\u001b[0m\u001b[0;34m(\u001b[0m\u001b[0mim1\u001b[0m\u001b[0;34m,\u001b[0m \u001b[0;34m(\u001b[0m\u001b[0;36m0\u001b[0m\u001b[0;34m,\u001b[0m \u001b[0;36m0\u001b[0m\u001b[0;34m)\u001b[0m\u001b[0;34m)\u001b[0m\u001b[0;34m\u001b[0m\u001b[0;34m\u001b[0m\u001b[0m\n\u001b[1;32m     85\u001b[0m         \u001b[0mdst\u001b[0m\u001b[0;34m.\u001b[0m\u001b[0mpaste\u001b[0m\u001b[0;34m(\u001b[0m\u001b[0mim2\u001b[0m\u001b[0;34m,\u001b[0m \u001b[0;34m(\u001b[0m\u001b[0mim1\u001b[0m\u001b[0;34m.\u001b[0m\u001b[0mwidth\u001b[0m\u001b[0;34m,\u001b[0m \u001b[0;36m0\u001b[0m\u001b[0;34m)\u001b[0m\u001b[0;34m)\u001b[0m\u001b[0;34m\u001b[0m\u001b[0;34m\u001b[0m\u001b[0m\n",
      "\u001b[0;31mAttributeError\u001b[0m: 'Figure' object has no attribute 'width'"
     ]
    }
   ],
   "source": [
    "ww.get_concat_h(f,f)"
   ]
  },
  {
   "cell_type": "code",
   "execution_count": 311,
   "metadata": {},
   "outputs": [
    {
     "data": {
      "text/plain": [
       "<matplotlib.image.AxesImage at 0x7f75f026b7f0>"
      ]
     },
     "execution_count": 311,
     "metadata": {},
     "output_type": "execute_result"
    },
    {
     "data": {
      "image/png": "[encoded data removed]",
      "text/plain": [
       "<Figure size 432x288 with 1 Axes>"
      ]
     },
     "metadata": {
      "needs_background": "light"
     },
     "output_type": "display_data"
    }
   ],
   "source": [
    "mask = model.model.model.model[0].edge_conv.mask\n",
    "idxs = torch.argsort(batch.y)\n",
    "mask = mask[idxs, :]\n",
    "mask = mask[:, idxs]\n",
    "plt.imshow(mask, cmap='hot', interpolation='nearest')\n",
    "\n"
   ]
  },
  {
   "cell_type": "code",
   "execution_count": 310,
   "metadata": {},
   "outputs": [
    {
     "data": {
      "text/plain": [
       "<matplotlib.image.AxesImage at 0x7f75f0b66160>"
      ]
     },
     "execution_count": 310,
     "metadata": {},
     "output_type": "execute_result"
    },
    {
     "data": {
      "image/png": "[encoded data removed]",
      "text/plain": [
       "<Figure size 432x288 with 1 Axes>"
      ]
     },
     "metadata": {
      "needs_background": "light"
     },
     "output_type": "display_data"
    }
   ],
   "source": [
    "probs = model.model.model.model[0].edge_conv.probs.cpu().detach()\n",
    "idxs = torch.argsort(batch.y)\n",
    "probs = probs[idxs, :]\n",
    "probs = probs[:, idxs]\n",
    "plt.imshow(probs, cmap='hot', interpolation='nearest')\n"
   ]
  },
  {
   "cell_type": "code",
   "execution_count": 306,
   "metadata": {},
   "outputs": [
    {
     "data": {
      "text/plain": [
       "tensor([[1.0000e+00, 1.0000e-06, 1.0000e-06,  ..., 1.0000e-06, 1.0000e-06,\n",
       "         1.0000e-06],\n",
       "        [1.0000e-06, 1.0000e+00, 1.0000e-06,  ..., 1.0000e-06, 1.0000e-06,\n",
       "         1.0000e-06],\n",
       "        [1.0000e-06, 1.0000e-06, 1.0000e+00,  ..., 1.0000e-06, 1.0000e-06,\n",
       "         1.0000e-06],\n",
       "        ...,\n",
       "        [1.0000e-06, 1.0000e-06, 1.0000e-06,  ..., 1.0000e+00, 1.0000e-06,\n",
       "         1.0000e-06],\n",
       "        [1.0000e-06, 1.0000e-06, 1.0000e-06,  ..., 1.0000e-06, 1.0000e+00,\n",
       "         1.0000e-06],\n",
       "        [1.0000e-06, 1.0000e-06, 1.0000e-06,  ..., 1.0000e-06, 1.0000e-06,\n",
       "         1.0000e+00]])"
      ]
     },
     "execution_count": 306,
     "metadata": {},
     "output_type": "execute_result"
    }
   ],
   "source": [
    "mask"
   ]
  },
  {
   "cell_type": "code",
   "execution_count": null,
   "metadata": {},
   "outputs": [],
   "source": []
  }
 ],
 "metadata": {
  "interpreter": {
   "hash": "1061a560117fc1d554286580e6b04c6556bc2e7c165f8614bc58451a75851637"
  },
  "kernelspec": {
   "display_name": "Python 3.9.7 64-bit ('lev_eg': conda)",
   "language": "python",
   "name": "python3"
  },
  "language_info": {
   "codemirror_mode": {
    "name": "ipython",
    "version": 3
   },
   "file_extension": ".py",
   "mimetype": "text/x-python",
   "name": "python",
   "nbconvert_exporter": "python",
   "pygments_lexer": "ipython3",
   "version": "3.9.7"
  },
  "orig_nbformat": 4
 },
 "nbformat": 4,
 "nbformat_minor": 2
}
