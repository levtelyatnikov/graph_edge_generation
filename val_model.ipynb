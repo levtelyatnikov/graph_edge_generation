{
 "cells": [
  {
   "cell_type": "code",
   "execution_count": 1,
   "metadata": {},
   "outputs": [
    {
     "data": {
      "text/plain": [
       "hydra.initialize()"
      ]
     },
     "execution_count": 1,
     "metadata": {},
     "output_type": "execute_result"
    }
   ],
   "source": [
    "import sys\n",
    "sys.path.append('/home/lev/object-centric/edge-generation/models/')\n",
    "import torch_geometric\n",
    "import torch\n",
    "from omegaconf import OmegaConf\n",
    "from dataloader import PL_DataModule\n",
    "from models.model import Network\n",
    "\n",
    "import hydra\n",
    "import matplotlib.pyplot as plt\n",
    "\n",
    "from hydra import compose, initialize\n",
    "from omegaconf import OmegaConf\n",
    "from sklearn.metrics import confusion_matrix\n",
    "import numpy as np\n",
    "# own modules\n",
    "from dataloader import PL_DataModule\n",
    "from method import LitModel\n",
    "\n",
    "initialize(config_path='outputs/2022-02-03/16-59-59/.hydra', job_name=\"test_app\")\n"
   ]
  },
  {
   "cell_type": "code",
   "execution_count": 2,
   "metadata": {},
   "outputs": [],
   "source": [
    "def get_dataloader(cfg):\n",
    "    return PL_DataModule(cfg.dataloader)\n",
    "def get_model_loaders(weights_path):\n",
    "    cfg = compose(config_name=\"config\")\n",
    "    # Setup dataloader and model\n",
    "    datamodule = get_dataloader(cfg)\n",
    "\n",
    "    # Obtain feature sizes and number of labels\n",
    "    batch = next(iter(datamodule.train_dataloader()))\n",
    "    cfg.model.opt.loader_batches = len(datamodule.train_dataloader())\n",
    "    cfg.model.insize ,cfg.model.outsize = batch.x.shape[1], torch.unique(batch.y).shape[0]\n",
    "    model = LitModel(cfg=cfg)\n",
    "    # upload weights\n",
    "    state_dict = torch.load(weights_path)['state_dict']\n",
    "    model.load_state_dict(state_dict)\n",
    "    return model, datamodule\n"
   ]
  },
  {
   "cell_type": "code",
   "execution_count": 3,
   "metadata": {},
   "outputs": [
    {
     "name": "stderr",
     "output_type": "stream",
     "text": [
      "Global seed set to 0\n",
      "/opt/anaconda3/envs/lev_eg/lib/python3.9/site-packages/torchmetrics/utilities/prints.py:36: UserWarning: Metric `AveragePrecision` will save all targets and predictions in buffer. For large datasets this may lead to large memory footprint.\n",
      "  warnings.warn(*args, **kwargs)\n",
      "/opt/anaconda3/envs/lev_eg/lib/python3.9/site-packages/torchmetrics/utilities/prints.py:36: UserWarning: Metric `AUROC` will save all targets and predictions in buffer. For large datasets this may lead to large memory footprint.\n",
      "  warnings.warn(*args, **kwargs)\n"
     ]
    }
   ],
   "source": [
    "weights_path = '/home/lev/object-centric/edge-generation/outputs/2022-02-03/16-59-59/some_project/2o7cfnqe/checkpoints/epoch=709-step=709.ckpt'\n",
    "\n",
    "model, datamodule = get_model_loaders(weights_path)\n",
    "\n",
    "batch = next(iter(datamodule.train_dataloader()))\n",
    "model.model.loss_function(batch)"
   ]
  },
  {
   "cell_type": "code",
   "execution_count": 4,
   "metadata": {},
   "outputs": [
    {
     "data": {
      "text/plain": [
       "{'loss': tensor(0.0702, dtype=torch.float64, grad_fn=<AddBackward0>),\n",
       " 'cross_entrop': tensor(0.0576, grad_fn=<NllLossBackward0>),\n",
       " 'accuracy': tensor(0.9785),\n",
       " 'f1': tensor([0.9785]),\n",
       " 'avr_precision': tensor(0.9978),\n",
       " 'aucroc': tensor(0.9997),\n",
       " 'temperatue_0': tensor(1.8626),\n",
       " 'temperatue_1': tensor(1.9298),\n",
       " 'temperatue_2': tensor(1.5702),\n",
       " 'loss_prob': tensor(0.0126, dtype=torch.float64, grad_fn=<MulBackward0>)}"
      ]
     },
     "execution_count": 4,
     "metadata": {},
     "output_type": "execute_result"
    }
   ],
   "source": []
  },
  {
   "cell_type": "code",
   "execution_count": 20,
   "metadata": {},
   "outputs": [
    {
     "name": "stdout",
     "output_type": "stream",
     "text": [
      "mean prob: \n"
     ]
    },
    {
     "data": {
      "image/png": "[encoded data removed]",
      "text/plain": [
       "<Figure size 432x288 with 1 Axes>"
      ]
     },
     "metadata": {
      "needs_background": "light"
     },
     "output_type": "display_data"
    },
    {
     "name": "stdout",
     "output_type": "stream",
     "text": [
      "edge stat: tensor(0.7645)\n",
      "mean prob: \n"
     ]
    },
    {
     "data": {
      "image/png": "[encoded data removed]",
      "text/plain": [
       "<Figure size 432x288 with 1 Axes>"
      ]
     },
     "metadata": {
      "needs_background": "light"
     },
     "output_type": "display_data"
    },
    {
     "name": "stdout",
     "output_type": "stream",
     "text": [
      "edge stat: tensor(0.4134)\n",
      "mean prob: \n"
     ]
    },
    {
     "data": {
      "image/png": "[encoded data removed]",
      "text/plain": [
       "<Figure size 432x288 with 1 Axes>"
      ]
     },
     "metadata": {
      "needs_background": "light"
     },
     "output_type": "display_data"
    },
    {
     "name": "stdout",
     "output_type": "stream",
     "text": [
      "edge stat: tensor(0.2016)\n"
     ]
    }
   ],
   "source": [
    "for i in range(len(model.model.model.model)):\n",
    "    print(\"mean prob: \")\n",
    "    plt.hist(model.model.model.model[i].edge_conv.probs.mean(dim=0).detach().cpu().numpy())\n",
    "    plt.show()\n",
    "    edge_index = model.model.model.model[i].edge_conv.edge_index\n",
    "\n",
    "    edge_index = edge_index[:,torch.argsort(edge_index[1])]\n",
    "    \n",
    "    \n",
    "    a = batch.y[edge_index[:,:]]\n",
    "    print('edge stat:', torch.sum(a[0] == a[1])/a.shape[1])\n",
    "    "
   ]
  },
  {
   "cell_type": "code",
   "execution_count": null,
   "metadata": {},
   "outputs": [],
   "source": [
    "\n",
    "path = '/home/lev/object-centric/edge-generation/outputs/2022-02-03/digits_minus_loss/some_project/1rwici2u/checkpoints/epoch=159-step=159.ckpt'\n",
    "\n",
    "model, datamodule = get_model_loaders(weights_path)\n",
    "\n",
    "batch = next(iter(datamodule.train_dataloader()))\n",
    "model.model.loss_function(batch)\n",
    "\n",
    "\n",
    "for i in range(len(model.model.model.model)):\n",
    "    print(\"mean prob: \")\n",
    "    plt.hist(model.model.model.model[i].edge_conv.probs.mean(dim=0).detach().cpu().numpy())\n",
    "    plt.show()\n",
    "    edge_index = model.model.model.model[i].edge_conv.edge_index\n",
    "\n",
    "    edge_index = edge_index[:,torch.argsort(edge_index[1])]\n",
    "    \n",
    "    \n",
    "    a = batch.y[edge_index[:,:]]\n",
    "    print('edge stat:', torch.sum(a[0] == a[1])/a.shape[1])\n",
    "    "
   ]
  },
  {
   "cell_type": "code",
   "execution_count": null,
   "metadata": {},
   "outputs": [],
   "source": [
    "compose(config_name=\"config\")"
   ]
  },
  {
   "cell_type": "code",
   "execution_count": 79,
   "metadata": {},
   "outputs": [
    {
     "data": {
      "text/plain": [
       "tensor([[ 69,  53,  47,   1,  70,   5,  67,  77,  32, 102],\n",
       "        [  0,   0,   0,   0,   0,   1,   1,   1,   1,   1]])"
      ]
     },
     "execution_count": 79,
     "metadata": {},
     "output_type": "execute_result"
    }
   ],
   "source": [
    "edge_index = model.model.model.model[0].edge_conv.edge_index\n",
    "\n",
    "edge_index = edge_index[:,torch.argsort(edge_index[1])]\n",
    "edge_index[:,:10]"
   ]
  },
  {
   "cell_type": "code",
   "execution_count": 80,
   "metadata": {},
   "outputs": [
    {
     "data": {
      "text/plain": [
       "tensor(0.3448)"
      ]
     },
     "execution_count": 80,
     "metadata": {},
     "output_type": "execute_result"
    }
   ],
   "source": [
    "a = batch.y[edge_index[:,:]]\n",
    "torch.sum(a[0] == a[1])/a.shape[1]"
   ]
  },
  {
   "cell_type": "code",
   "execution_count": 81,
   "metadata": {},
   "outputs": [
    {
     "data": {
      "text/plain": [
       "tensor([[ 69,  53,  47,  ...,  22,  44,  94],\n",
       "        [  0,   0,   0,  ..., 104, 104, 104]])"
      ]
     },
     "execution_count": 81,
     "metadata": {},
     "output_type": "execute_result"
    }
   ],
   "source": [
    "edge_index"
   ]
  },
  {
   "cell_type": "code",
   "execution_count": 47,
   "metadata": {},
   "outputs": [
    {
     "data": {
      "text/plain": [
       "tensor([0.5883, 0.1155, 0.3922, 0.5807, 0.5791, 0.6228, 0.5431, 0.6227, 0.3957,\n",
       "        0.5777, 0.6088, 0.3358, 0.6226, 0.3980, 0.3618, 0.5275, 0.5554, 0.0977,\n",
       "        0.4389, 0.5367, 0.1147, 0.1173, 0.5845, 0.4809, 0.3240, 0.6116, 0.4419,\n",
       "        0.6205, 0.2457, 0.5601, 0.6000, 0.5898, 0.4906, 0.4758, 0.6245, 0.0917,\n",
       "        0.4469, 0.1162, 0.5626, 0.2235, 0.6227, 0.5933, 0.6155, 0.6136, 0.6233],\n",
       "       grad_fn=<MeanBackward1>)"
      ]
     },
     "execution_count": 47,
     "metadata": {},
     "output_type": "execute_result"
    }
   ],
   "source": [
    "model.model.model.model[1].edge_conv.probs.mean(dim=1)"
   ]
  },
  {
   "cell_type": "code",
   "execution_count": 9,
   "metadata": {},
   "outputs": [
    {
     "data": {
      "text/plain": [
       "Network(\n",
       "  (model): EdgeNet(\n",
       "    (model): Sequential(\n",
       "      (0): Sequential(\n",
       "        (edge_conv): DynamicEdgeConv_DGM()\n",
       "        (act): ReLU()\n",
       "      )\n",
       "      (1): Sequential(\n",
       "        (edge_conv): DynamicEdgeConv_DGM()\n",
       "      )\n",
       "    )\n",
       "  )\n",
       "  (crossentropy): CrossEntropyLoss()\n",
       "  (acc): Accuracy()\n",
       "  (avr_precision): AveragePrecision()\n",
       "  (aucroc): AUROC()\n",
       ")"
      ]
     },
     "execution_count": 9,
     "metadata": {},
     "output_type": "execute_result"
    }
   ],
   "source": [
    "model.model\n"
   ]
  },
  {
   "cell_type": "code",
   "execution_count": null,
   "metadata": {},
   "outputs": [],
   "source": []
  }
 ],
 "metadata": {
  "interpreter": {
   "hash": "1061a560117fc1d554286580e6b04c6556bc2e7c165f8614bc58451a75851637"
  },
  "kernelspec": {
   "display_name": "Python 3.9.7 64-bit ('lev_eg': conda)",
   "language": "python",
   "name": "python3"
  },
  "language_info": {
   "codemirror_mode": {
    "name": "ipython",
    "version": 3
   },
   "file_extension": ".py",
   "mimetype": "text/x-python",
   "name": "python",
   "nbconvert_exporter": "python",
   "pygments_lexer": "ipython3",
   "version": "3.9.7"
  },
  "orig_nbformat": 4
 },
 "nbformat": 4,
 "nbformat_minor": 2
}
